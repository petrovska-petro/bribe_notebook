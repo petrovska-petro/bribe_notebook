{
 "cells": [
  {
   "cell_type": "code",
   "execution_count": 26,
   "metadata": {
    "collapsed": true,
    "pycharm": {
     "name": "#%%\n"
    }
   },
   "outputs": [],
   "source": [
    "from ape import networks, Contract\n",
    "import pandas as pd\n",
    "\n",
    "from helpers.coingecko import get_prices\n",
    "from helpers.subgraph_endpoints import *\n",
    "from helpers.aura import get_gravi_in_balancer_pool, weekly_emissions_after_fee, aura_mint_ratio\n",
    "from helpers.vp_info import get_council_vp_fee, get_voter_vp\n",
    "from helpers.bribe_info import get_bribe_info, GAUGE_CAP\n",
    "from helpers.formatter import pct_format, dollar_format"
   ]
  },
  {
   "cell_type": "code",
   "execution_count": null,
   "metadata": {},
   "outputs": [],
   "source": [
    "networks.parse_network_choice(\"ethereum:mainnet\").__enter__()"
   ]
  },
  {
   "cell_type": "code",
   "execution_count": 28,
   "metadata": {},
   "outputs": [
    {
     "data": {
      "text/html": "<div>\n<style scoped>\n    .dataframe tbody tr th:only-of-type {\n        vertical-align: middle;\n    }\n\n    .dataframe tbody tr th {\n        vertical-align: top;\n    }\n\n    .dataframe thead th {\n        text-align: right;\n    }\n</style>\n<table border=\"1\" class=\"dataframe\">\n  <thead>\n    <tr style=\"text-align: right;\">\n      <th></th>\n      <th>Badger price</th>\n      <th>Balancer price</th>\n      <th>Aura price</th>\n      <th>Rpl price</th>\n    </tr>\n  </thead>\n  <tbody>\n    <tr>\n      <th>0</th>\n      <td>$2.70</td>\n      <td>$5.62</td>\n      <td>$2.12</td>\n      <td>$16.72</td>\n    </tr>\n  </tbody>\n</table>\n</div>",
      "text/plain": "  Badger price Balancer price Aura price Rpl price\n0        $2.70          $5.62      $2.12    $16.72"
     },
     "execution_count": 28,
     "metadata": {},
     "output_type": "execute_result"
    }
   ],
   "source": [
    "bal_price, aura_price,  badger_price, rpl_price = get_prices()\n",
    "data = [[\"${:.2f}\".format(badger_price),  \"${:.2f}\".format(bal_price), \"${:.2f}\".format(aura_price), \"${:.2f}\".format(rpl_price)]]\n",
    "headers = [\"Badger price\", \"Balancer price\", \"Aura price\", \"Rpl price\"]\n",
    "df_prices = pd.DataFrame(data, columns=headers)\n",
    "df_prices"
   ]
  },
  {
   "cell_type": "code",
   "execution_count": 29,
   "metadata": {},
   "outputs": [
    {
     "data": {
      "text/html": "<div>\n<style scoped>\n    .dataframe tbody tr th:only-of-type {\n        vertical-align: middle;\n    }\n\n    .dataframe tbody tr th {\n        vertical-align: top;\n    }\n\n    .dataframe thead th {\n        text-align: right;\n    }\n</style>\n<table border=\"1\" class=\"dataframe\">\n  <thead>\n    <tr style=\"text-align: right;\">\n      <th></th>\n      <th>Proposal block height</th>\n      <th>Past Round Active vlAURA votes</th>\n      <th>Cost per Vote Last Round</th>\n    </tr>\n  </thead>\n  <tbody>\n    <tr>\n      <th>0</th>\n      <td>16037021</td>\n      <td>8852684</td>\n      <td>$0.0633</td>\n    </tr>\n  </tbody>\n</table>\n</div>",
      "text/plain": "   Proposal block height Past Round Active vlAURA votes  \\\n0               16037021                        8852684   \n\n  Cost per Vote Last Round  \n0                  $0.0633  "
     },
     "execution_count": 29,
     "metadata": {},
     "output_type": "execute_result"
    }
   ],
   "source": [
    "# NOTE: modify with right proposal (latest & current)\n",
    "proposal_id_last = \"0x965fb50ce65ca8ee973e8d00e896c70e5a78de075b8703bc43079bbf27191301\"\n",
    "proposal_id_current = \"0xcbbaf8ec970f2a40fb00a85a02fe539fefb10b2e73f95ce0182451f1dde9bafe\"\n",
    "\n",
    "cost_per_vote_after_fee = get_cost_per_vote_after_fee(\"bribes-overview-aura\")\n",
    "\n",
    "# check active voter in past proposal as ref\n",
    "response_last_proposal = get_proposal_info(proposal_id_last)\n",
    "response_current_proposal = get_proposal_info(proposal_id_current)\n",
    "\n",
    "block_current_proposal = int(response_current_proposal[\"snapshot\"])\n",
    "aura_voting_actively_last_round = response_last_proposal[\"scores_total\"]\n",
    "data = [[block_current_proposal,  f'{aura_voting_actively_last_round:.0f}', dollar_format(cost_per_vote_after_fee)]]\n",
    "headers = [\"Proposal block height\", \"Past Round Active vlAURA votes\", \"Cost per Vote Last Round\"]\n",
    "df_llama = pd.DataFrame(data, columns=headers)\n",
    "df_llama\n"
   ]
  },
  {
   "cell_type": "code",
   "execution_count": 30,
   "metadata": {},
   "outputs": [
    {
     "data": {
      "text/html": "<div>\n<style scoped>\n    .dataframe tbody tr th:only-of-type {\n        vertical-align: middle;\n    }\n\n    .dataframe tbody tr th {\n        vertical-align: top;\n    }\n\n    .dataframe thead th {\n        text-align: right;\n    }\n</style>\n<table border=\"1\" class=\"dataframe\">\n  <thead>\n    <tr style=\"text-align: right;\">\n      <th></th>\n      <th>Aura Mint Balancer Ratio</th>\n      <th>Bi-weekly Emissions</th>\n    </tr>\n  </thead>\n  <tbody>\n    <tr>\n      <th>0</th>\n      <td>3.650248</td>\n      <td>$2905479.4688</td>\n    </tr>\n  </tbody>\n</table>\n</div>",
      "text/plain": "   Aura Mint Balancer Ratio Bi-weekly Emissions\n0                  3.650248       $2905479.4688"
     },
     "execution_count": 30,
     "metadata": {},
     "output_type": "execute_result"
    }
   ],
   "source": [
    "# emissions ecosystem\n",
    "aura = Contract('0xC0c293ce456fF0ED870ADd98a0828Dd4d2903DBF')\n",
    "aura_mint_ratio = aura_mint_ratio(aura, block_current_proposal)\n",
    "weekly_emissions_after_fee = weekly_emissions_after_fee(aura_mint_ratio, bal_price, aura_price)\n",
    "biweekly_emissions = weekly_emissions_after_fee * 2\n",
    "data = [[aura_mint_ratio, dollar_format(biweekly_emissions)]]\n",
    "headers = [\"Aura Mint Balancer Ratio\", \"Bi-weekly Emissions\"]\n",
    "df_emissions = pd.DataFrame(data, columns=headers)\n",
    "df_emissions"
   ]
  },
  {
   "cell_type": "code",
   "execution_count": 31,
   "metadata": {
    "collapsed": false,
    "pycharm": {
     "name": "#%%\n"
    }
   },
   "outputs": [
    {
     "data": {
      "text/html": "<div>\n<style scoped>\n    .dataframe tbody tr th:only-of-type {\n        vertical-align: middle;\n    }\n\n    .dataframe tbody tr th {\n        vertical-align: top;\n    }\n\n    .dataframe thead th {\n        text-align: right;\n    }\n</style>\n<table border=\"1\" class=\"dataframe\">\n  <thead>\n    <tr style=\"text-align: right;\">\n      <th></th>\n      <th>Treasury VP</th>\n      <th>Council Fee</th>\n      <th>Total Badger VP</th>\n      <th>Gravi in Digg pool</th>\n      <th>Total Badger Council VP - if voting for DIGG</th>\n      <th>Badger Aura Controlled - everyone Votes</th>\n      <th>Badger Aura Controlled - proactive voters</th>\n    </tr>\n  </thead>\n  <tbody>\n    <tr>\n      <th>0</th>\n      <td>269987.684476</td>\n      <td>61804.859476</td>\n      <td>331792.543952</td>\n      <td>164896.587674</td>\n      <td>164896.587674</td>\n      <td>3.253%</td>\n      <td>3.748%</td>\n    </tr>\n  </tbody>\n</table>\n</div>",
      "text/plain": "     Treasury VP   Council Fee  Total Badger VP  Gravi in Digg pool  \\\n0  269987.684476  61804.859476    331792.543952       164896.587674   \n\n   Total Badger Council VP - if voting for DIGG  \\\n0                                 164896.587674   \n\n  Badger Aura Controlled - everyone Votes  \\\n0                                  3.253%   \n\n  Badger Aura Controlled - proactive voters  \n0                                    3.748%  "
     },
     "execution_count": 31,
     "metadata": {},
     "output_type": "execute_result"
    }
   ],
   "source": [
    "vlAURA = Contract(\"0x3Fa73f1E5d8A792C80F426fc8F84FBF7Ce9bBCAC\")\n",
    "vlAURA_ts = vlAURA.totalSupply(block_identifier=block_current_proposal)/1e18\n",
    "council_fee = get_council_vp_fee(vlAURA, block_current_proposal)\n",
    "\n",
    "# digg pool\n",
    "balancer_vault = Contract(\"0xBA12222222228d8Ba445958a75a0704d566BF2C8\")\n",
    "gravi_in_digg_pool = get_gravi_in_balancer_pool(balancer_vault, block_current_proposal)\n",
    "total_gravi_vp_for_digg = gravi_in_digg_pool\n",
    "\n",
    "treasury_votes = get_voter_vp(vlAURA, block_current_proposal)\n",
    "total_vp_badgerdao = treasury_votes + council_fee\n",
    "\n",
    "pct_controlled_aura_by_badger_treasury = treasury_votes / vlAURA_ts\n",
    "pct_controlled_aura_by_badger_treasury_active = treasury_votes / aura_voting_actively_last_round\n",
    "pct_controlled_aura_by_badger = total_vp_badgerdao/ vlAURA_ts\n",
    "pct_controlled_aura_by_badger_active = total_vp_badgerdao/ aura_voting_actively_last_round\n",
    "pct_controlled_aura_by_council_active = total_gravi_vp_for_digg / aura_voting_actively_last_round\n",
    "data = [[treasury_votes, council_fee, total_vp_badgerdao, gravi_in_digg_pool, total_gravi_vp_for_digg, pct_format(pct_controlled_aura_by_badger), pct_format(pct_controlled_aura_by_badger_active)]]\n",
    "headers = [\"Treasury VP\", \"Council Fee\", \"Total Badger VP\", \"Gravi in Digg pool\", \"Total Badger Council VP - if voting for DIGG\", \"Badger Aura Controlled - everyone Votes\", \"Badger Aura Controlled - proactive voters\"]\n",
    "df_vp = pd.DataFrame(data, columns=headers)\n",
    "df_vp"
   ]
  },
  {
   "cell_type": "code",
   "execution_count": 32,
   "metadata": {},
   "outputs": [
    {
     "data": {
      "text/html": "<div>\n<style scoped>\n    .dataframe tbody tr th:only-of-type {\n        vertical-align: middle;\n    }\n\n    .dataframe tbody tr th {\n        vertical-align: top;\n    }\n\n    .dataframe thead th {\n        text-align: right;\n    }\n</style>\n<table border=\"1\" class=\"dataframe\">\n  <thead>\n    <tr style=\"text-align: right;\">\n      <th></th>\n      <th>Aura veBAL controlled</th>\n      <th>Badger veBAL controlled - everyone votes</th>\n      <th>Badger veBAL controlled - proactive voters</th>\n    </tr>\n  </thead>\n  <tbody>\n    <tr>\n      <th>0</th>\n      <td>23.770%</td>\n      <td>0.773%</td>\n      <td>0.891%</td>\n    </tr>\n  </tbody>\n</table>\n</div>",
      "text/plain": "  Aura veBAL controlled Badger veBAL controlled - everyone votes  \\\n0               23.770%                                   0.773%   \n\n  Badger veBAL controlled - proactive voters  \n0                                     0.891%  "
     },
     "execution_count": 32,
     "metadata": {},
     "output_type": "execute_result"
    }
   ],
   "source": [
    "vebal = Contract(\"0xC128a9954e6c874eA3d62ce62B468bA073093F25\")\n",
    "vebal_ts = vebal.totalSupplyAt(block_current_proposal) / 1e18\n",
    "vebal_aura_controlled = vebal.balanceOfAt(\"0xaF52695E1bB01A16D33D7194C28C42b10e0Dbec2\", block_current_proposal)/1e18\n",
    "pct_aura_vebal_controlled = vebal_aura_controlled/vebal_ts\n",
    "pct_badger_vebal_controlled = pct_controlled_aura_by_badger*pct_aura_vebal_controlled\n",
    "pct_badger_vebal_controlled_active = pct_controlled_aura_by_badger_active*pct_aura_vebal_controlled\n",
    "pct_council_vebal_controlled_active = pct_controlled_aura_by_council_active * pct_aura_vebal_controlled\n",
    "data = [[pct_format(pct_aura_vebal_controlled), pct_format(pct_badger_vebal_controlled), pct_format(pct_badger_vebal_controlled_active)]]\n",
    "headers = [\"Aura veBAL controlled\", \"Badger veBAL controlled - everyone votes\", \"Badger veBAL controlled - proactive voters\"]\n",
    "df_vebal = pd.DataFrame(data, columns=headers)\n",
    "df_vebal"
   ]
  },
  {
   "cell_type": "code",
   "execution_count": 33,
   "metadata": {},
   "outputs": [
    {
     "data": {
      "text/html": "<div>\n<style scoped>\n    .dataframe tbody tr th:only-of-type {\n        vertical-align: middle;\n    }\n\n    .dataframe tbody tr th {\n        vertical-align: top;\n    }\n\n    .dataframe thead th {\n        text-align: right;\n    }\n</style>\n<table border=\"1\" class=\"dataframe\">\n  <thead>\n    <tr style=\"text-align: right;\">\n      <th></th>\n      <th>vlAURA badger/wbtc pool</th>\n      <th>veBAL relative weight</th>\n    </tr>\n  </thead>\n  <tbody>\n    <tr>\n      <th>0</th>\n      <td>269987.684476</td>\n      <td>0.725%</td>\n    </tr>\n  </tbody>\n</table>\n</div>",
      "text/plain": "   vlAURA badger/wbtc pool veBAL relative weight\n0            269987.684476                0.725%"
     },
     "execution_count": 33,
     "metadata": {},
     "output_type": "execute_result"
    }
   ],
   "source": [
    "# NOTE: block vlaura/vebal relative weight breakdown for badger/wbtc cap\n",
    "vlAURA_voting_badger_wbtc = treasury_votes\n",
    "vebal_expected_relative_weight_badger_wbtc = pct_controlled_aura_by_badger_treasury_active * pct_aura_vebal_controlled\n",
    "data = [[vlAURA_voting_badger_wbtc, pct_format(vebal_expected_relative_weight_badger_wbtc)]]\n",
    "headers = [\"vlAURA badger/wbtc pool\", \"veBAL relative weight\"]\n",
    "df_bribes_badger_pool = pd.DataFrame(data, columns=headers)\n",
    "df_bribes_badger_pool"
   ]
  },
  {
   "cell_type": "code",
   "execution_count": 34,
   "metadata": {},
   "outputs": [
    {
     "data": {
      "text/html": "<div>\n<style scoped>\n    .dataframe tbody tr th:only-of-type {\n        vertical-align: middle;\n    }\n\n    .dataframe tbody tr th {\n        vertical-align: top;\n    }\n\n    .dataframe thead th {\n        text-align: right;\n    }\n</style>\n<table border=\"1\" class=\"dataframe\">\n  <thead>\n    <tr style=\"text-align: right;\">\n      <th></th>\n      <th>vlAURA DIGG pool</th>\n      <th>veBAL relative weight</th>\n    </tr>\n  </thead>\n  <tbody>\n    <tr>\n      <th>0</th>\n      <td>164896.587674</td>\n      <td>0.443%</td>\n    </tr>\n  </tbody>\n</table>\n</div>",
      "text/plain": "   vlAURA DIGG pool veBAL relative weight\n0     164896.587674                0.443%"
     },
     "execution_count": 34,
     "metadata": {},
     "output_type": "execute_result"
    }
   ],
   "source": [
    "# NOTE: block vlaura/vebal relative weight breakdown for digg/wbtc/gravi cap\n",
    "vlAURA_voting_digg_pool = total_gravi_vp_for_digg\n",
    "vebal_expected_relative_weight_digg = pct_controlled_aura_by_council_active * pct_aura_vebal_controlled\n",
    "data = [[vlAURA_voting_digg_pool, pct_format(vebal_expected_relative_weight_digg)]]\n",
    "headers = [\"vlAURA DIGG pool\", \"veBAL relative weight\"]\n",
    "df_bribes_digg_pool = pd.DataFrame(data, columns=headers)\n",
    "df_bribes_digg_pool"
   ]
  },
  {
   "cell_type": "code",
   "execution_count": 35,
   "metadata": {},
   "outputs": [
    {
     "data": {
      "text/html": "<div>\n<style scoped>\n    .dataframe tbody tr th:only-of-type {\n        vertical-align: middle;\n    }\n\n    .dataframe tbody tr th {\n        vertical-align: top;\n    }\n\n    .dataframe thead th {\n        text-align: right;\n    }\n</style>\n<table border=\"1\" class=\"dataframe\">\n  <thead>\n    <tr style=\"text-align: right;\">\n      <th></th>\n      <th>Bribe allocated to badger/reth pool (BADGER)</th>\n      <th>Bribe allocated to badger/reth pool (RPL) - TBD</th>\n      <th>Bribe allocated to badger/reth pool (CORE-USDC)</th>\n    </tr>\n  </thead>\n  <tbody>\n    <tr>\n      <th>0</th>\n      <td>16000</td>\n      <td>225</td>\n      <td>714.652267</td>\n    </tr>\n  </tbody>\n</table>\n</div>",
      "text/plain": "   Bribe allocated to badger/reth pool (BADGER)  \\\n0                                         16000   \n\n   Bribe allocated to badger/reth pool (RPL) - TBD  \\\n0                                              225   \n\n   Bribe allocated to badger/reth pool (CORE-USDC)  \n0                                       714.652267  "
     },
     "execution_count": 35,
     "metadata": {},
     "output_type": "execute_result"
    }
   ],
   "source": [
    "# bribes allocations\n",
    "bribe_for_reth_badger = 16_000\n",
    "bribe_for_reth_badger_from_rocket = 225\n",
    "# since badgerreth pool is core, inspect the prop aura bribe expected from Balancer\n",
    "tvl_rethbadger = get_tvl_balancer_badgerreth_pool()\n",
    "badgereth_pool = Contract(\"0xe340EBfcAA544da8bB1Ee9005F1a346D50Ec422e\")\n",
    "pool_badgereth_supply = badgereth_pool.totalSupply() / 1e18\n",
    "balancer_protocol_fee_collector = \"0xce88686553686DA562CE7Cea497CE749DA109f9F\"\n",
    "fees_balancer_earned = badgereth_pool.balanceOf(balancer_protocol_fee_collector) / 1e18\n",
    "collected_fee_dollar = (fees_balancer_earned / pool_badgereth_supply) * tvl_rethbadger\n",
    "bribe_for_reth_badger_core = (\n",
    "    collected_fee_dollar - collected_fee_dollar * 0.25\n",
    ") * pct_aura_vebal_controlled\n",
    "# display\n",
    "data = [\n",
    "    [\n",
    "        bribe_for_reth_badger,\n",
    "        bribe_for_reth_badger_from_rocket,\n",
    "        bribe_for_reth_badger_core\n",
    "    ]\n",
    "]\n",
    "headers = [\n",
    "    \"Bribe allocated to badger/reth pool (BADGER)\",\n",
    "    \"Bribe allocated to badger/reth pool (RPL) - TBD\",\n",
    "    \"Bribe allocated to badger/reth pool (CORE-USDC)\"\n",
    "]\n",
    "df_bribes_allocation = pd.DataFrame(data, columns=headers)\n",
    "df_bribes_allocation"
   ]
  },
  {
   "cell_type": "code",
   "execution_count": 36,
   "metadata": {},
   "outputs": [
    {
     "data": {
      "text/html": "<div>\n<style scoped>\n    .dataframe tbody tr th:only-of-type {\n        vertical-align: middle;\n    }\n\n    .dataframe tbody tr th {\n        vertical-align: top;\n    }\n\n    .dataframe thead th {\n        text-align: right;\n    }\n</style>\n<table border=\"1\" class=\"dataframe\">\n  <thead>\n    <tr style=\"text-align: right;\">\n      <th></th>\n      <th>vlAURA badger/reth pool</th>\n      <th>veBAL relative weight</th>\n      <th>Bribe Cost</th>\n    </tr>\n  </thead>\n  <tbody>\n    <tr>\n      <th>0</th>\n      <td>693602.933054</td>\n      <td>1.862%</td>\n      <td>$43914.6523</td>\n    </tr>\n  </tbody>\n</table>\n</div>",
      "text/plain": "   vlAURA badger/reth pool veBAL relative weight   Bribe Cost\n0            693602.933054                1.862%  $43914.6523"
     },
     "execution_count": 36,
     "metadata": {},
     "output_type": "execute_result"
    }
   ],
   "source": [
    "# badger/reth prediction for vebal relative weight given the bribe\n",
    "# NOTE: add in case the rocket confirms co-incentive -> bribe_for_reth_badger_from_rocket * rpl_price \n",
    "bribe_badgereth_usd = bribe_for_reth_badger * badger_price + bribe_for_reth_badger_core\n",
    "vlAURA_votes_bought = bribe_badgereth_usd / cost_per_vote_after_fee\n",
    "pct_controlled_aura_by_bribing_badger_reth = vlAURA_votes_bought / aura_voting_actively_last_round\n",
    "vebal_expected_relative_weight_badger_reth = pct_controlled_aura_by_bribing_badger_reth * pct_aura_vebal_controlled\n",
    "data = [[vlAURA_votes_bought, pct_format(vebal_expected_relative_weight_badger_reth), dollar_format(bribe_badgereth_usd)]]\n",
    "headers = [\"vlAURA badger/reth pool\", \"veBAL relative weight\", \"Bribe Cost\"]\n",
    "df_bribe_breakdown_badgereth = pd.DataFrame(data, columns=headers)\n",
    "df_bribe_breakdown_badgereth"
   ]
  },
  {
   "cell_type": "code",
   "execution_count": 37,
   "metadata": {},
   "outputs": [
    {
     "data": {
      "text/html": "<div>\n<style scoped>\n    .dataframe tbody tr th:only-of-type {\n        vertical-align: middle;\n    }\n\n    .dataframe tbody tr th {\n        vertical-align: top;\n    }\n\n    .dataframe thead th {\n        text-align: right;\n    }\n</style>\n<table border=\"1\" class=\"dataframe\">\n  <thead>\n    <tr style=\"text-align: right;\">\n      <th></th>\n      <th>Pool yield (USD) - biweekly</th>\n      <th>BADGER Pool TVL</th>\n      <th>BADGER Pool Capture</th>\n      <th>Treasury yield earned (USD) - biweekly</th>\n    </tr>\n  </thead>\n  <tbody>\n    <tr>\n      <th>0</th>\n      <td>$21062.3887</td>\n      <td>$5071117.8701</td>\n      <td>43.934%</td>\n      <td>$9253.5671</td>\n    </tr>\n  </tbody>\n</table>\n</div>",
      "text/plain": "  Pool yield (USD) - biweekly BADGER Pool TVL BADGER Pool Capture  \\\n0                 $21062.3887   $5071117.8701             43.934%   \n\n  Treasury yield earned (USD) - biweekly  \n0                             $9253.5671  "
     },
     "execution_count": 37,
     "metadata": {},
     "output_type": "execute_result"
    }
   ],
   "source": [
    "# treasury expected earnings bi-weekly expectation in BADGER/WBTC pool\n",
    "tvl_badger = get_tvl_balancer_badger_pool()\n",
    "badger_pool = Contract(\"0xb460DAa847c45f1C4a41cb05BFB3b51c92e41B36\")\n",
    "pool_supply = badger_pool.totalSupply() / 1e18\n",
    "reward_badger_aura = Contract(\"0x05df1E87f41F793D9e03d341Cdc315b76595654C\")\n",
    "vault_rewards_contract_balance = reward_badger_aura.balanceOf(\"0xD0A7A8B98957b9CD3cFB9c0425AbE44551158e9e\", block_identifier=block_current_proposal)/1e18\n",
    "vault_owned_tcl = tvl_badger * (vault_rewards_contract_balance/pool_supply)\n",
    "pool_capture = vault_owned_tcl / tvl_badger\n",
    "pool_earnings = biweekly_emissions * vebal_expected_relative_weight_badger_wbtc\n",
    "data = [[dollar_format(pool_earnings), dollar_format(tvl_badger), pct_format(pool_capture), dollar_format(pool_earnings*pool_capture)]]\n",
    "headers = [\"Pool yield (USD) - biweekly\", \"BADGER Pool TVL\", \"BADGER Pool Capture\", \"Treasury yield earned (USD) - biweekly\"]\n",
    "df_earnings_badger_pool = pd.DataFrame(data, columns=headers)\n",
    "df_earnings_badger_pool"
   ]
  },
  {
   "cell_type": "code",
   "execution_count": 38,
   "metadata": {},
   "outputs": [
    {
     "data": {
      "text/html": "<div>\n<style scoped>\n    .dataframe tbody tr th:only-of-type {\n        vertical-align: middle;\n    }\n\n    .dataframe tbody tr th {\n        vertical-align: top;\n    }\n\n    .dataframe thead th {\n        text-align: right;\n    }\n</style>\n<table border=\"1\" class=\"dataframe\">\n  <thead>\n    <tr style=\"text-align: right;\">\n      <th></th>\n      <th>Pool yield (USD) - biweekly</th>\n      <th>DIGG Pool TVL</th>\n      <th>DIGG Pool Capture</th>\n      <th>Treasury yield earned (USD) - biweekly</th>\n    </tr>\n  </thead>\n  <tbody>\n    <tr>\n      <th>0</th>\n      <td>$12863.9795</td>\n      <td>$1804052.2526</td>\n      <td>41.107%</td>\n      <td>$5288.0276</td>\n    </tr>\n  </tbody>\n</table>\n</div>",
      "text/plain": "  Pool yield (USD) - biweekly  DIGG Pool TVL DIGG Pool Capture  \\\n0                 $12863.9795  $1804052.2526           41.107%   \n\n  Treasury yield earned (USD) - biweekly  \n0                             $5288.0276  "
     },
     "execution_count": 38,
     "metadata": {},
     "output_type": "execute_result"
    }
   ],
   "source": [
    "# treasury expected earnings bi-weekly expectation in DIGG pool\n",
    "tvl_digg = get_tvl_balancer_digg_pool()\n",
    "digg_pool = Contract(\"0x8eB6c82C3081bBBd45DcAC5afA631aaC53478b7C\")\n",
    "pool_supply = digg_pool.totalSupply() / 1e18\n",
    "reward_badger_aura = Contract(\"0xe86f0312b06126855810b4a13a43c3e2b1b8dd90\")\n",
    "vault_rewards_contract_balance = reward_badger_aura.balanceOf(\"0xD0A7A8B98957b9CD3cFB9c0425AbE44551158e9e\", block_identifier=block_current_proposal)/1e18\n",
    "vault_owned_tcl = tvl_digg * (vault_rewards_contract_balance/pool_supply)\n",
    "pool_capture = vault_owned_tcl / tvl_digg\n",
    "pool_earnings = biweekly_emissions * vebal_expected_relative_weight_digg\n",
    "data = [[dollar_format(pool_earnings), dollar_format(tvl_digg), pct_format(pool_capture), dollar_format(pool_earnings*pool_capture)]]\n",
    "headers = [\"Pool yield (USD) - biweekly\", \"DIGG Pool TVL\", \"DIGG Pool Capture\", \"Treasury yield earned (USD) - biweekly\"]\n",
    "df_earnings_badger_pool = pd.DataFrame(data, columns=headers)\n",
    "df_earnings_badger_pool"
   ]
  },
  {
   "cell_type": "code",
   "execution_count": 39,
   "metadata": {},
   "outputs": [
    {
     "data": {
      "text/html": "<div>\n<style scoped>\n    .dataframe tbody tr th:only-of-type {\n        vertical-align: middle;\n    }\n\n    .dataframe tbody tr th {\n        vertical-align: top;\n    }\n\n    .dataframe thead th {\n        text-align: right;\n    }\n</style>\n<table border=\"1\" class=\"dataframe\">\n  <thead>\n    <tr style=\"text-align: right;\">\n      <th></th>\n      <th>Pool yield (USD) - biweekly</th>\n      <th>BADGER/RETH Pool TVL</th>\n      <th>BADGER/RETH Pool Capture</th>\n      <th>Treasury yield earned (USD) - biweekly</th>\n      <th>Treasury ROI - biweekly</th>\n    </tr>\n  </thead>\n  <tbody>\n    <tr>\n      <th>0</th>\n      <td>$54109.6332</td>\n      <td>$2390018.8826</td>\n      <td>64.655%</td>\n      <td>$34984.6582</td>\n      <td>80.983%</td>\n    </tr>\n  </tbody>\n</table>\n</div>",
      "text/plain": "  Pool yield (USD) - biweekly BADGER/RETH Pool TVL BADGER/RETH Pool Capture  \\\n0                 $54109.6332        $2390018.8826                  64.655%   \n\n  Treasury yield earned (USD) - biweekly Treasury ROI - biweekly  \n0                            $34984.6582                 80.983%  "
     },
     "execution_count": 39,
     "metadata": {},
     "output_type": "execute_result"
    }
   ],
   "source": [
    "# treasury expected earnings bi-weekly expectation post-bribe into BADGER/RETH pool\n",
    "reward_badger_aura = Contract(\"0x685c94e7da6c8f14ae58f168c942fb05bad73412\")\n",
    "vault_rewards_contract_balance = reward_badger_aura.balanceOf(\"0xD0A7A8B98957b9CD3cFB9c0425AbE44551158e9e\", block_identifier=block_current_proposal)/1e18\n",
    "vault_owned_tcl = tvl_digg * (vault_rewards_contract_balance/pool_badgereth_supply)\n",
    "pool_capture = vault_owned_tcl / tvl_digg\n",
    "pool_earnings = biweekly_emissions * vebal_expected_relative_weight_badger_reth\n",
    "# NOTE: remove the core bribe as it is not DAO cost\n",
    "treasury_roi = (pool_earnings*pool_capture) / (bribe_badgereth_usd - bribe_for_reth_badger_core)\n",
    "data = [[dollar_format(pool_earnings), dollar_format(tvl_rethbadger), pct_format(pool_capture), dollar_format(pool_earnings*pool_capture), pct_format(treasury_roi)]]\n",
    "headers = [\"Pool yield (USD) - biweekly\", \"BADGER/RETH Pool TVL\", \"BADGER/RETH Pool Capture\", \"Treasury yield earned (USD) - biweekly\", \"Treasury ROI - biweekly\"]\n",
    "df_earnings_badger_pool = pd.DataFrame(data, columns=headers)\n",
    "df_earnings_badger_pool\n"
   ]
  },
  {
   "cell_type": "code",
   "execution_count": 40,
   "metadata": {},
   "outputs": [
    {
     "data": {
      "text/html": "<div>\n<style scoped>\n    .dataframe tbody tr th:only-of-type {\n        vertical-align: middle;\n    }\n\n    .dataframe tbody tr th {\n        vertical-align: top;\n    }\n\n    .dataframe thead th {\n        text-align: right;\n    }\n</style>\n<table border=\"1\" class=\"dataframe\">\n  <thead>\n    <tr style=\"text-align: right;\">\n      <th></th>\n      <th>vlAURA Required</th>\n      <th>Cost of Maxing Cap</th>\n      <th>Badger Bribe Max Cap</th>\n      <th>Expected Bribe reclyced</th>\n    </tr>\n  </thead>\n  <tbody>\n    <tr>\n      <th>0</th>\n      <td>744876.26756</td>\n      <td>$47160.9630</td>\n      <td>17467.023338</td>\n      <td>6331.093352</td>\n    </tr>\n  </tbody>\n</table>\n</div>",
      "text/plain": "   vlAURA Required Cost of Maxing Cap  Badger Bribe Max Cap  \\\n0     744876.26756        $47160.9630          17467.023338   \n\n   Expected Bribe reclyced  \n0              6331.093352  "
     },
     "execution_count": 40,
     "metadata": {},
     "output_type": "execute_result"
    }
   ],
   "source": [
    "# NOTE: block to max out badger/wbtc cap\n",
    "vlAURA_req, cost_of_max_cap, badger_to_bribe_badger_pool = get_bribe_info(treasury_votes, pct_controlled_aura_by_badger_treasury_active*pct_aura_vebal_controlled, cost_per_vote_after_fee,badger_price)\n",
    "bribe_reclycing_badger_voting = badger_to_bribe_badger_pool * (treasury_votes/vlAURA_req)\n",
    "data = [[vlAURA_req, dollar_format(cost_of_max_cap), badger_to_bribe_badger_pool, bribe_reclycing_badger_voting]]\n",
    "headers = [\"vlAURA Required\", \"Cost of Maxing Cap\", \"Badger Bribe Max Cap\", \"Expected Bribe reclyced\"]\n",
    "df_bribes_badger_pool = pd.DataFrame(data, columns=headers)\n",
    "df_bribes_badger_pool"
   ]
  },
  {
   "cell_type": "code",
   "execution_count": 41,
   "metadata": {},
   "outputs": [
    {
     "data": {
      "text/html": "<div>\n<style scoped>\n    .dataframe tbody tr th:only-of-type {\n        vertical-align: middle;\n    }\n\n    .dataframe tbody tr th {\n        vertical-align: top;\n    }\n\n    .dataframe thead th {\n        text-align: right;\n    }\n</style>\n<table border=\"1\" class=\"dataframe\">\n  <thead>\n    <tr style=\"text-align: right;\">\n      <th></th>\n      <th>Pool yield (USD) - biweekly</th>\n      <th>BADGER Pool TVL</th>\n      <th>BADGER Pool Capture</th>\n      <th>Treasury yield earned (USD) - biweekly</th>\n      <th>Bribe Aura Real Cost</th>\n      <th>Treasury ROI - biweekly</th>\n    </tr>\n  </thead>\n  <tbody>\n    <tr>\n      <th>0</th>\n      <td>$58109.5894</td>\n      <td>$5071117.8701</td>\n      <td>43.934%</td>\n      <td>$25529.9146</td>\n      <td>$30067.0110</td>\n      <td>84.910%</td>\n    </tr>\n  </tbody>\n</table>\n</div>",
      "text/plain": "  Pool yield (USD) - biweekly BADGER Pool TVL BADGER Pool Capture  \\\n0                 $58109.5894   $5071117.8701             43.934%   \n\n  Treasury yield earned (USD) - biweekly Bribe Aura Real Cost  \\\n0                            $25529.9146          $30067.0110   \n\n  Treasury ROI - biweekly  \n0                 84.910%  "
     },
     "execution_count": 41,
     "metadata": {},
     "output_type": "execute_result"
    }
   ],
   "source": [
    "# treasury expected earnings bi-weekly expectation post-bribe into BADGER pool\n",
    "tvl_badger = get_tvl_balancer_badger_pool()\n",
    "badger_pool = Contract(\"0xb460DAa847c45f1C4a41cb05BFB3b51c92e41B36\")\n",
    "pool_supply = badger_pool.totalSupply() / 1e18\n",
    "reward_badger_aura = Contract(\"0x05df1E87f41F793D9e03d341Cdc315b76595654C\")\n",
    "vault_rewards_contract_balance = reward_badger_aura.balanceOf(\"0xD0A7A8B98957b9CD3cFB9c0425AbE44551158e9e\", block_identifier=block_current_proposal)/1e18\n",
    "vault_owned_tcl = tvl_badger * (vault_rewards_contract_balance/pool_supply)\n",
    "pool_capture = vault_owned_tcl / tvl_badger\n",
    "pool_earnings = biweekly_emissions * GAUGE_CAP\n",
    "real_bribe_aura_expense = (badger_to_bribe_badger_pool - bribe_reclycing_badger_voting) * badger_price\n",
    "treasury_roi = (pool_earnings*pool_capture) / real_bribe_aura_expense\n",
    "data = [[dollar_format(pool_earnings), dollar_format(tvl_badger), pct_format(pool_capture), dollar_format(pool_earnings*pool_capture), dollar_format(real_bribe_aura_expense), pct_format(treasury_roi)]]\n",
    "headers = [\"Pool yield (USD) - biweekly\", \"BADGER Pool TVL\", \"BADGER Pool Capture\", \"Treasury yield earned (USD) - biweekly\", \"Bribe Aura Real Cost\", \"Treasury ROI - biweekly\"]\n",
    "df_earnings_badger_pool = pd.DataFrame(data, columns=headers)\n",
    "df_earnings_badger_pool"
   ]
  }
 ],
 "metadata": {
  "kernelspec": {
   "display_name": "Python 3.8.0 64-bit ('notebook': venv)",
   "language": "python",
   "name": "python380jvsc74a57bd09c84b663f32219dc1a99340f72d27385135dd6c0b0cfa0bac55815fe51ad804f"
  },
  "language_info": {
   "codemirror_mode": {
    "name": "ipython",
    "version": 3
   },
   "file_extension": ".py",
   "mimetype": "text/x-python",
   "name": "python",
   "nbconvert_exporter": "python",
   "pygments_lexer": "ipython3",
   "version": "3.8.0"
  },
  "metadata": {
   "interpreter": {
    "hash": "9253f604c87be4a7cf47dd897c36333e99f441f8153bec10e14bef349a9214eb"
   }
  }
 },
 "nbformat": 4,
 "nbformat_minor": 0
}