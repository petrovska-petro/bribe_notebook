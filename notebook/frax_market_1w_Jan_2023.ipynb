{
 "cells": [
  {
   "cell_type": "code",
   "execution_count": null,
   "metadata": {},
   "outputs": [],
   "source": [
    "from ape import networks, Contract\n",
    "import pandas as pd\n",
    "\n",
    "from helpers.coingecko import get_votium_prices\n",
    "from helpers.votium import fxs_emissions_usd\n",
    "from helpers.subgraph_endpoints import *\n",
    "from helpers.formatter import pct_format, dollar_format"
   ]
  },
  {
   "cell_type": "code",
   "execution_count": null,
   "metadata": {},
   "outputs": [],
   "source": [
    "networks.parse_network_choice(\"ethereum:mainnet:https://eth-mainnet.g.alchemy.com/v2/Ct5gz9eC4qAPrNN4d-6l9CrOHePE5IVH\").__enter__()"
   ]
  },
  {
   "cell_type": "code",
   "execution_count": 3,
   "metadata": {},
   "outputs": [
    {
     "data": {
      "text/html": [
       "<div>\n",
       "<style scoped>\n",
       "    .dataframe tbody tr th:only-of-type {\n",
       "        vertical-align: middle;\n",
       "    }\n",
       "\n",
       "    .dataframe tbody tr th {\n",
       "        vertical-align: top;\n",
       "    }\n",
       "\n",
       "    .dataframe thead th {\n",
       "        text-align: right;\n",
       "    }\n",
       "</style>\n",
       "<table border=\"1\" class=\"dataframe\">\n",
       "  <thead>\n",
       "    <tr style=\"text-align: right;\">\n",
       "      <th></th>\n",
       "      <th>BADGER price</th>\n",
       "      <th>CRV price</th>\n",
       "      <th>CVX price</th>\n",
       "      <th>FXS price</th>\n",
       "    </tr>\n",
       "  </thead>\n",
       "  <tbody>\n",
       "    <tr>\n",
       "      <th>0</th>\n",
       "      <td>$2.33</td>\n",
       "      <td>$0.55</td>\n",
       "      <td>$3.16</td>\n",
       "      <td>$5.00</td>\n",
       "    </tr>\n",
       "  </tbody>\n",
       "</table>\n",
       "</div>"
      ],
      "text/plain": [
       "  BADGER price CRV price CVX price FXS price\n",
       "0        $2.33     $0.55     $3.16     $5.00"
      ]
     },
     "execution_count": 3,
     "metadata": {},
     "output_type": "execute_result"
    }
   ],
   "source": [
    "cvx_price, crv_price, badger_price, fxs_price = get_votium_prices()\n",
    "data = [\n",
    "    [\n",
    "        \"${:.2f}\".format(badger_price),\n",
    "        \"${:.2f}\".format(crv_price),\n",
    "        \"${:.2f}\".format(cvx_price),\n",
    "        \"${:.2f}\".format(fxs_price),\n",
    "    ]\n",
    "]\n",
    "headers = [\"BADGER price\", \"CRV price\", \"CVX price\", \"FXS price\"]\n",
    "df_prices = pd.DataFrame(data, columns=headers)\n",
    "df_prices\n"
   ]
  },
  {
   "cell_type": "code",
   "execution_count": 4,
   "metadata": {},
   "outputs": [
    {
     "data": {
      "text/html": [
       "<div>\n",
       "<style scoped>\n",
       "    .dataframe tbody tr th:only-of-type {\n",
       "        vertical-align: middle;\n",
       "    }\n",
       "\n",
       "    .dataframe tbody tr th {\n",
       "        vertical-align: top;\n",
       "    }\n",
       "\n",
       "    .dataframe thead th {\n",
       "        text-align: right;\n",
       "    }\n",
       "</style>\n",
       "<table border=\"1\" class=\"dataframe\">\n",
       "  <thead>\n",
       "    <tr style=\"text-align: right;\">\n",
       "      <th></th>\n",
       "      <th>Bribe allocated to badgerfraxbp pool (BADGER)</th>\n",
       "      <th>Bribe Value (USD)</th>\n",
       "    </tr>\n",
       "  </thead>\n",
       "  <tbody>\n",
       "    <tr>\n",
       "      <th>0</th>\n",
       "      <td>6000</td>\n",
       "      <td>13980.0</td>\n",
       "    </tr>\n",
       "  </tbody>\n",
       "</table>\n",
       "</div>"
      ],
      "text/plain": [
       "   Bribe allocated to badgerfraxbp pool (BADGER)  Bribe Value (USD)\n",
       "0                                           6000            13980.0"
      ]
     },
     "execution_count": 4,
     "metadata": {},
     "output_type": "execute_result"
    }
   ],
   "source": [
    "# bribes allocation\n",
    "bribe_for_badgerfraxbp = 6_000\n",
    "bribe_usd_val = bribe_for_badgerfraxbp * badger_price\n",
    "data = [[bribe_for_badgerfraxbp, bribe_usd_val]]\n",
    "headers = [\"Bribe allocated to badgerfraxbp pool (BADGER)\", \"Bribe Value (USD)\"]\n",
    "df_bribes_allocation = pd.DataFrame(data, columns=headers)\n",
    "df_bribes_allocation"
   ]
  },
  {
   "cell_type": "code",
   "execution_count": 5,
   "metadata": {},
   "outputs": [
    {
     "data": {
      "text/html": [
       "<div>\n",
       "<style scoped>\n",
       "    .dataframe tbody tr th:only-of-type {\n",
       "        vertical-align: middle;\n",
       "    }\n",
       "\n",
       "    .dataframe tbody tr th {\n",
       "        vertical-align: top;\n",
       "    }\n",
       "\n",
       "    .dataframe thead th {\n",
       "        text-align: right;\n",
       "    }\n",
       "</style>\n",
       "<table border=\"1\" class=\"dataframe\">\n",
       "  <thead>\n",
       "    <tr style=\"text-align: right;\">\n",
       "      <th></th>\n",
       "      <th>BADGERFRAXBP Pool Capture</th>\n",
       "      <th>Treasury Gauge Capture</th>\n",
       "    </tr>\n",
       "  </thead>\n",
       "  <tbody>\n",
       "    <tr>\n",
       "      <th>0</th>\n",
       "      <td>31.779%</td>\n",
       "      <td>31.786%</td>\n",
       "    </tr>\n",
       "  </tbody>\n",
       "</table>\n",
       "</div>"
      ],
      "text/plain": [
       "  BADGERFRAXBP Pool Capture Treasury Gauge Capture\n",
       "0                   31.779%                31.786%"
      ]
     },
     "execution_count": 5,
     "metadata": {},
     "output_type": "execute_result"
    }
   ],
   "source": [
    "# treasury capture\n",
    "tvl_badgerfraxbp = get_tvl_curve_badgerfraxbp_pool()\n",
    "badgerfraxbp_pool = Contract(\"0x09b2E090531228d1b8E3d948C73b990Cb6e60720\")\n",
    "pool_supply = badgerfraxbp_pool.totalSupply() / 1e18\n",
    "private_vault_treasury = \"0xa895B89D74a6BC23a284a0526e123ea776674cF5\"\n",
    "gauge_frax = Contract(\"0x5a92EF27f4baA7C766aee6d751f754EBdEBd9fae\")\n",
    "treasury_tcl_bal = gauge_frax.lockedLiquidityOf(private_vault_treasury) / 1e18\n",
    "vault_owned_tcl = tvl_badgerfraxbp * (treasury_tcl_bal / pool_supply)\n",
    "pool_capture = vault_owned_tcl / tvl_badgerfraxbp\n",
    "treasury_fxs_gauge_capture = treasury_tcl_bal / (\n",
    "    gauge_frax.totalLiquidityLocked() / 1e18\n",
    ")\n",
    "data = [[pct_format(pool_capture), pct_format(treasury_fxs_gauge_capture)]]\n",
    "headers = [\"BADGERFRAXBP Pool Capture\", \"Treasury Gauge Capture\"]\n",
    "df_capture = pd.DataFrame(data, columns=headers)\n",
    "df_capture"
   ]
  },
  {
   "cell_type": "code",
   "execution_count": 6,
   "metadata": {},
   "outputs": [
    {
     "data": {
      "text/html": [
       "<div>\n",
       "<style scoped>\n",
       "    .dataframe tbody tr th:only-of-type {\n",
       "        vertical-align: middle;\n",
       "    }\n",
       "\n",
       "    .dataframe tbody tr th {\n",
       "        vertical-align: top;\n",
       "    }\n",
       "\n",
       "    .dataframe thead th {\n",
       "        text-align: right;\n",
       "    }\n",
       "</style>\n",
       "<table border=\"1\" class=\"dataframe\">\n",
       "  <thead>\n",
       "    <tr style=\"text-align: right;\">\n",
       "      <th></th>\n",
       "      <th>Gauge Relative Weight</th>\n",
       "      <th>Treasury yield earned (USD) - weekly</th>\n",
       "      <th>Treasury ROI - biweekly</th>\n",
       "    </tr>\n",
       "  </thead>\n",
       "  <tbody>\n",
       "    <tr>\n",
       "      <th>0</th>\n",
       "      <td>5.488%</td>\n",
       "      <td>$3167.0410</td>\n",
       "      <td>22.654%</td>\n",
       "    </tr>\n",
       "  </tbody>\n",
       "</table>\n",
       "</div>"
      ],
      "text/plain": [
       "  Gauge Relative Weight Treasury yield earned (USD) - weekly  \\\n",
       "0                5.488%                           $3167.0410   \n",
       "\n",
       "  Treasury ROI - biweekly  \n",
       "0                 22.654%  "
      ]
     },
     "execution_count": 6,
     "metadata": {},
     "output_type": "execute_result"
    }
   ],
   "source": [
    "# fxs weight voting to gauge at latest block\n",
    "frax_gauge_controller = Contract(\"0x3669C421b77340B2979d1A00a792CC2ee0FcE737\")\n",
    "fxs_relative_weight = frax_gauge_controller.gauge_relative_weight(gauge_frax) / 1e18\n",
    "gauge_earnings = fxs_emissions_usd(\n",
    "    fxs_price, fxs_relative_weight, treasury_fxs_gauge_capture, biweekly=False\n",
    ")\n",
    "treasury_roi = gauge_earnings / bribe_usd_val\n",
    "data = [[pct_format(fxs_relative_weight), dollar_format(gauge_earnings), pct_format(treasury_roi)]]\n",
    "headers = [\"Gauge Relative Weight\", \"Treasury yield earned (USD) - weekly\", \"Treasury ROI - biweekly\"]\n",
    "df_earnings_badger_pool = pd.DataFrame(data, columns=headers)\n",
    "df_earnings_badger_pool"
   ]
  },
  {
   "cell_type": "code",
   "execution_count": 10,
   "metadata": {},
   "outputs": [
    {
     "data": {
      "text/html": [
       "<div>\n",
       "<style scoped>\n",
       "    .dataframe tbody tr th:only-of-type {\n",
       "        vertical-align: middle;\n",
       "    }\n",
       "\n",
       "    .dataframe tbody tr th {\n",
       "        vertical-align: top;\n",
       "    }\n",
       "\n",
       "    .dataframe thead th {\n",
       "        text-align: right;\n",
       "    }\n",
       "</style>\n",
       "<table border=\"1\" class=\"dataframe\">\n",
       "  <thead>\n",
       "    <tr style=\"text-align: right;\">\n",
       "      <th></th>\n",
       "      <th>Gauge Relative Weight</th>\n",
       "      <th>Treasury yield earned (USD) - weekly</th>\n",
       "      <th>Treasury ROI - biweekly</th>\n",
       "    </tr>\n",
       "  </thead>\n",
       "  <tbody>\n",
       "    <tr>\n",
       "      <th>0</th>\n",
       "      <td>19.532%</td>\n",
       "      <td>$11272.5102</td>\n",
       "      <td>80.633%</td>\n",
       "    </tr>\n",
       "  </tbody>\n",
       "</table>\n",
       "</div>"
      ],
      "text/plain": [
       "  Gauge Relative Weight Treasury yield earned (USD) - weekly  \\\n",
       "0               19.532%                          $11272.5102   \n",
       "\n",
       "  Treasury ROI - biweekly  \n",
       "0                 80.633%  "
      ]
     },
     "execution_count": 10,
     "metadata": {},
     "output_type": "execute_result"
    }
   ],
   "source": [
    "# potential extra weight brought by the bribes (assuming full support of fxs whales and alike)\n",
    "vefxs = Contract(\"0xc8418aF6358FFddA74e09Ca9CC3Fe03Ca6aDC5b0\")\n",
    "vefxs_ts = vefxs.totalFXSSupply() / 1e18\n",
    "vefxs_fxs_whale_bal = (\n",
    "    vefxs.locked(\"0x88e863d4572d2dae27db81e98837a9dbeb0e7a12\")[\"amount\"] / 1e18\n",
    ")\n",
    "vefxs_fxs_whale_controlled = vefxs_fxs_whale_bal / vefxs_ts\n",
    "fxs_relative_weight_after_bribe =  vefxs_fxs_whale_controlled + fxs_relative_weight\n",
    "gauge_earnings = fxs_emissions_usd(\n",
    "    fxs_price, fxs_relative_weight_after_bribe, treasury_fxs_gauge_capture, biweekly=False\n",
    ")\n",
    "treasury_roi = gauge_earnings / bribe_usd_val\n",
    "data = [[pct_format(fxs_relative_weight_after_bribe), dollar_format(gauge_earnings), pct_format(treasury_roi)]]\n",
    "headers = [\"Gauge Relative Weight\", \"Treasury yield earned (USD) - weekly\", \"Treasury ROI - biweekly\"]\n",
    "df_earnings_badger_pool = pd.DataFrame(data, columns=headers)\n",
    "df_earnings_badger_pool"
   ]
  }
 ],
 "metadata": {
  "kernelspec": {
   "display_name": "BRIBES",
   "language": "python",
   "name": "python3"
  },
  "language_info": {
   "codemirror_mode": {
    "name": "ipython",
    "version": 3
   },
   "file_extension": ".py",
   "mimetype": "text/x-python",
   "name": "python",
   "nbconvert_exporter": "python",
   "pygments_lexer": "ipython3",
   "version": "3.10.6"
  },
  "orig_nbformat": 2,
  "vscode": {
   "interpreter": {
    "hash": "b328a3cfb7f1d498358a4e3404eef1a9a44ee30073d384af1829752b16832b6c"
   }
  }
 },
 "nbformat": 4,
 "nbformat_minor": 2
}
