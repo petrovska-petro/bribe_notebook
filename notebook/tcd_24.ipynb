{
 "cells": [
  {
   "cell_type": "code",
   "execution_count": 16,
   "metadata": {},
   "outputs": [],
   "source": [
    "import warnings\n",
    "warnings.simplefilter(action='ignore', category=FutureWarning)\n",
    "\n",
    "from ape import networks, Contract\n",
    "import pandas as pd\n",
    "import altair as alt\n",
    "\n",
    "from helpers.coingecko import get_votium_prices\n",
    "from helpers.votium import CVX_FEE\n",
    "from helpers.formatter import dollar_format"
   ]
  },
  {
   "cell_type": "code",
   "execution_count": null,
   "metadata": {},
   "outputs": [],
   "source": [
    "networks.parse_network_choice(\"ethereum:mainnet\").__enter__()"
   ]
  },
  {
   "cell_type": "code",
   "execution_count": 18,
   "metadata": {},
   "outputs": [
    {
     "data": {
      "text/html": [
       "<div>\n",
       "<style scoped>\n",
       "    .dataframe tbody tr th:only-of-type {\n",
       "        vertical-align: middle;\n",
       "    }\n",
       "\n",
       "    .dataframe tbody tr th {\n",
       "        vertical-align: top;\n",
       "    }\n",
       "\n",
       "    .dataframe thead th {\n",
       "        text-align: right;\n",
       "    }\n",
       "</style>\n",
       "<table border=\"1\" class=\"dataframe\">\n",
       "  <thead>\n",
       "    <tr style=\"text-align: right;\">\n",
       "      <th></th>\n",
       "      <th>BADGER price</th>\n",
       "      <th>FXS price</th>\n",
       "    </tr>\n",
       "  </thead>\n",
       "  <tbody>\n",
       "    <tr>\n",
       "      <th>0</th>\n",
       "      <td>$2.80</td>\n",
       "      <td>$10.13</td>\n",
       "    </tr>\n",
       "  </tbody>\n",
       "</table>\n",
       "</div>"
      ],
      "text/plain": [
       "  BADGER price FXS price\n",
       "0        $2.80    $10.13"
      ]
     },
     "execution_count": 18,
     "metadata": {},
     "output_type": "execute_result"
    }
   ],
   "source": [
    "_, _, badger_price, fxs_price = get_votium_prices()\n",
    "data = [[\"${:.2f}\".format(badger_price), \"${:.2f}\".format(fxs_price)]]\n",
    "headers = [\"BADGER price\", \"FXS price\"]\n",
    "df_prices = pd.DataFrame(data, columns=headers)\n",
    "df_prices"
   ]
  },
  {
   "cell_type": "code",
   "execution_count": 19,
   "metadata": {},
   "outputs": [],
   "source": [
    "# Incentive program. Starts on 9th Jan, last incentive post on the 26th Jan\n",
    "# first incentive tx: https://etherscan.io/tx/0x6f89da605f5cb96ffab69a2abab83532c57890e41d30dcb36d16e303075b637d\n",
    "# apr gets actioned in: https://facts.frax.finance/gauges/cycles/2023-C54 (12 Jan 2023 - 19 Jan 2023)\n",
    "FIRST_BLOCK_APR_INFLUENCED = 16386999\n",
    "LAST_BLOCK_APR_INFLUENCED = 16587476\n",
    "WEEKLY = 1500\n",
    "TOTAL_INCENTIVES = 1500 * 4"
   ]
  },
  {
   "cell_type": "code",
   "execution_count": 20,
   "metadata": {},
   "outputs": [],
   "source": [
    "# FXS claims & pendants. Directly querying from farm to avoid estimations based on pool capture etc\n",
    "# There was already a claim on the 3rd Jan, so 3rd Jan till the round of the 9th Jan is considered un-incentivesed\n",
    "farm = Contract(\"0x5a92EF27f4baA7C766aee6d751f754EBdEBd9fae\")\n",
    "dao_private_vault = \"0xa895B89D74a6BC23a284a0526e123ea776674cF5\"\n",
    "FIRST_CLAIM_BLOCK = 16478637  # https://etherscan.io/tx/0x6b08c3763f4d38993a0eaca06558184549eeab55f5c51e71ee774e44955a7107\n",
    "SECOND_CLAIM_BLOCK = 16529630 # https://etherscan.io/tx/0xe37313ed6878cc57557c1c3196e51c28551de39ec21d9b3522d6dbb4183c7223\n",
    "THIRD_CLAIM_BLOCK = 16571621  # https://etherscan.io/tx/0x4941e62742158e7efe1efabdc6a346ac1be8bad526b07ffe3fffde9689eb3b62\n",
    "fxs_earned_unincentived = farm.earned(dao_private_vault, block_identifier=FIRST_BLOCK_APR_INFLUENCED)[0] / 1e18\n",
    "fxs_earned = 0\n",
    "for block in [FIRST_CLAIM_BLOCK, SECOND_CLAIM_BLOCK, THIRD_CLAIM_BLOCK]:\n",
    "    fxs_earned\n",
    "    fxs_earned += farm.earned(dao_private_vault, block_identifier=block)[0] / 1e18\n",
    "fxs_pendant = farm.earned(dao_private_vault, block_identifier=LAST_BLOCK_APR_INFLUENCED)[0] / 1e18\n",
    "total_fxs_earned = ((fxs_earned - fxs_earned_unincentived) + fxs_pendant) * (1 - CVX_FEE)"
   ]
  },
  {
   "cell_type": "code",
   "execution_count": 21,
   "metadata": {},
   "outputs": [
    {
     "data": {
      "text/html": [
       "<div>\n",
       "<style scoped>\n",
       "    .dataframe tbody tr th:only-of-type {\n",
       "        vertical-align: middle;\n",
       "    }\n",
       "\n",
       "    .dataframe tbody tr th {\n",
       "        vertical-align: top;\n",
       "    }\n",
       "\n",
       "    .dataframe thead th {\n",
       "        text-align: right;\n",
       "    }\n",
       "</style>\n",
       "<table border=\"1\" class=\"dataframe\">\n",
       "  <thead>\n",
       "    <tr style=\"text-align: right;\">\n",
       "      <th></th>\n",
       "      <th>Treasury Decision Cost</th>\n",
       "      <th>Earnings</th>\n",
       "    </tr>\n",
       "  </thead>\n",
       "  <tbody>\n",
       "    <tr>\n",
       "      <th>0</th>\n",
       "      <td>$16800.0000</td>\n",
       "      <td>$12383.4538</td>\n",
       "    </tr>\n",
       "  </tbody>\n",
       "</table>\n",
       "</div>"
      ],
      "text/plain": [
       "  Treasury Decision Cost     Earnings\n",
       "0            $16800.0000  $12383.4538"
      ]
     },
     "execution_count": 21,
     "metadata": {},
     "output_type": "execute_result"
    }
   ],
   "source": [
    "# Cost vs earnings in dollar terms\n",
    "earnings = total_fxs_earned * fxs_price\n",
    "costs = TOTAL_INCENTIVES * badger_price\n",
    "data = [[dollar_format(costs), dollar_format(earnings)]]\n",
    "headers = [\"Treasury Decision Cost\", \"Earnings\"]\n",
    "df_cost_vs_earning = pd.DataFrame(data, columns=headers)\n",
    "df_cost_vs_earning"
   ]
  },
  {
   "cell_type": "code",
   "execution_count": 22,
   "metadata": {},
   "outputs": [
    {
     "data": {
      "text/html": [
       "\n",
       "<div id=\"altair-viz-6f9c493b29ce42f08debc8ecd99bed76\"></div>\n",
       "<script type=\"text/javascript\">\n",
       "  var VEGA_DEBUG = (typeof VEGA_DEBUG == \"undefined\") ? {} : VEGA_DEBUG;\n",
       "  (function(spec, embedOpt){\n",
       "    let outputDiv = document.currentScript.previousElementSibling;\n",
       "    if (outputDiv.id !== \"altair-viz-6f9c493b29ce42f08debc8ecd99bed76\") {\n",
       "      outputDiv = document.getElementById(\"altair-viz-6f9c493b29ce42f08debc8ecd99bed76\");\n",
       "    }\n",
       "    const paths = {\n",
       "      \"vega\": \"https://cdn.jsdelivr.net/npm//vega@5?noext\",\n",
       "      \"vega-lib\": \"https://cdn.jsdelivr.net/npm//vega-lib?noext\",\n",
       "      \"vega-lite\": \"https://cdn.jsdelivr.net/npm//vega-lite@4.17.0?noext\",\n",
       "      \"vega-embed\": \"https://cdn.jsdelivr.net/npm//vega-embed@6?noext\",\n",
       "    };\n",
       "\n",
       "    function maybeLoadScript(lib, version) {\n",
       "      var key = `${lib.replace(\"-\", \"\")}_version`;\n",
       "      return (VEGA_DEBUG[key] == version) ?\n",
       "        Promise.resolve(paths[lib]) :\n",
       "        new Promise(function(resolve, reject) {\n",
       "          var s = document.createElement('script');\n",
       "          document.getElementsByTagName(\"head\")[0].appendChild(s);\n",
       "          s.async = true;\n",
       "          s.onload = () => {\n",
       "            VEGA_DEBUG[key] = version;\n",
       "            return resolve(paths[lib]);\n",
       "          };\n",
       "          s.onerror = () => reject(`Error loading script: ${paths[lib]}`);\n",
       "          s.src = paths[lib];\n",
       "        });\n",
       "    }\n",
       "\n",
       "    function showError(err) {\n",
       "      outputDiv.innerHTML = `<div class=\"error\" style=\"color:red;\">${err}</div>`;\n",
       "      throw err;\n",
       "    }\n",
       "\n",
       "    function displayChart(vegaEmbed) {\n",
       "      vegaEmbed(outputDiv, spec, embedOpt)\n",
       "        .catch(err => showError(`Javascript Error: ${err.message}<br>This usually means there's a typo in your chart specification. See the javascript console for the full traceback.`));\n",
       "    }\n",
       "\n",
       "    if(typeof define === \"function\" && define.amd) {\n",
       "      requirejs.config({paths});\n",
       "      require([\"vega-embed\"], displayChart, err => showError(`Error loading script: ${err.message}`));\n",
       "    } else {\n",
       "      maybeLoadScript(\"vega\", \"5\")\n",
       "        .then(() => maybeLoadScript(\"vega-lite\", \"4.17.0\"))\n",
       "        .then(() => maybeLoadScript(\"vega-embed\", \"6\"))\n",
       "        .catch(showError)\n",
       "        .then(() => displayChart(vegaEmbed));\n",
       "    }\n",
       "  })({\"config\": {\"view\": {\"continuousWidth\": 400, \"continuousHeight\": 300}}, \"data\": {\"name\": \"data-e6e31853419d5d6df1188a8466b4464f\"}, \"mark\": \"bar\", \"encoding\": {\"color\": {\"field\": \"P&L\", \"scale\": {\"range\": [\"#FF5733\", \"#33FF47\"]}, \"type\": \"nominal\"}, \"x\": {\"field\": \"P&L\", \"type\": \"nominal\"}, \"y\": {\"field\": \"$ Value\", \"type\": \"quantitative\"}}, \"width\": 400, \"$schema\": \"https://vega.github.io/schema/vega-lite/v4.17.0.json\", \"datasets\": {\"data-e6e31853419d5d6df1188a8466b4464f\": [{\"$ Value\": 12383.453836658713, \"P&L\": \"R\"}, {\"$ Value\": 16800.0, \"P&L\": \"C\"}]}}, {\"mode\": \"vega-lite\"});\n",
       "</script>"
      ],
      "text/plain": [
       "alt.Chart(...)"
      ]
     },
     "metadata": {},
     "output_type": "display_data"
    }
   ],
   "source": [
    "# Basic groupe bar chart\n",
    "df = pd.DataFrame([[earnings, 'R'], \n",
    "                   [costs, 'C']],\n",
    "                  columns=['$ Value', 'P&L'])\n",
    "\n",
    "chart = alt.Chart(df, width=400).mark_bar().encode(\n",
    "   x=alt.X('P&L'),\n",
    "   y=alt.Y('$ Value'),\n",
    "   color=alt.Color('P&L', scale=alt.Scale(range=['#FF5733', '#33FF47']))\n",
    ")\n",
    "\n",
    "chart.display() "
   ]
  }
 ],
 "metadata": {
  "kernelspec": {
   "display_name": "INCENTIVES_RESEARCH",
   "language": "python",
   "name": "python3"
  },
  "language_info": {
   "codemirror_mode": {
    "name": "ipython",
    "version": 3
   },
   "file_extension": ".py",
   "mimetype": "text/x-python",
   "name": "python",
   "nbconvert_exporter": "python",
   "pygments_lexer": "ipython3",
   "version": "3.8.10"
  },
  "orig_nbformat": 4,
  "vscode": {
   "interpreter": {
    "hash": "04122ff8a7d488e794cce345ab8f1eb1f422779e0dcd2592cff671787266cf0a"
   }
  }
 },
 "nbformat": 4,
 "nbformat_minor": 2
}
