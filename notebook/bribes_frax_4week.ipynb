{
 "cells": [
  {
   "cell_type": "code",
   "execution_count": 46,
   "metadata": {},
   "outputs": [],
   "source": [
    "from ape import networks, Contract\n",
    "import pandas as pd\n",
    "\n",
    "from helpers.coingecko import get_votium_prices\n",
    "from helpers.votium import fxs_emissions_usd\n",
    "from helpers.subgraph_endpoints import *\n",
    "from helpers.formatter import pct_format, dollar_format"
   ]
  },
  {
   "cell_type": "code",
   "execution_count": null,
   "metadata": {},
   "outputs": [],
   "source": [
    "networks.parse_network_choice(\"ethereum:mainnet\").__enter__()"
   ]
  },
  {
   "cell_type": "code",
   "execution_count": null,
   "metadata": {},
   "outputs": [
    {
     "data": {
      "text/html": "<div>\n<style scoped>\n    .dataframe tbody tr th:only-of-type {\n        vertical-align: middle;\n    }\n\n    .dataframe tbody tr th {\n        vertical-align: top;\n    }\n\n    .dataframe thead th {\n        text-align: right;\n    }\n</style>\n<table border=\"1\" class=\"dataframe\">\n  <thead>\n    <tr style=\"text-align: right;\">\n      <th></th>\n      <th>BADGER price</th>\n      <th>CRV price</th>\n      <th>CVX price</th>\n      <th>FXS price</th>\n    </tr>\n  </thead>\n  <tbody>\n    <tr>\n      <th>0</th>\n      <td>$2.29</td>\n      <td>$0.55</td>\n      <td>$3.49</td>\n      <td>$5.17</td>\n    </tr>\n  </tbody>\n</table>\n</div>",
      "text/plain": "  BADGER price CRV price CVX price FXS price\n0        $2.29     $0.55     $3.49     $5.17"
     },
     "execution_count": 29,
     "metadata": {},
     "output_type": "execute_result"
    }
   ],
   "source": [
    "cvx_price, crv_price, badger_price, fxs_price = get_votium_prices()\n",
    "data = [\n",
    "    [\n",
    "        \"${:.2f}\".format(badger_price),\n",
    "        \"${:.2f}\".format(crv_price),\n",
    "        \"${:.2f}\".format(cvx_price),\n",
    "        \"${:.2f}\".format(fxs_price),\n",
    "    ]\n",
    "]\n",
    "headers = [\"BADGER price\", \"CRV price\", \"CVX price\", \"FXS price\"]\n",
    "df_prices = pd.DataFrame(data, columns=headers)\n",
    "df_prices\n"
   ]
  },
  {
   "cell_type": "code",
   "execution_count": null,
   "metadata": {},
   "outputs": [
    {
     "data": {
      "text/html": "<div>\n<style scoped>\n    .dataframe tbody tr th:only-of-type {\n        vertical-align: middle;\n    }\n\n    .dataframe tbody tr th {\n        vertical-align: top;\n    }\n\n    .dataframe thead th {\n        text-align: right;\n    }\n</style>\n<table border=\"1\" class=\"dataframe\">\n  <thead>\n    <tr style=\"text-align: right;\">\n      <th></th>\n      <th>Bribe allocated to badgerfraxbp pool (BADGER)</th>\n      <th>Bribe Value (USD)</th>\n    </tr>\n  </thead>\n  <tbody>\n    <tr>\n      <th>0</th>\n      <td>6000</td>\n      <td>13740.0</td>\n    </tr>\n  </tbody>\n</table>\n</div>",
      "text/plain": "   Bribe allocated to badgerfraxbp pool (BADGER)  Bribe Value (USD)\n0                                           6000            13740.0"
     },
     "execution_count": 30,
     "metadata": {},
     "output_type": "execute_result"
    }
   ],
   "source": [
    "# bribes allocation\n",
    "bribe_for_badgerfraxbp = 6_000\n",
    "bribe_usd_val = bribe_for_badgerfraxbp * badger_price\n",
    "data = [[bribe_for_badgerfraxbp, bribe_usd_val]]\n",
    "headers = [\"Bribe allocated to badgerfraxbp pool (BADGER)\", \"Bribe Value (USD)\"]\n",
    "df_bribes_allocation = pd.DataFrame(data, columns=headers)\n",
    "df_bribes_allocation"
   ]
  },
  {
   "cell_type": "code",
   "execution_count": null,
   "metadata": {},
   "outputs": [
    {
     "data": {
      "text/html": "<div>\n<style scoped>\n    .dataframe tbody tr th:only-of-type {\n        vertical-align: middle;\n    }\n\n    .dataframe tbody tr th {\n        vertical-align: top;\n    }\n\n    .dataframe thead th {\n        text-align: right;\n    }\n</style>\n<table border=\"1\" class=\"dataframe\">\n  <thead>\n    <tr style=\"text-align: right;\">\n      <th></th>\n      <th>BADGERFRAXBP Pool Capture</th>\n      <th>Treasury Gauge Capture</th>\n    </tr>\n  </thead>\n  <tbody>\n    <tr>\n      <th>0</th>\n      <td>35.407%</td>\n      <td>35.482%</td>\n    </tr>\n  </tbody>\n</table>\n</div>",
      "text/plain": "  BADGERFRAXBP Pool Capture Treasury Gauge Capture\n0                   35.407%                35.482%"
     },
     "execution_count": 31,
     "metadata": {},
     "output_type": "execute_result"
    }
   ],
   "source": [
    "# treasury capture\n",
    "tvl_badgerfraxbp = get_tvl_curve_badgerfraxbp_pool()\n",
    "badgerfraxbp_pool = Contract(\"0x09b2E090531228d1b8E3d948C73b990Cb6e60720\")\n",
    "pool_supply = badgerfraxbp_pool.totalSupply() / 1e18\n",
    "private_vault_treasury = \"0xa895B89D74a6BC23a284a0526e123ea776674cF5\"\n",
    "gauge_frax = Contract(\"0x5a92EF27f4baA7C766aee6d751f754EBdEBd9fae\")\n",
    "treasury_tcl_bal = gauge_frax.lockedLiquidityOf(private_vault_treasury) / 1e18\n",
    "vault_owned_tcl = tvl_badgerfraxbp * (treasury_tcl_bal / pool_supply)\n",
    "pool_capture = vault_owned_tcl / tvl_badgerfraxbp\n",
    "treasury_fxs_gauge_capture = treasury_tcl_bal / (\n",
    "    gauge_frax.totalLiquidityLocked() / 1e18\n",
    ")\n",
    "data = [[pct_format(pool_capture), pct_format(treasury_fxs_gauge_capture)]]\n",
    "headers = [\"BADGERFRAXBP Pool Capture\", \"Treasury Gauge Capture\"]\n",
    "df_capture = pd.DataFrame(data, columns=headers)\n",
    "df_capture"
   ]
  },
  {
   "cell_type": "code",
   "execution_count": null,
   "metadata": {},
   "outputs": [
    {
     "data": {
      "text/html": "<div>\n<style scoped>\n    .dataframe tbody tr th:only-of-type {\n        vertical-align: middle;\n    }\n\n    .dataframe tbody tr th {\n        vertical-align: top;\n    }\n\n    .dataframe thead th {\n        text-align: right;\n    }\n</style>\n<table border=\"1\" class=\"dataframe\">\n  <thead>\n    <tr style=\"text-align: right;\">\n      <th></th>\n      <th>Gauge Relative Weight</th>\n      <th>Treasury yield earned (USD) - weekly</th>\n      <th>Treasury ROI - biweekly</th>\n    </tr>\n  </thead>\n  <tbody>\n    <tr>\n      <th>0</th>\n      <td>2.692%</td>\n      <td>$1793.0777</td>\n      <td>13.050%</td>\n    </tr>\n  </tbody>\n</table>\n</div>",
      "text/plain": "  Gauge Relative Weight Treasury yield earned (USD) - weekly  \\\n0                2.692%                           $1793.0777   \n\n  Treasury ROI - biweekly  \n0                 13.050%  "
     },
     "execution_count": 37,
     "metadata": {},
     "output_type": "execute_result"
    }
   ],
   "source": [
    "# fxs weight voting to gauge at latest block\n",
    "frax_gauge_controller = Contract(\"0x3669C421b77340B2979d1A00a792CC2ee0FcE737\")\n",
    "fxs_relative_weight = frax_gauge_controller.gauge_relative_weight(gauge_frax) / 1e18\n",
    "gauge_earnings = fxs_emissions_usd(\n",
    "    fxs_price, fxs_relative_weight, treasury_fxs_gauge_capture, biweekly=False\n",
    ")\n",
    "treasury_roi = gauge_earnings / bribe_usd_val\n",
    "data = [[pct_format(fxs_relative_weight), dollar_format(gauge_earnings), pct_format(treasury_roi)]]\n",
    "headers = [\"Gauge Relative Weight\", \"Treasury yield earned (USD) - weekly\", \"Treasury ROI - biweekly\"]\n",
    "df_earnings_badger_pool = pd.DataFrame(data, columns=headers)\n",
    "df_earnings_badger_pool"
   ]
  }
 ],
 "metadata": {
  "kernelspec": {
   "display_name": "Python 3.8.0 64-bit ('notebook': venv)",
   "name": "python380jvsc74a57bd09c84b663f32219dc1a99340f72d27385135dd6c0b0cfa0bac55815fe51ad804f"
  },
  "language_info": {
   "codemirror_mode": {
    "name": "ipython",
    "version": 3
   },
   "file_extension": ".py",
   "mimetype": "text/x-python",
   "name": "python",
   "nbconvert_exporter": "python",
   "pygments_lexer": "ipython3",
   "version": "3.8.0"
  },
  "orig_nbformat": 2
 },
 "nbformat": 4,
 "nbformat_minor": 2
}