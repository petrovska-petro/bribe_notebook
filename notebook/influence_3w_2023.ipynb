{
 "cells": [
  {
   "cell_type": "code",
   "execution_count": 120,
   "metadata": {},
   "outputs": [],
   "source": [
    "import warnings\n",
    "warnings.simplefilter(action='ignore', category=FutureWarning)\n",
    "\n",
    "from ape import chain, networks, Contract\n",
    "import pandas as pd\n",
    "import altair as alt\n",
    "alt.renderers.enable('mimetype')\n",
    "\n",
    "from helpers.aura import weekly_emissions_after_fee, aura_mint_ratio, BALANCER_EMISSIONS\n",
    "from helpers.coingecko import get_prices, get_coll_prices\n",
    "from helpers.formatter import pct_format, dollar_format\n",
    "from helpers.bribe_info import GAUGE_CAP"
   ]
  },
  {
   "cell_type": "code",
   "execution_count": null,
   "metadata": {},
   "outputs": [],
   "source": [
    "networks.parse_network_choice(\"ethereum:mainnet\").__enter__()"
   ]
  },
  {
   "cell_type": "code",
   "execution_count": 41,
   "metadata": {},
   "outputs": [],
   "source": [
    "# Locked vlAURA in voter over time\n",
    "BLOCK_JUMP = 7160 * 2\n",
    "deployment_block = 14932220\n",
    "latest_block = networks.active_provider.get_block(\"latest\").number\n",
    "vlAURA = Contract(\"0x3Fa73f1E5d8A792C80F426fc8F84FBF7Ce9bBCAC\")\n",
    "vlAURA_history = []\n",
    "for block in range(deployment_block, latest_block, BLOCK_JUMP):\n",
    "    timestamp = chain.blocks._get_block(block_id=int(block)).timestamp\n",
    "    total_supply = vlAURA.totalSupply(block_identifier=block)/1e18\n",
    "    voter_msig_power = vlAURA.getVotes('0xA9ed98B5Fb8428d68664f3C5027c62A10d45826b', block_identifier=block) /1e18\n",
    "    if voter_msig_power > 0:\n",
    "        ownership = voter_msig_power / total_supply\n",
    "    else:\n",
    "        ownership = 0\n",
    "    vlAURA_history.append((timestamp, total_supply, voter_msig_power, ownership))\n",
    "\n",
    "df = pd.DataFrame(vlAURA_history, columns = ['ts', 'total_supply', 'voter_vp', 'ownership'])\n",
    "df[\"Date\"] = pd.to_datetime(df[\"ts\"], unit=\"s\", utc=True)"
   ]
  },
  {
   "cell_type": "code",
   "execution_count": 121,
   "metadata": {},
   "outputs": [
    {
     "data": {
      "application/vnd.vegalite.v4+json": {
       "$schema": "https://vega.github.io/schema/vega-lite/v4.17.0.json",
       "config": {
        "view": {
         "continuousHeight": 300,
         "continuousWidth": 400
        }
       },
       "data": {
        "name": "data-26c8a91de99837b7e9f35b251be60716"
       },
       "datasets": {
        "data-26c8a91de99837b7e9f35b251be60716": [
         {
          "Date": "2022-06-09T10:58:28+00:00",
          "index": 0,
          "ownership": 0,
          "total_supply": 0,
          "ts": 1654772308,
          "voter_vp": 0
         },
         {
          "Date": "2022-06-11T21:32:11+00:00",
          "index": 1,
          "ownership": 0,
          "total_supply": 0,
          "ts": 1654983131,
          "voter_vp": 0
         },
         {
          "Date": "2022-06-14T08:44:03+00:00",
          "index": 2,
          "ownership": 0,
          "total_supply": 0,
          "ts": 1655196243,
          "voter_vp": 0
         },
         {
          "Date": "2022-06-16T19:58:37+00:00",
          "index": 3,
          "ownership": 0,
          "total_supply": 73371.56277845857,
          "ts": 1655409517,
          "voter_vp": 0
         },
         {
          "Date": "2022-06-19T07:06:08+00:00",
          "index": 4,
          "ownership": 0,
          "total_supply": 73371.56277845857,
          "ts": 1655622368,
          "voter_vp": 0
         },
         {
          "Date": "2022-06-21T19:24:41+00:00",
          "index": 5,
          "ownership": 0,
          "total_supply": 73371.56277845857,
          "ts": 1655839481,
          "voter_vp": 0
         },
         {
          "Date": "2022-06-24T11:53:27+00:00",
          "index": 6,
          "ownership": 0,
          "total_supply": 1327877.6014812638,
          "ts": 1656071607,
          "voter_vp": 0
         },
         {
          "Date": "2022-06-27T04:15:43+00:00",
          "index": 7,
          "ownership": 0,
          "total_supply": 1327877.6014812638,
          "ts": 1656303343,
          "voter_vp": 0
         },
         {
          "Date": "2022-06-29T20:28:59+00:00",
          "index": 8,
          "ownership": 0,
          "total_supply": 1327877.6014812638,
          "ts": 1656534539,
          "voter_vp": 0
         },
         {
          "Date": "2022-07-02T05:08:44+00:00",
          "index": 9,
          "ownership": 0,
          "total_supply": 2577611.9688574327,
          "ts": 1656738524,
          "voter_vp": 0
         },
         {
          "Date": "2022-07-04T10:13:55+00:00",
          "index": 10,
          "ownership": 0,
          "total_supply": 2577611.9688574327,
          "ts": 1656929635,
          "voter_vp": 0
         },
         {
          "Date": "2022-07-06T15:22:49+00:00",
          "index": 11,
          "ownership": 0,
          "total_supply": 2577611.9688574327,
          "ts": 1657120969,
          "voter_vp": 0
         },
         {
          "Date": "2022-07-08T20:17:03+00:00",
          "index": 12,
          "ownership": 0,
          "total_supply": 3488094.6832983484,
          "ts": 1657311423,
          "voter_vp": 0
         },
         {
          "Date": "2022-07-11T01:28:46+00:00",
          "index": 13,
          "ownership": 0,
          "total_supply": 3488094.6832983484,
          "ts": 1657502926,
          "voter_vp": 0
         },
         {
          "Date": "2022-07-13T06:27:32+00:00",
          "index": 14,
          "ownership": 0,
          "total_supply": 3488094.6832983484,
          "ts": 1657693652,
          "voter_vp": 0
         },
         {
          "Date": "2022-07-15T11:40:41+00:00",
          "index": 15,
          "ownership": 0,
          "total_supply": 4067971.6832565563,
          "ts": 1657885241,
          "voter_vp": 0
         },
         {
          "Date": "2022-07-17T16:53:30+00:00",
          "index": 16,
          "ownership": 0,
          "total_supply": 4067971.6832565563,
          "ts": 1658076810,
          "voter_vp": 0
         },
         {
          "Date": "2022-07-19T21:58:51+00:00",
          "index": 17,
          "ownership": 0,
          "total_supply": 4067971.6832565563,
          "ts": 1658267931,
          "voter_vp": 0
         },
         {
          "Date": "2022-07-22T03:19:53+00:00",
          "index": 18,
          "ownership": 0.007060106591009222,
          "total_supply": 4279346.899659543,
          "ts": 1658459993,
          "voter_vp": 30212.64525150122
         },
         {
          "Date": "2022-07-24T08:43:16+00:00",
          "index": 19,
          "ownership": 0.007060106591009222,
          "total_supply": 4279346.899659543,
          "ts": 1658652196,
          "voter_vp": 30212.64525150122
         },
         {
          "Date": "2022-07-26T14:26:07+00:00",
          "index": 20,
          "ownership": 0.007060106591009222,
          "total_supply": 4279346.899659543,
          "ts": 1658845567,
          "voter_vp": 30212.64525150122
         },
         {
          "Date": "2022-07-28T19:42:42+00:00",
          "index": 21,
          "ownership": 0.006636568528710497,
          "total_supply": 4552449.827165669,
          "ts": 1659037362,
          "voter_vp": 30212.64525150122
         },
         {
          "Date": "2022-07-31T01:19:49+00:00",
          "index": 22,
          "ownership": 0.006636568528710497,
          "total_supply": 4552449.827165669,
          "ts": 1659230389,
          "voter_vp": 30212.64525150122
         },
         {
          "Date": "2022-08-02T06:54:24+00:00",
          "index": 23,
          "ownership": 0.006636568528710497,
          "total_supply": 4552449.827165669,
          "ts": 1659423264,
          "voter_vp": 30212.64525150122
         },
         {
          "Date": "2022-08-04T12:32:18+00:00",
          "index": 24,
          "ownership": 0.010257049259336442,
          "total_supply": 4882633.795594643,
          "ts": 1659616338,
          "voter_vp": 50081.415356715115
         },
         {
          "Date": "2022-08-06T18:03:08+00:00",
          "index": 25,
          "ownership": 0.010257049259336442,
          "total_supply": 4882633.795594643,
          "ts": 1659808988,
          "voter_vp": 50081.415356715115
         },
         {
          "Date": "2022-08-08T23:27:14+00:00",
          "index": 26,
          "ownership": 0.010257049259336442,
          "total_supply": 4882633.795594643,
          "ts": 1660001234,
          "voter_vp": 50081.415356715115
         },
         {
          "Date": "2022-08-11T05:25:06+00:00",
          "index": 27,
          "ownership": 0.013667270777224941,
          "total_supply": 5230453.963143784,
          "ts": 1660195506,
          "voter_vp": 71486.03060209542
         },
         {
          "Date": "2022-08-13T11:35:20+00:00",
          "index": 28,
          "ownership": 0.013667270777224941,
          "total_supply": 5230453.963143784,
          "ts": 1660390520,
          "voter_vp": 71486.03060209542
         },
         {
          "Date": "2022-08-15T18:07:24+00:00",
          "index": 29,
          "ownership": 0.013667270777224941,
          "total_supply": 5230453.963143784,
          "ts": 1660586844,
          "voter_vp": 71486.03060209542
         },
         {
          "Date": "2022-08-18T00:19:08+00:00",
          "index": 30,
          "ownership": 0.0158372952222536,
          "total_supply": 5690337.179229851,
          "ts": 1660781948,
          "voter_vp": 90119.54982162894
         },
         {
          "Date": "2022-08-20T06:48:55+00:00",
          "index": 31,
          "ownership": 0.0158372952222536,
          "total_supply": 5690337.179229851,
          "ts": 1660978135,
          "voter_vp": 90119.54982162894
         },
         {
          "Date": "2022-08-22T13:20:42+00:00",
          "index": 32,
          "ownership": 0.0158372952222536,
          "total_supply": 5690337.179229851,
          "ts": 1661174442,
          "voter_vp": 90119.54982162894
         },
         {
          "Date": "2022-08-24T19:36:56+00:00",
          "index": 33,
          "ownership": 0.0158372952222536,
          "total_supply": 5690337.179229851,
          "ts": 1661369816,
          "voter_vp": 90119.54982162894
         },
         {
          "Date": "2022-08-27T02:53:11+00:00",
          "index": 34,
          "ownership": 0.01728541139790981,
          "total_supply": 6550680.135366358,
          "ts": 1661568791,
          "voter_vp": 113231.20107592302
         },
         {
          "Date": "2022-08-29T09:50:27+00:00",
          "index": 35,
          "ownership": 0.01728541139790981,
          "total_supply": 6550680.135366358,
          "ts": 1661766627,
          "voter_vp": 113231.20107592302
         },
         {
          "Date": "2022-08-31T16:46:21+00:00",
          "index": 36,
          "ownership": 0.01728541139790981,
          "total_supply": 6550680.135366358,
          "ts": 1661964381,
          "voter_vp": 113231.20107592302
         },
         {
          "Date": "2022-09-02T23:35:38+00:00",
          "index": 37,
          "ownership": 0.02093030970301436,
          "total_supply": 6900910.398311983,
          "ts": 1662161738,
          "voter_vp": 144438.19186942198
         },
         {
          "Date": "2022-09-05T06:53:35+00:00",
          "index": 38,
          "ownership": 0.02093030970301436,
          "total_supply": 6900910.398311983,
          "ts": 1662360815,
          "voter_vp": 144438.19186942198
         },
         {
          "Date": "2022-09-07T13:59:59+00:00",
          "index": 39,
          "ownership": 0.02093030970301436,
          "total_supply": 6900910.398311983,
          "ts": 1662559199,
          "voter_vp": 144438.19186942198
         },
         {
          "Date": "2022-09-09T21:25:19+00:00",
          "index": 40,
          "ownership": 0.023688204922285738,
          "total_supply": 7031495.035533791,
          "ts": 1662758719,
          "voter_vp": 166563.4953117593
         },
         {
          "Date": "2022-09-12T06:12:53+00:00",
          "index": 41,
          "ownership": 0.023688204922285738,
          "total_supply": 7031495.035533791,
          "ts": 1662963173,
          "voter_vp": 166563.4953117593
         },
         {
          "Date": "2022-09-14T15:19:47+00:00",
          "index": 42,
          "ownership": 0.023688204922285738,
          "total_supply": 7031495.035533791,
          "ts": 1663168787,
          "voter_vp": 166563.4953117593
         },
         {
          "Date": "2022-09-16T18:33:35+00:00",
          "index": 43,
          "ownership": 0.02317824988164291,
          "total_supply": 7186198.102199121,
          "ts": 1663353215,
          "voter_vp": 166563.4953117593
         },
         {
          "Date": "2022-09-18T18:45:23+00:00",
          "index": 44,
          "ownership": 0.02317824988164291,
          "total_supply": 7186198.102199121,
          "ts": 1663526723,
          "voter_vp": 166563.4953117593
         },
         {
          "Date": "2022-09-20T18:57:35+00:00",
          "index": 45,
          "ownership": 0.02317824988164291,
          "total_supply": 7186198.102199121,
          "ts": 1663700255,
          "voter_vp": 166563.4953117593
         },
         {
          "Date": "2022-09-22T19:22:23+00:00",
          "index": 46,
          "ownership": 0.023797354135884668,
          "total_supply": 7660446.876376027,
          "ts": 1663874543,
          "voter_vp": 182298.36715625183
         },
         {
          "Date": "2022-09-24T19:19:23+00:00",
          "index": 47,
          "ownership": 0.023797354135884668,
          "total_supply": 7660446.876376027,
          "ts": 1664047163,
          "voter_vp": 182298.36715625183
         },
         {
          "Date": "2022-09-26T19:19:11+00:00",
          "index": 48,
          "ownership": 0.023797354135884668,
          "total_supply": 7660446.876376027,
          "ts": 1664219951,
          "voter_vp": 182298.36715625183
         },
         {
          "Date": "2022-09-28T19:22:35+00:00",
          "index": 49,
          "ownership": 0.023797354135884668,
          "total_supply": 7660446.876376027,
          "ts": 1664392955,
          "voter_vp": 182298.36715625183
         },
         {
          "Date": "2022-09-30T19:24:11+00:00",
          "index": 50,
          "ownership": 0.02258421532289423,
          "total_supply": 8071937.171598388,
          "ts": 1664565851,
          "voter_vp": 182298.36715625183
         },
         {
          "Date": "2022-10-02T19:25:35+00:00",
          "index": 51,
          "ownership": 0.02258421532289423,
          "total_supply": 8071937.171598388,
          "ts": 1664738735,
          "voter_vp": 182298.36715625183
         },
         {
          "Date": "2022-10-04T19:29:11+00:00",
          "index": 52,
          "ownership": 0.02258421532289423,
          "total_supply": 8071937.171598388,
          "ts": 1664911751,
          "voter_vp": 182298.36715625183
         },
         {
          "Date": "2022-10-06T19:34:59+00:00",
          "index": 53,
          "ownership": 0.023549270525182065,
          "total_supply": 8265395.598228241,
          "ts": 1665084899,
          "voter_vp": 194644.0369403259
         },
         {
          "Date": "2022-10-08T19:35:59+00:00",
          "index": 54,
          "ownership": 0.023549270525182065,
          "total_supply": 8265395.598228241,
          "ts": 1665257759,
          "voter_vp": 194644.0369403259
         },
         {
          "Date": "2022-10-10T19:34:59+00:00",
          "index": 55,
          "ownership": 0.023549270525182065,
          "total_supply": 8265395.598228241,
          "ts": 1665430499,
          "voter_vp": 194644.0369403259
         },
         {
          "Date": "2022-10-12T19:33:23+00:00",
          "index": 56,
          "ownership": 0.023549270525182065,
          "total_supply": 8265395.598228241,
          "ts": 1665603203,
          "voter_vp": 194644.0369403259
         },
         {
          "Date": "2022-10-14T19:32:47+00:00",
          "index": 57,
          "ownership": 0.02274491078296392,
          "total_supply": 8054581.401016774,
          "ts": 1665775967,
          "voter_vp": 183200.73536024705
         },
         {
          "Date": "2022-10-16T19:31:35+00:00",
          "index": 58,
          "ownership": 0.02274491078296392,
          "total_supply": 8054581.401016774,
          "ts": 1665948695,
          "voter_vp": 183200.73536024705
         },
         {
          "Date": "2022-10-18T19:32:11+00:00",
          "index": 59,
          "ownership": 0.02274491078296392,
          "total_supply": 8054581.401016774,
          "ts": 1666121531,
          "voter_vp": 183200.73536024705
         },
         {
          "Date": "2022-10-20T19:32:23+00:00",
          "index": 60,
          "ownership": 0.024887801745138577,
          "total_supply": 7979222.769064773,
          "ts": 1666294343,
          "voter_vp": 198585.3143567797
         },
         {
          "Date": "2022-10-22T19:28:47+00:00",
          "index": 61,
          "ownership": 0.024887801745138577,
          "total_supply": 7979222.769064773,
          "ts": 1666466927,
          "voter_vp": 198585.3143567797
         },
         {
          "Date": "2022-10-24T19:34:23+00:00",
          "index": 62,
          "ownership": 0.024887801745138577,
          "total_supply": 7979222.769064773,
          "ts": 1666640063,
          "voter_vp": 198585.3143567797
         },
         {
          "Date": "2022-10-26T19:36:23+00:00",
          "index": 63,
          "ownership": 0.024887801745138577,
          "total_supply": 7979222.769064773,
          "ts": 1666812983,
          "voter_vp": 198585.3143567797
         },
         {
          "Date": "2022-10-28T19:38:23+00:00",
          "index": 64,
          "ownership": 0.028788431023253208,
          "total_supply": 8245289.952173748,
          "ts": 1666985903,
          "voter_vp": 237368.96105487668
         },
         {
          "Date": "2022-10-30T19:38:35+00:00",
          "index": 65,
          "ownership": 0.028788431023253208,
          "total_supply": 8245289.952173748,
          "ts": 1667158715,
          "voter_vp": 237368.96105487668
         },
         {
          "Date": "2022-11-01T19:42:59+00:00",
          "index": 66,
          "ownership": 0.028788431023253208,
          "total_supply": 8245289.952173748,
          "ts": 1667331779,
          "voter_vp": 237368.96105487668
         },
         {
          "Date": "2022-11-03T19:45:23+00:00",
          "index": 67,
          "ownership": 0.028639830081719886,
          "total_supply": 8448750.480078978,
          "ts": 1667504723,
          "voter_vp": 241970.77815231125
         },
         {
          "Date": "2022-11-05T19:44:23+00:00",
          "index": 68,
          "ownership": 0.028639830081719886,
          "total_supply": 8448750.480078978,
          "ts": 1667677463,
          "voter_vp": 241970.77815231125
         },
         {
          "Date": "2022-11-07T19:41:11+00:00",
          "index": 69,
          "ownership": 0.028639830081719886,
          "total_supply": 8448750.480078978,
          "ts": 1667850071,
          "voter_vp": 241970.77815231125
         },
         {
          "Date": "2022-11-09T19:42:35+00:00",
          "index": 70,
          "ownership": 0.028639830081719886,
          "total_supply": 8448750.480078978,
          "ts": 1668022955,
          "voter_vp": 241970.77815231125
         },
         {
          "Date": "2022-11-11T19:44:35+00:00",
          "index": 71,
          "ownership": 0.027895114817717656,
          "total_supply": 9744902.084495533,
          "ts": 1668195875,
          "voter_vp": 271835.16253441904
         },
         {
          "Date": "2022-11-13T19:41:23+00:00",
          "index": 72,
          "ownership": 0.027895114817717656,
          "total_supply": 9744902.084495533,
          "ts": 1668368483,
          "voter_vp": 271835.16253441904
         },
         {
          "Date": "2022-11-15T19:40:47+00:00",
          "index": 73,
          "ownership": 0.027895114817717656,
          "total_supply": 9744902.084495533,
          "ts": 1668541247,
          "voter_vp": 271835.16253441904
         },
         {
          "Date": "2022-11-17T19:42:35+00:00",
          "index": 74,
          "ownership": 0.028705116687909402,
          "total_supply": 9797419.605290648,
          "ts": 1668714155,
          "voter_vp": 281236.07301027933
         },
         {
          "Date": "2022-11-19T19:42:35+00:00",
          "index": 75,
          "ownership": 0.028705116687909402,
          "total_supply": 9797419.605290648,
          "ts": 1668886955,
          "voter_vp": 281236.07301027933
         },
         {
          "Date": "2022-11-21T19:41:11+00:00",
          "index": 76,
          "ownership": 0.028705116687909402,
          "total_supply": 9797419.605290648,
          "ts": 1669059671,
          "voter_vp": 281236.07301027933
         },
         {
          "Date": "2022-11-23T19:44:59+00:00",
          "index": 77,
          "ownership": 0.028705116687909402,
          "total_supply": 9797419.605290648,
          "ts": 1669232699,
          "voter_vp": 281236.07301027933
         },
         {
          "Date": "2022-11-25T19:47:35+00:00",
          "index": 78,
          "ownership": 0.026474215227560317,
          "total_supply": 10198137.401073776,
          "ts": 1669405655,
          "voter_vp": 269987.68447625975
         },
         {
          "Date": "2022-11-27T19:46:47+00:00",
          "index": 79,
          "ownership": 0.026474215227560317,
          "total_supply": 10198137.401073776,
          "ts": 1669578407,
          "voter_vp": 269987.68447625975
         },
         {
          "Date": "2022-11-29T19:45:23+00:00",
          "index": 80,
          "ownership": 0.026474215227560317,
          "total_supply": 10198137.401073776,
          "ts": 1669751123,
          "voter_vp": 269987.68447625975
         },
         {
          "Date": "2022-12-01T19:47:59+00:00",
          "index": 81,
          "ownership": 0.0281652926715211,
          "total_supply": 10513945.729118897,
          "ts": 1669924079,
          "voter_vp": 296128.35859312303
         },
         {
          "Date": "2022-12-03T19:46:23+00:00",
          "index": 82,
          "ownership": 0.0281652926715211,
          "total_supply": 10513945.729118897,
          "ts": 1670096783,
          "voter_vp": 296128.35859312303
         },
         {
          "Date": "2022-12-05T19:50:11+00:00",
          "index": 83,
          "ownership": 0.0281652926715211,
          "total_supply": 10513945.729118897,
          "ts": 1670269811,
          "voter_vp": 296128.35859312303
         },
         {
          "Date": "2022-12-07T20:05:35+00:00",
          "index": 84,
          "ownership": 0.0281652926715211,
          "total_supply": 10513945.729118897,
          "ts": 1670443535,
          "voter_vp": 296128.35859312303
         },
         {
          "Date": "2022-12-09T20:06:23+00:00",
          "index": 85,
          "ownership": 0.026979636418357218,
          "total_supply": 10579709.90647532,
          "ts": 1670616383,
          "voter_vp": 285436.7266883962
         },
         {
          "Date": "2022-12-11T20:05:47+00:00",
          "index": 86,
          "ownership": 0.026979636418357218,
          "total_supply": 10579709.90647532,
          "ts": 1670789147,
          "voter_vp": 285436.7266883962
         },
         {
          "Date": "2022-12-13T20:07:59+00:00",
          "index": 87,
          "ownership": 0.026979636418357218,
          "total_supply": 10579709.90647532,
          "ts": 1670962079,
          "voter_vp": 285436.7266883962
         },
         {
          "Date": "2022-12-15T20:07:47+00:00",
          "index": 88,
          "ownership": 0.027925895152190322,
          "total_supply": 10888469.080429116,
          "ts": 1671134867,
          "voter_vp": 304070.24590792967
         },
         {
          "Date": "2022-12-17T20:06:59+00:00",
          "index": 89,
          "ownership": 0.027925895152190322,
          "total_supply": 10888469.080429116,
          "ts": 1671307619,
          "voter_vp": 304070.24590792967
         },
         {
          "Date": "2022-12-19T20:05:35+00:00",
          "index": 90,
          "ownership": 0.027925895152190322,
          "total_supply": 10888469.080429116,
          "ts": 1671480335,
          "voter_vp": 304070.24590792967
         },
         {
          "Date": "2022-12-21T20:03:11+00:00",
          "index": 91,
          "ownership": 0.027925895152190322,
          "total_supply": 10888469.080429116,
          "ts": 1671652991,
          "voter_vp": 304070.24590792967
         },
         {
          "Date": "2022-12-23T19:57:11+00:00",
          "index": 92,
          "ownership": 0.025012175732678714,
          "total_supply": 10919904.126316022,
          "ts": 1671825431,
          "voter_vp": 273130.56099141977
         },
         {
          "Date": "2022-12-25T19:54:35+00:00",
          "index": 93,
          "ownership": 0.025012175732678714,
          "total_supply": 10919904.126316022,
          "ts": 1671998075,
          "voter_vp": 273130.56099141977
         },
         {
          "Date": "2022-12-27T19:54:11+00:00",
          "index": 94,
          "ownership": 0.025012175732678714,
          "total_supply": 10919904.126316022,
          "ts": 1672170851,
          "voter_vp": 273130.56099141977
         },
         {
          "Date": "2022-12-29T19:51:59+00:00",
          "index": 95,
          "ownership": 0.027286969070337185,
          "total_supply": 11153219.362708723,
          "ts": 1672343519,
          "voter_vp": 304337.55178491876
         },
         {
          "Date": "2022-12-31T19:49:35+00:00",
          "index": 96,
          "ownership": 0.027286969070337185,
          "total_supply": 11153219.362708723,
          "ts": 1672516175,
          "voter_vp": 304337.55178491876
         },
         {
          "Date": "2023-01-02T19:44:47+00:00",
          "index": 97,
          "ownership": 0.027286969070337185,
          "total_supply": 11153219.362708723,
          "ts": 1672688687,
          "voter_vp": 304337.55178491876
         },
         {
          "Date": "2023-01-04T19:41:11+00:00",
          "index": 98,
          "ownership": 0.027286969070337185,
          "total_supply": 11153219.362708723,
          "ts": 1672861271,
          "voter_vp": 304337.55178491876
         },
         {
          "Date": "2023-01-06T19:42:23+00:00",
          "index": 99,
          "ownership": 0.027659956326814162,
          "total_supply": 11534036.97203155,
          "ts": 1673034143,
          "voter_vp": 319030.95891825255
         },
         {
          "Date": "2023-01-08T19:40:47+00:00",
          "index": 100,
          "ownership": 0.027659956326814162,
          "total_supply": 11534036.97203155,
          "ts": 1673206847,
          "voter_vp": 319030.95891825255
         },
         {
          "Date": "2023-01-10T19:36:35+00:00",
          "index": 101,
          "ownership": 0.027659956326814162,
          "total_supply": 11534036.97203155,
          "ts": 1673379395,
          "voter_vp": 319030.95891825255
         },
         {
          "Date": "2023-01-12T19:39:23+00:00",
          "index": 102,
          "ownership": 0.02588179981001366,
          "total_supply": 11718508.34563734,
          "ts": 1673552363,
          "voter_vp": 303296.08707376
         },
         {
          "Date": "2023-01-14T19:37:11+00:00",
          "index": 103,
          "ownership": 0.02588179981001366,
          "total_supply": 11718508.34563734,
          "ts": 1673725031,
          "voter_vp": 303296.08707376
         },
         {
          "Date": "2023-01-16T19:39:59+00:00",
          "index": 104,
          "ownership": 0.02588179981001366,
          "total_supply": 11718508.34563734,
          "ts": 1673897999,
          "voter_vp": 303296.08707376
         }
        ]
       },
       "layer": [
        {
         "encoding": {
          "x": {
           "axis": {
            "format": "%Y-%m",
            "labelFlush": false,
            "tickCount": "month"
           },
           "field": "Date",
           "type": "temporal"
          },
          "y": {
           "axis": {
            "title": "vlAURA Total Supply",
            "titleColor": "rgb(217, 95, 2)"
           },
           "field": "total_supply",
           "scale": {
            "zero": false
           },
           "type": "quantitative"
          }
         },
         "mark": {
          "color": "rgb(217, 95, 2)",
          "type": "line"
         },
         "title": "AURA Voting Power Insights",
         "width": 900
        },
        {
         "encoding": {
          "x": {
           "axis": {
            "format": "%Y-%m",
            "labelFlush": false,
            "tickCount": "month"
           },
           "field": "Date",
           "type": "temporal"
          },
          "y": {
           "axis": {
            "title": "DAO Voting Power",
            "titleColor": "rgb(220,20,60)"
           },
           "field": "voter_vp",
           "scale": {
            "zero": false
           },
           "type": "quantitative"
          }
         },
         "mark": {
          "color": "rgb(220,20,60)",
          "type": "line"
         },
         "title": "AURA Voting Power Insights",
         "width": 900
        }
       ],
       "resolve": {
        "scale": {
         "y": "independent"
        }
       }
      },
      "text/plain": [
       "<VegaLite 4 object>\n",
       "\n",
       "If you see this message, it means the renderer has not been properly enabled\n",
       "for the frontend that you are using. For more information, see\n",
       "https://altair-viz.github.io/user_guide/troubleshooting.html\n"
      ]
     },
     "execution_count": 121,
     "metadata": {},
     "output_type": "execute_result"
    }
   ],
   "source": [
    "# Plot the historical vlAURA pd\n",
    "base = (\n",
    "    alt.Chart(df.reset_index(), width=900, title=f'AURA Voting Power Insights')\n",
    "    .encode(\n",
    "        alt.X('Date:T', axis=alt.Axis(format='%Y-%m', labelFlush=False, tickCount=alt.TimeInterval('month')))\n",
    "    )\n",
    ")\n",
    "total_supply = (\n",
    "    base.mark_line(color='rgb(217, 95, 2)')\n",
    "    .encode(\n",
    "        alt.Y('total_supply', axis=alt.Axis(title='vlAURA Total Supply', titleColor='rgb(217, 95, 2)'), scale=alt.Scale(zero=False)),\n",
    "    )\n",
    ")\n",
    "voter_vp = (\n",
    "    base.mark_line(color='rgb(220,20,60)')\n",
    "    .encode(\n",
    "        alt.Y('voter_vp', axis=alt.Axis(title='DAO Voting Power', titleColor='rgb(220,20,60)'), scale=alt.Scale(zero=False)),\n",
    "    )\n",
    ")\n",
    "chart = alt.layer(total_supply, voter_vp).resolve_scale(y='independent')\n",
    "chart"
   ]
  },
  {
   "cell_type": "code",
   "execution_count": 122,
   "metadata": {},
   "outputs": [
    {
     "data": {
      "application/vnd.vegalite.v4+json": {
       "$schema": "https://vega.github.io/schema/vega-lite/v4.17.0.json",
       "config": {
        "view": {
         "continuousHeight": 300,
         "continuousWidth": 400
        }
       },
       "data": {
        "name": "data-26c8a91de99837b7e9f35b251be60716"
       },
       "datasets": {
        "data-26c8a91de99837b7e9f35b251be60716": [
         {
          "Date": "2022-06-09T10:58:28+00:00",
          "index": 0,
          "ownership": 0,
          "total_supply": 0,
          "ts": 1654772308,
          "voter_vp": 0
         },
         {
          "Date": "2022-06-11T21:32:11+00:00",
          "index": 1,
          "ownership": 0,
          "total_supply": 0,
          "ts": 1654983131,
          "voter_vp": 0
         },
         {
          "Date": "2022-06-14T08:44:03+00:00",
          "index": 2,
          "ownership": 0,
          "total_supply": 0,
          "ts": 1655196243,
          "voter_vp": 0
         },
         {
          "Date": "2022-06-16T19:58:37+00:00",
          "index": 3,
          "ownership": 0,
          "total_supply": 73371.56277845857,
          "ts": 1655409517,
          "voter_vp": 0
         },
         {
          "Date": "2022-06-19T07:06:08+00:00",
          "index": 4,
          "ownership": 0,
          "total_supply": 73371.56277845857,
          "ts": 1655622368,
          "voter_vp": 0
         },
         {
          "Date": "2022-06-21T19:24:41+00:00",
          "index": 5,
          "ownership": 0,
          "total_supply": 73371.56277845857,
          "ts": 1655839481,
          "voter_vp": 0
         },
         {
          "Date": "2022-06-24T11:53:27+00:00",
          "index": 6,
          "ownership": 0,
          "total_supply": 1327877.6014812638,
          "ts": 1656071607,
          "voter_vp": 0
         },
         {
          "Date": "2022-06-27T04:15:43+00:00",
          "index": 7,
          "ownership": 0,
          "total_supply": 1327877.6014812638,
          "ts": 1656303343,
          "voter_vp": 0
         },
         {
          "Date": "2022-06-29T20:28:59+00:00",
          "index": 8,
          "ownership": 0,
          "total_supply": 1327877.6014812638,
          "ts": 1656534539,
          "voter_vp": 0
         },
         {
          "Date": "2022-07-02T05:08:44+00:00",
          "index": 9,
          "ownership": 0,
          "total_supply": 2577611.9688574327,
          "ts": 1656738524,
          "voter_vp": 0
         },
         {
          "Date": "2022-07-04T10:13:55+00:00",
          "index": 10,
          "ownership": 0,
          "total_supply": 2577611.9688574327,
          "ts": 1656929635,
          "voter_vp": 0
         },
         {
          "Date": "2022-07-06T15:22:49+00:00",
          "index": 11,
          "ownership": 0,
          "total_supply": 2577611.9688574327,
          "ts": 1657120969,
          "voter_vp": 0
         },
         {
          "Date": "2022-07-08T20:17:03+00:00",
          "index": 12,
          "ownership": 0,
          "total_supply": 3488094.6832983484,
          "ts": 1657311423,
          "voter_vp": 0
         },
         {
          "Date": "2022-07-11T01:28:46+00:00",
          "index": 13,
          "ownership": 0,
          "total_supply": 3488094.6832983484,
          "ts": 1657502926,
          "voter_vp": 0
         },
         {
          "Date": "2022-07-13T06:27:32+00:00",
          "index": 14,
          "ownership": 0,
          "total_supply": 3488094.6832983484,
          "ts": 1657693652,
          "voter_vp": 0
         },
         {
          "Date": "2022-07-15T11:40:41+00:00",
          "index": 15,
          "ownership": 0,
          "total_supply": 4067971.6832565563,
          "ts": 1657885241,
          "voter_vp": 0
         },
         {
          "Date": "2022-07-17T16:53:30+00:00",
          "index": 16,
          "ownership": 0,
          "total_supply": 4067971.6832565563,
          "ts": 1658076810,
          "voter_vp": 0
         },
         {
          "Date": "2022-07-19T21:58:51+00:00",
          "index": 17,
          "ownership": 0,
          "total_supply": 4067971.6832565563,
          "ts": 1658267931,
          "voter_vp": 0
         },
         {
          "Date": "2022-07-22T03:19:53+00:00",
          "index": 18,
          "ownership": 0.007060106591009222,
          "total_supply": 4279346.899659543,
          "ts": 1658459993,
          "voter_vp": 30212.64525150122
         },
         {
          "Date": "2022-07-24T08:43:16+00:00",
          "index": 19,
          "ownership": 0.007060106591009222,
          "total_supply": 4279346.899659543,
          "ts": 1658652196,
          "voter_vp": 30212.64525150122
         },
         {
          "Date": "2022-07-26T14:26:07+00:00",
          "index": 20,
          "ownership": 0.007060106591009222,
          "total_supply": 4279346.899659543,
          "ts": 1658845567,
          "voter_vp": 30212.64525150122
         },
         {
          "Date": "2022-07-28T19:42:42+00:00",
          "index": 21,
          "ownership": 0.006636568528710497,
          "total_supply": 4552449.827165669,
          "ts": 1659037362,
          "voter_vp": 30212.64525150122
         },
         {
          "Date": "2022-07-31T01:19:49+00:00",
          "index": 22,
          "ownership": 0.006636568528710497,
          "total_supply": 4552449.827165669,
          "ts": 1659230389,
          "voter_vp": 30212.64525150122
         },
         {
          "Date": "2022-08-02T06:54:24+00:00",
          "index": 23,
          "ownership": 0.006636568528710497,
          "total_supply": 4552449.827165669,
          "ts": 1659423264,
          "voter_vp": 30212.64525150122
         },
         {
          "Date": "2022-08-04T12:32:18+00:00",
          "index": 24,
          "ownership": 0.010257049259336442,
          "total_supply": 4882633.795594643,
          "ts": 1659616338,
          "voter_vp": 50081.415356715115
         },
         {
          "Date": "2022-08-06T18:03:08+00:00",
          "index": 25,
          "ownership": 0.010257049259336442,
          "total_supply": 4882633.795594643,
          "ts": 1659808988,
          "voter_vp": 50081.415356715115
         },
         {
          "Date": "2022-08-08T23:27:14+00:00",
          "index": 26,
          "ownership": 0.010257049259336442,
          "total_supply": 4882633.795594643,
          "ts": 1660001234,
          "voter_vp": 50081.415356715115
         },
         {
          "Date": "2022-08-11T05:25:06+00:00",
          "index": 27,
          "ownership": 0.013667270777224941,
          "total_supply": 5230453.963143784,
          "ts": 1660195506,
          "voter_vp": 71486.03060209542
         },
         {
          "Date": "2022-08-13T11:35:20+00:00",
          "index": 28,
          "ownership": 0.013667270777224941,
          "total_supply": 5230453.963143784,
          "ts": 1660390520,
          "voter_vp": 71486.03060209542
         },
         {
          "Date": "2022-08-15T18:07:24+00:00",
          "index": 29,
          "ownership": 0.013667270777224941,
          "total_supply": 5230453.963143784,
          "ts": 1660586844,
          "voter_vp": 71486.03060209542
         },
         {
          "Date": "2022-08-18T00:19:08+00:00",
          "index": 30,
          "ownership": 0.0158372952222536,
          "total_supply": 5690337.179229851,
          "ts": 1660781948,
          "voter_vp": 90119.54982162894
         },
         {
          "Date": "2022-08-20T06:48:55+00:00",
          "index": 31,
          "ownership": 0.0158372952222536,
          "total_supply": 5690337.179229851,
          "ts": 1660978135,
          "voter_vp": 90119.54982162894
         },
         {
          "Date": "2022-08-22T13:20:42+00:00",
          "index": 32,
          "ownership": 0.0158372952222536,
          "total_supply": 5690337.179229851,
          "ts": 1661174442,
          "voter_vp": 90119.54982162894
         },
         {
          "Date": "2022-08-24T19:36:56+00:00",
          "index": 33,
          "ownership": 0.0158372952222536,
          "total_supply": 5690337.179229851,
          "ts": 1661369816,
          "voter_vp": 90119.54982162894
         },
         {
          "Date": "2022-08-27T02:53:11+00:00",
          "index": 34,
          "ownership": 0.01728541139790981,
          "total_supply": 6550680.135366358,
          "ts": 1661568791,
          "voter_vp": 113231.20107592302
         },
         {
          "Date": "2022-08-29T09:50:27+00:00",
          "index": 35,
          "ownership": 0.01728541139790981,
          "total_supply": 6550680.135366358,
          "ts": 1661766627,
          "voter_vp": 113231.20107592302
         },
         {
          "Date": "2022-08-31T16:46:21+00:00",
          "index": 36,
          "ownership": 0.01728541139790981,
          "total_supply": 6550680.135366358,
          "ts": 1661964381,
          "voter_vp": 113231.20107592302
         },
         {
          "Date": "2022-09-02T23:35:38+00:00",
          "index": 37,
          "ownership": 0.02093030970301436,
          "total_supply": 6900910.398311983,
          "ts": 1662161738,
          "voter_vp": 144438.19186942198
         },
         {
          "Date": "2022-09-05T06:53:35+00:00",
          "index": 38,
          "ownership": 0.02093030970301436,
          "total_supply": 6900910.398311983,
          "ts": 1662360815,
          "voter_vp": 144438.19186942198
         },
         {
          "Date": "2022-09-07T13:59:59+00:00",
          "index": 39,
          "ownership": 0.02093030970301436,
          "total_supply": 6900910.398311983,
          "ts": 1662559199,
          "voter_vp": 144438.19186942198
         },
         {
          "Date": "2022-09-09T21:25:19+00:00",
          "index": 40,
          "ownership": 0.023688204922285738,
          "total_supply": 7031495.035533791,
          "ts": 1662758719,
          "voter_vp": 166563.4953117593
         },
         {
          "Date": "2022-09-12T06:12:53+00:00",
          "index": 41,
          "ownership": 0.023688204922285738,
          "total_supply": 7031495.035533791,
          "ts": 1662963173,
          "voter_vp": 166563.4953117593
         },
         {
          "Date": "2022-09-14T15:19:47+00:00",
          "index": 42,
          "ownership": 0.023688204922285738,
          "total_supply": 7031495.035533791,
          "ts": 1663168787,
          "voter_vp": 166563.4953117593
         },
         {
          "Date": "2022-09-16T18:33:35+00:00",
          "index": 43,
          "ownership": 0.02317824988164291,
          "total_supply": 7186198.102199121,
          "ts": 1663353215,
          "voter_vp": 166563.4953117593
         },
         {
          "Date": "2022-09-18T18:45:23+00:00",
          "index": 44,
          "ownership": 0.02317824988164291,
          "total_supply": 7186198.102199121,
          "ts": 1663526723,
          "voter_vp": 166563.4953117593
         },
         {
          "Date": "2022-09-20T18:57:35+00:00",
          "index": 45,
          "ownership": 0.02317824988164291,
          "total_supply": 7186198.102199121,
          "ts": 1663700255,
          "voter_vp": 166563.4953117593
         },
         {
          "Date": "2022-09-22T19:22:23+00:00",
          "index": 46,
          "ownership": 0.023797354135884668,
          "total_supply": 7660446.876376027,
          "ts": 1663874543,
          "voter_vp": 182298.36715625183
         },
         {
          "Date": "2022-09-24T19:19:23+00:00",
          "index": 47,
          "ownership": 0.023797354135884668,
          "total_supply": 7660446.876376027,
          "ts": 1664047163,
          "voter_vp": 182298.36715625183
         },
         {
          "Date": "2022-09-26T19:19:11+00:00",
          "index": 48,
          "ownership": 0.023797354135884668,
          "total_supply": 7660446.876376027,
          "ts": 1664219951,
          "voter_vp": 182298.36715625183
         },
         {
          "Date": "2022-09-28T19:22:35+00:00",
          "index": 49,
          "ownership": 0.023797354135884668,
          "total_supply": 7660446.876376027,
          "ts": 1664392955,
          "voter_vp": 182298.36715625183
         },
         {
          "Date": "2022-09-30T19:24:11+00:00",
          "index": 50,
          "ownership": 0.02258421532289423,
          "total_supply": 8071937.171598388,
          "ts": 1664565851,
          "voter_vp": 182298.36715625183
         },
         {
          "Date": "2022-10-02T19:25:35+00:00",
          "index": 51,
          "ownership": 0.02258421532289423,
          "total_supply": 8071937.171598388,
          "ts": 1664738735,
          "voter_vp": 182298.36715625183
         },
         {
          "Date": "2022-10-04T19:29:11+00:00",
          "index": 52,
          "ownership": 0.02258421532289423,
          "total_supply": 8071937.171598388,
          "ts": 1664911751,
          "voter_vp": 182298.36715625183
         },
         {
          "Date": "2022-10-06T19:34:59+00:00",
          "index": 53,
          "ownership": 0.023549270525182065,
          "total_supply": 8265395.598228241,
          "ts": 1665084899,
          "voter_vp": 194644.0369403259
         },
         {
          "Date": "2022-10-08T19:35:59+00:00",
          "index": 54,
          "ownership": 0.023549270525182065,
          "total_supply": 8265395.598228241,
          "ts": 1665257759,
          "voter_vp": 194644.0369403259
         },
         {
          "Date": "2022-10-10T19:34:59+00:00",
          "index": 55,
          "ownership": 0.023549270525182065,
          "total_supply": 8265395.598228241,
          "ts": 1665430499,
          "voter_vp": 194644.0369403259
         },
         {
          "Date": "2022-10-12T19:33:23+00:00",
          "index": 56,
          "ownership": 0.023549270525182065,
          "total_supply": 8265395.598228241,
          "ts": 1665603203,
          "voter_vp": 194644.0369403259
         },
         {
          "Date": "2022-10-14T19:32:47+00:00",
          "index": 57,
          "ownership": 0.02274491078296392,
          "total_supply": 8054581.401016774,
          "ts": 1665775967,
          "voter_vp": 183200.73536024705
         },
         {
          "Date": "2022-10-16T19:31:35+00:00",
          "index": 58,
          "ownership": 0.02274491078296392,
          "total_supply": 8054581.401016774,
          "ts": 1665948695,
          "voter_vp": 183200.73536024705
         },
         {
          "Date": "2022-10-18T19:32:11+00:00",
          "index": 59,
          "ownership": 0.02274491078296392,
          "total_supply": 8054581.401016774,
          "ts": 1666121531,
          "voter_vp": 183200.73536024705
         },
         {
          "Date": "2022-10-20T19:32:23+00:00",
          "index": 60,
          "ownership": 0.024887801745138577,
          "total_supply": 7979222.769064773,
          "ts": 1666294343,
          "voter_vp": 198585.3143567797
         },
         {
          "Date": "2022-10-22T19:28:47+00:00",
          "index": 61,
          "ownership": 0.024887801745138577,
          "total_supply": 7979222.769064773,
          "ts": 1666466927,
          "voter_vp": 198585.3143567797
         },
         {
          "Date": "2022-10-24T19:34:23+00:00",
          "index": 62,
          "ownership": 0.024887801745138577,
          "total_supply": 7979222.769064773,
          "ts": 1666640063,
          "voter_vp": 198585.3143567797
         },
         {
          "Date": "2022-10-26T19:36:23+00:00",
          "index": 63,
          "ownership": 0.024887801745138577,
          "total_supply": 7979222.769064773,
          "ts": 1666812983,
          "voter_vp": 198585.3143567797
         },
         {
          "Date": "2022-10-28T19:38:23+00:00",
          "index": 64,
          "ownership": 0.028788431023253208,
          "total_supply": 8245289.952173748,
          "ts": 1666985903,
          "voter_vp": 237368.96105487668
         },
         {
          "Date": "2022-10-30T19:38:35+00:00",
          "index": 65,
          "ownership": 0.028788431023253208,
          "total_supply": 8245289.952173748,
          "ts": 1667158715,
          "voter_vp": 237368.96105487668
         },
         {
          "Date": "2022-11-01T19:42:59+00:00",
          "index": 66,
          "ownership": 0.028788431023253208,
          "total_supply": 8245289.952173748,
          "ts": 1667331779,
          "voter_vp": 237368.96105487668
         },
         {
          "Date": "2022-11-03T19:45:23+00:00",
          "index": 67,
          "ownership": 0.028639830081719886,
          "total_supply": 8448750.480078978,
          "ts": 1667504723,
          "voter_vp": 241970.77815231125
         },
         {
          "Date": "2022-11-05T19:44:23+00:00",
          "index": 68,
          "ownership": 0.028639830081719886,
          "total_supply": 8448750.480078978,
          "ts": 1667677463,
          "voter_vp": 241970.77815231125
         },
         {
          "Date": "2022-11-07T19:41:11+00:00",
          "index": 69,
          "ownership": 0.028639830081719886,
          "total_supply": 8448750.480078978,
          "ts": 1667850071,
          "voter_vp": 241970.77815231125
         },
         {
          "Date": "2022-11-09T19:42:35+00:00",
          "index": 70,
          "ownership": 0.028639830081719886,
          "total_supply": 8448750.480078978,
          "ts": 1668022955,
          "voter_vp": 241970.77815231125
         },
         {
          "Date": "2022-11-11T19:44:35+00:00",
          "index": 71,
          "ownership": 0.027895114817717656,
          "total_supply": 9744902.084495533,
          "ts": 1668195875,
          "voter_vp": 271835.16253441904
         },
         {
          "Date": "2022-11-13T19:41:23+00:00",
          "index": 72,
          "ownership": 0.027895114817717656,
          "total_supply": 9744902.084495533,
          "ts": 1668368483,
          "voter_vp": 271835.16253441904
         },
         {
          "Date": "2022-11-15T19:40:47+00:00",
          "index": 73,
          "ownership": 0.027895114817717656,
          "total_supply": 9744902.084495533,
          "ts": 1668541247,
          "voter_vp": 271835.16253441904
         },
         {
          "Date": "2022-11-17T19:42:35+00:00",
          "index": 74,
          "ownership": 0.028705116687909402,
          "total_supply": 9797419.605290648,
          "ts": 1668714155,
          "voter_vp": 281236.07301027933
         },
         {
          "Date": "2022-11-19T19:42:35+00:00",
          "index": 75,
          "ownership": 0.028705116687909402,
          "total_supply": 9797419.605290648,
          "ts": 1668886955,
          "voter_vp": 281236.07301027933
         },
         {
          "Date": "2022-11-21T19:41:11+00:00",
          "index": 76,
          "ownership": 0.028705116687909402,
          "total_supply": 9797419.605290648,
          "ts": 1669059671,
          "voter_vp": 281236.07301027933
         },
         {
          "Date": "2022-11-23T19:44:59+00:00",
          "index": 77,
          "ownership": 0.028705116687909402,
          "total_supply": 9797419.605290648,
          "ts": 1669232699,
          "voter_vp": 281236.07301027933
         },
         {
          "Date": "2022-11-25T19:47:35+00:00",
          "index": 78,
          "ownership": 0.026474215227560317,
          "total_supply": 10198137.401073776,
          "ts": 1669405655,
          "voter_vp": 269987.68447625975
         },
         {
          "Date": "2022-11-27T19:46:47+00:00",
          "index": 79,
          "ownership": 0.026474215227560317,
          "total_supply": 10198137.401073776,
          "ts": 1669578407,
          "voter_vp": 269987.68447625975
         },
         {
          "Date": "2022-11-29T19:45:23+00:00",
          "index": 80,
          "ownership": 0.026474215227560317,
          "total_supply": 10198137.401073776,
          "ts": 1669751123,
          "voter_vp": 269987.68447625975
         },
         {
          "Date": "2022-12-01T19:47:59+00:00",
          "index": 81,
          "ownership": 0.0281652926715211,
          "total_supply": 10513945.729118897,
          "ts": 1669924079,
          "voter_vp": 296128.35859312303
         },
         {
          "Date": "2022-12-03T19:46:23+00:00",
          "index": 82,
          "ownership": 0.0281652926715211,
          "total_supply": 10513945.729118897,
          "ts": 1670096783,
          "voter_vp": 296128.35859312303
         },
         {
          "Date": "2022-12-05T19:50:11+00:00",
          "index": 83,
          "ownership": 0.0281652926715211,
          "total_supply": 10513945.729118897,
          "ts": 1670269811,
          "voter_vp": 296128.35859312303
         },
         {
          "Date": "2022-12-07T20:05:35+00:00",
          "index": 84,
          "ownership": 0.0281652926715211,
          "total_supply": 10513945.729118897,
          "ts": 1670443535,
          "voter_vp": 296128.35859312303
         },
         {
          "Date": "2022-12-09T20:06:23+00:00",
          "index": 85,
          "ownership": 0.026979636418357218,
          "total_supply": 10579709.90647532,
          "ts": 1670616383,
          "voter_vp": 285436.7266883962
         },
         {
          "Date": "2022-12-11T20:05:47+00:00",
          "index": 86,
          "ownership": 0.026979636418357218,
          "total_supply": 10579709.90647532,
          "ts": 1670789147,
          "voter_vp": 285436.7266883962
         },
         {
          "Date": "2022-12-13T20:07:59+00:00",
          "index": 87,
          "ownership": 0.026979636418357218,
          "total_supply": 10579709.90647532,
          "ts": 1670962079,
          "voter_vp": 285436.7266883962
         },
         {
          "Date": "2022-12-15T20:07:47+00:00",
          "index": 88,
          "ownership": 0.027925895152190322,
          "total_supply": 10888469.080429116,
          "ts": 1671134867,
          "voter_vp": 304070.24590792967
         },
         {
          "Date": "2022-12-17T20:06:59+00:00",
          "index": 89,
          "ownership": 0.027925895152190322,
          "total_supply": 10888469.080429116,
          "ts": 1671307619,
          "voter_vp": 304070.24590792967
         },
         {
          "Date": "2022-12-19T20:05:35+00:00",
          "index": 90,
          "ownership": 0.027925895152190322,
          "total_supply": 10888469.080429116,
          "ts": 1671480335,
          "voter_vp": 304070.24590792967
         },
         {
          "Date": "2022-12-21T20:03:11+00:00",
          "index": 91,
          "ownership": 0.027925895152190322,
          "total_supply": 10888469.080429116,
          "ts": 1671652991,
          "voter_vp": 304070.24590792967
         },
         {
          "Date": "2022-12-23T19:57:11+00:00",
          "index": 92,
          "ownership": 0.025012175732678714,
          "total_supply": 10919904.126316022,
          "ts": 1671825431,
          "voter_vp": 273130.56099141977
         },
         {
          "Date": "2022-12-25T19:54:35+00:00",
          "index": 93,
          "ownership": 0.025012175732678714,
          "total_supply": 10919904.126316022,
          "ts": 1671998075,
          "voter_vp": 273130.56099141977
         },
         {
          "Date": "2022-12-27T19:54:11+00:00",
          "index": 94,
          "ownership": 0.025012175732678714,
          "total_supply": 10919904.126316022,
          "ts": 1672170851,
          "voter_vp": 273130.56099141977
         },
         {
          "Date": "2022-12-29T19:51:59+00:00",
          "index": 95,
          "ownership": 0.027286969070337185,
          "total_supply": 11153219.362708723,
          "ts": 1672343519,
          "voter_vp": 304337.55178491876
         },
         {
          "Date": "2022-12-31T19:49:35+00:00",
          "index": 96,
          "ownership": 0.027286969070337185,
          "total_supply": 11153219.362708723,
          "ts": 1672516175,
          "voter_vp": 304337.55178491876
         },
         {
          "Date": "2023-01-02T19:44:47+00:00",
          "index": 97,
          "ownership": 0.027286969070337185,
          "total_supply": 11153219.362708723,
          "ts": 1672688687,
          "voter_vp": 304337.55178491876
         },
         {
          "Date": "2023-01-04T19:41:11+00:00",
          "index": 98,
          "ownership": 0.027286969070337185,
          "total_supply": 11153219.362708723,
          "ts": 1672861271,
          "voter_vp": 304337.55178491876
         },
         {
          "Date": "2023-01-06T19:42:23+00:00",
          "index": 99,
          "ownership": 0.027659956326814162,
          "total_supply": 11534036.97203155,
          "ts": 1673034143,
          "voter_vp": 319030.95891825255
         },
         {
          "Date": "2023-01-08T19:40:47+00:00",
          "index": 100,
          "ownership": 0.027659956326814162,
          "total_supply": 11534036.97203155,
          "ts": 1673206847,
          "voter_vp": 319030.95891825255
         },
         {
          "Date": "2023-01-10T19:36:35+00:00",
          "index": 101,
          "ownership": 0.027659956326814162,
          "total_supply": 11534036.97203155,
          "ts": 1673379395,
          "voter_vp": 319030.95891825255
         },
         {
          "Date": "2023-01-12T19:39:23+00:00",
          "index": 102,
          "ownership": 0.02588179981001366,
          "total_supply": 11718508.34563734,
          "ts": 1673552363,
          "voter_vp": 303296.08707376
         },
         {
          "Date": "2023-01-14T19:37:11+00:00",
          "index": 103,
          "ownership": 0.02588179981001366,
          "total_supply": 11718508.34563734,
          "ts": 1673725031,
          "voter_vp": 303296.08707376
         },
         {
          "Date": "2023-01-16T19:39:59+00:00",
          "index": 104,
          "ownership": 0.02588179981001366,
          "total_supply": 11718508.34563734,
          "ts": 1673897999,
          "voter_vp": 303296.08707376
         }
        ]
       },
       "layer": [
        {
         "encoding": {
          "x": {
           "axis": {
            "format": "%Y-%m",
            "labelFlush": false,
            "tickCount": "month"
           },
           "field": "Date",
           "type": "temporal"
          },
          "y": {
           "axis": {
            "title": "DAO Ownership",
            "titleColor": "rgb(102,205,170)"
           },
           "field": "ownership",
           "type": "quantitative"
          }
         },
         "mark": {
          "color": "rgb(102,205,170)",
          "type": "bar",
          "width": 2
         },
         "title": "Historical Ownership",
         "width": 900
        }
       ]
      },
      "text/plain": [
       "<VegaLite 4 object>\n",
       "\n",
       "If you see this message, it means the renderer has not been properly enabled\n",
       "for the frontend that you are using. For more information, see\n",
       "https://altair-viz.github.io/user_guide/troubleshooting.html\n"
      ]
     },
     "execution_count": 122,
     "metadata": {},
     "output_type": "execute_result"
    }
   ],
   "source": [
    "# Ownership\n",
    "base = (\n",
    "    alt.Chart(df.reset_index(), width=900, title=f'Historical Ownership')\n",
    "    .encode(\n",
    "        alt.X('Date:T', axis=alt.Axis(format='%Y-%m', labelFlush=False, tickCount=alt.TimeInterval('month')))\n",
    "    )\n",
    ")\n",
    "ownership = (\n",
    "    base.mark_bar(width=2, color='rgb(102,205,170)')\n",
    "    .encode(\n",
    "        alt.Y('ownership', axis=alt.Axis(title='DAO Ownership', titleColor='rgb(102,205,170)')),\n",
    "    )\n",
    ")\n",
    "chart = alt.layer(ownership)\n",
    "chart"
   ]
  },
  {
   "cell_type": "code",
   "execution_count": 45,
   "metadata": {},
   "outputs": [
    {
     "data": {
      "text/html": [
       "<div>\n",
       "<style scoped>\n",
       "    .dataframe tbody tr th:only-of-type {\n",
       "        vertical-align: middle;\n",
       "    }\n",
       "\n",
       "    .dataframe tbody tr th {\n",
       "        vertical-align: top;\n",
       "    }\n",
       "\n",
       "    .dataframe thead th {\n",
       "        text-align: right;\n",
       "    }\n",
       "</style>\n",
       "<table border=\"1\" class=\"dataframe\">\n",
       "  <thead>\n",
       "    <tr style=\"text-align: right;\">\n",
       "      <th></th>\n",
       "      <th>Badger price</th>\n",
       "      <th>Balancer price</th>\n",
       "      <th>Aura price</th>\n",
       "      <th>Rpl price</th>\n",
       "    </tr>\n",
       "  </thead>\n",
       "  <tbody>\n",
       "    <tr>\n",
       "      <th>0</th>\n",
       "      <td>$2.67</td>\n",
       "      <td>$6.63</td>\n",
       "      <td>$2.00</td>\n",
       "      <td>$31.98</td>\n",
       "    </tr>\n",
       "  </tbody>\n",
       "</table>\n",
       "</div>"
      ],
      "text/plain": [
       "  Badger price Balancer price Aura price Rpl price\n",
       "0        $2.67          $6.63      $2.00    $31.98"
      ]
     },
     "execution_count": 45,
     "metadata": {},
     "output_type": "execute_result"
    }
   ],
   "source": [
    "# tokens pricings\n",
    "bal_price, aura_price,  badger_price, rpl_price = get_prices()\n",
    "data = [[\"${:.2f}\".format(badger_price),  \"${:.2f}\".format(bal_price), \"${:.2f}\".format(aura_price), \"${:.2f}\".format(rpl_price)]]\n",
    "headers = [\"Badger price\", \"Balancer price\", \"Aura price\", \"Rpl price\"]\n",
    "df_prices = pd.DataFrame(data, columns=headers)\n",
    "df_prices"
   ]
  },
  {
   "cell_type": "code",
   "execution_count": 46,
   "metadata": {},
   "outputs": [
    {
     "data": {
      "text/html": [
       "<div>\n",
       "<style scoped>\n",
       "    .dataframe tbody tr th:only-of-type {\n",
       "        vertical-align: middle;\n",
       "    }\n",
       "\n",
       "    .dataframe tbody tr th {\n",
       "        vertical-align: top;\n",
       "    }\n",
       "\n",
       "    .dataframe thead th {\n",
       "        text-align: right;\n",
       "    }\n",
       "</style>\n",
       "<table border=\"1\" class=\"dataframe\">\n",
       "  <thead>\n",
       "    <tr style=\"text-align: right;\">\n",
       "      <th></th>\n",
       "      <th>Aura Mint Balancer Ratio</th>\n",
       "      <th>Bi-weekly Emissions</th>\n",
       "    </tr>\n",
       "  </thead>\n",
       "  <tbody>\n",
       "    <tr>\n",
       "      <th>0</th>\n",
       "      <td>3.58057</td>\n",
       "      <td>$2999572.8842</td>\n",
       "    </tr>\n",
       "  </tbody>\n",
       "</table>\n",
       "</div>"
      ],
      "text/plain": [
       "   Aura Mint Balancer Ratio Bi-weekly Emissions\n",
       "0                   3.58057       $2999572.8842"
      ]
     },
     "execution_count": 46,
     "metadata": {},
     "output_type": "execute_result"
    }
   ],
   "source": [
    "# emissions ecosystem\n",
    "aura = Contract('0xC0c293ce456fF0ED870ADd98a0828Dd4d2903DBF')\n",
    "aura_mint_ratio = aura_mint_ratio(aura, latest_block)\n",
    "weekly_emissions_after_fee = weekly_emissions_after_fee(aura_mint_ratio, bal_price, aura_price)\n",
    "biweekly_emissions = weekly_emissions_after_fee * 2\n",
    "data = [[aura_mint_ratio, dollar_format(biweekly_emissions)]]\n",
    "headers = [\"Aura Mint Balancer Ratio\", \"Bi-weekly Emissions\"]\n",
    "df_emissions = pd.DataFrame(data, columns=headers)\n",
    "df_emissions"
   ]
  },
  {
   "cell_type": "code",
   "execution_count": 49,
   "metadata": {},
   "outputs": [],
   "source": [
    "# Mint ratio progress in past months\n",
    "mint_ratio_history = []\n",
    "for block in range(deployment_block, latest_block, BLOCK_JUMP):\n",
    "    ratio_at_block = aura_mint_ratio(aura, block)\n",
    "    mint_ratio_history.append(ratio_at_block)\n",
    "df_mint = pd.DataFrame(mint_ratio_history, columns = ['mint_ratio'])\n",
    "df_mint['Date'] = df[\"Date\"]"
   ]
  },
  {
   "cell_type": "code",
   "execution_count": 123,
   "metadata": {},
   "outputs": [
    {
     "data": {
      "application/vnd.vegalite.v4+json": {
       "$schema": "https://vega.github.io/schema/vega-lite/v4.17.0.json",
       "config": {
        "view": {
         "continuousHeight": 300,
         "continuousWidth": 400
        }
       },
       "data": {
        "name": "data-64b45e6a88d3391c0a2b54cc6a7bb41e"
       },
       "datasets": {
        "data-64b45e6a88d3391c0a2b54cc6a7bb41e": [
         {
          "Date": "2022-06-09T10:58:28+00:00",
          "index": 0,
          "mint_ratio": 6.4
         },
         {
          "Date": "2022-06-11T21:32:11+00:00",
          "index": 1,
          "mint_ratio": 3.9
         },
         {
          "Date": "2022-06-14T08:44:03+00:00",
          "index": 2,
          "mint_ratio": 3.9
         },
         {
          "Date": "2022-06-16T19:58:37+00:00",
          "index": 3,
          "mint_ratio": 3.9
         },
         {
          "Date": "2022-06-19T07:06:08+00:00",
          "index": 4,
          "mint_ratio": 3.9
         },
         {
          "Date": "2022-06-21T19:24:41+00:00",
          "index": 5,
          "mint_ratio": 3.9
         },
         {
          "Date": "2022-06-24T11:53:27+00:00",
          "index": 6,
          "mint_ratio": 3.8999999994693653
         },
         {
          "Date": "2022-06-27T04:15:43+00:00",
          "index": 7,
          "mint_ratio": 3.899995957196581
         },
         {
          "Date": "2022-06-29T20:28:59+00:00",
          "index": 8,
          "mint_ratio": 3.8999030864597652
         },
         {
          "Date": "2022-07-02T05:08:44+00:00",
          "index": 9,
          "mint_ratio": 3.8997995127980505
         },
         {
          "Date": "2022-07-04T10:13:55+00:00",
          "index": 10,
          "mint_ratio": 3.899707325392752
         },
         {
          "Date": "2022-07-06T15:22:49+00:00",
          "index": 11,
          "mint_ratio": 3.8993445265997053
         },
         {
          "Date": "2022-07-08T20:17:03+00:00",
          "index": 12,
          "mint_ratio": 3.898625746621762
         },
         {
          "Date": "2022-07-11T01:28:46+00:00",
          "index": 13,
          "mint_ratio": 3.8982777834293074
         },
         {
          "Date": "2022-07-13T06:27:32+00:00",
          "index": 14,
          "mint_ratio": 3.8973348990192993
         },
         {
          "Date": "2022-07-15T11:40:41+00:00",
          "index": 15,
          "mint_ratio": 3.895468321719601
         },
         {
          "Date": "2022-07-17T16:53:30+00:00",
          "index": 16,
          "mint_ratio": 3.89435317181554
         },
         {
          "Date": "2022-07-19T21:58:51+00:00",
          "index": 17,
          "mint_ratio": 3.8896002385003294
         },
         {
          "Date": "2022-07-22T03:19:53+00:00",
          "index": 18,
          "mint_ratio": 3.887364628617284
         },
         {
          "Date": "2022-07-24T08:43:16+00:00",
          "index": 19,
          "mint_ratio": 3.8852215467057927
         },
         {
          "Date": "2022-07-26T14:26:07+00:00",
          "index": 20,
          "mint_ratio": 3.8813638715409366
         },
         {
          "Date": "2022-07-28T19:42:42+00:00",
          "index": 21,
          "mint_ratio": 3.8787707282639476
         },
         {
          "Date": "2022-07-31T01:19:49+00:00",
          "index": 22,
          "mint_ratio": 3.8763909847223648
         },
         {
          "Date": "2022-08-02T06:54:24+00:00",
          "index": 23,
          "mint_ratio": 3.8710143330275097
         },
         {
          "Date": "2022-08-04T12:32:18+00:00",
          "index": 24,
          "mint_ratio": 3.866521321683724
         },
         {
          "Date": "2022-08-06T18:03:08+00:00",
          "index": 25,
          "mint_ratio": 3.8635440994271657
         },
         {
          "Date": "2022-08-08T23:27:14+00:00",
          "index": 26,
          "mint_ratio": 3.858594888426093
         },
         {
          "Date": "2022-08-11T05:25:06+00:00",
          "index": 27,
          "mint_ratio": 3.853970624808941
         },
         {
          "Date": "2022-08-13T11:35:20+00:00",
          "index": 28,
          "mint_ratio": 3.8492847278881785
         },
         {
          "Date": "2022-08-15T18:07:24+00:00",
          "index": 29,
          "mint_ratio": 3.843906442974272
         },
         {
          "Date": "2022-08-18T00:19:08+00:00",
          "index": 30,
          "mint_ratio": 3.8372142461393115
         },
         {
          "Date": "2022-08-20T06:48:55+00:00",
          "index": 31,
          "mint_ratio": 3.831826662646155
         },
         {
          "Date": "2022-08-22T13:20:42+00:00",
          "index": 32,
          "mint_ratio": 3.827403236925271
         },
         {
          "Date": "2022-08-24T19:36:56+00:00",
          "index": 33,
          "mint_ratio": 3.819548745736746
         },
         {
          "Date": "2022-08-27T02:53:11+00:00",
          "index": 34,
          "mint_ratio": 3.816657573303724
         },
         {
          "Date": "2022-08-29T09:50:27+00:00",
          "index": 35,
          "mint_ratio": 3.812501584266953
         },
         {
          "Date": "2022-08-31T16:46:21+00:00",
          "index": 36,
          "mint_ratio": 3.8046308531184097
         },
         {
          "Date": "2022-09-02T23:35:38+00:00",
          "index": 37,
          "mint_ratio": 3.797954113129404
         },
         {
          "Date": "2022-09-05T06:53:35+00:00",
          "index": 38,
          "mint_ratio": 3.7951794307571416
         },
         {
          "Date": "2022-09-07T13:59:59+00:00",
          "index": 39,
          "mint_ratio": 3.7896106672527567
         },
         {
          "Date": "2022-09-09T21:25:19+00:00",
          "index": 40,
          "mint_ratio": 3.7863751792449722
         },
         {
          "Date": "2022-09-12T06:12:53+00:00",
          "index": 41,
          "mint_ratio": 3.7827934177360203
         },
         {
          "Date": "2022-09-14T15:19:47+00:00",
          "index": 42,
          "mint_ratio": 3.7803063455212094
         },
         {
          "Date": "2022-09-16T18:33:35+00:00",
          "index": 43,
          "mint_ratio": 3.7755279244227578
         },
         {
          "Date": "2022-09-18T18:45:23+00:00",
          "index": 44,
          "mint_ratio": 3.7739880959533756
         },
         {
          "Date": "2022-09-20T18:57:35+00:00",
          "index": 45,
          "mint_ratio": 3.768238091732001
         },
         {
          "Date": "2022-09-22T19:22:23+00:00",
          "index": 46,
          "mint_ratio": 3.7632637630749293
         },
         {
          "Date": "2022-09-24T19:19:23+00:00",
          "index": 47,
          "mint_ratio": 3.760014251436857
         },
         {
          "Date": "2022-09-26T19:19:11+00:00",
          "index": 48,
          "mint_ratio": 3.7570564096771815
         },
         {
          "Date": "2022-09-28T19:22:35+00:00",
          "index": 49,
          "mint_ratio": 3.75309336556385
         },
         {
          "Date": "2022-09-30T19:24:11+00:00",
          "index": 50,
          "mint_ratio": 3.7513781192811115
         },
         {
          "Date": "2022-10-02T19:25:35+00:00",
          "index": 51,
          "mint_ratio": 3.7487584098213045
         },
         {
          "Date": "2022-10-04T19:29:11+00:00",
          "index": 52,
          "mint_ratio": 3.7454487843675595
         },
         {
          "Date": "2022-10-06T19:34:59+00:00",
          "index": 53,
          "mint_ratio": 3.7405080454105164
         },
         {
          "Date": "2022-10-08T19:35:59+00:00",
          "index": 54,
          "mint_ratio": 3.738769212027724
         },
         {
          "Date": "2022-10-10T19:34:59+00:00",
          "index": 55,
          "mint_ratio": 3.7369866864352836
         },
         {
          "Date": "2022-10-12T19:33:23+00:00",
          "index": 56,
          "mint_ratio": 3.733218938218046
         },
         {
          "Date": "2022-10-14T19:32:47+00:00",
          "index": 57,
          "mint_ratio": 3.729495926516983
         },
         {
          "Date": "2022-10-16T19:31:35+00:00",
          "index": 58,
          "mint_ratio": 3.727643580719604
         },
         {
          "Date": "2022-10-18T19:32:11+00:00",
          "index": 59,
          "mint_ratio": 3.7200375320619385
         },
         {
          "Date": "2022-10-20T19:32:23+00:00",
          "index": 60,
          "mint_ratio": 3.7152785035343907
         },
         {
          "Date": "2022-10-22T19:28:47+00:00",
          "index": 61,
          "mint_ratio": 3.7100191787223107
         },
         {
          "Date": "2022-10-24T19:34:23+00:00",
          "index": 62,
          "mint_ratio": 3.7064769616189595
         },
         {
          "Date": "2022-10-26T19:36:23+00:00",
          "index": 63,
          "mint_ratio": 3.700070468012256
         },
         {
          "Date": "2022-10-28T19:38:23+00:00",
          "index": 64,
          "mint_ratio": 3.6953027808144823
         },
         {
          "Date": "2022-10-30T19:38:35+00:00",
          "index": 65,
          "mint_ratio": 3.691884633185524
         },
         {
          "Date": "2022-11-01T19:42:59+00:00",
          "index": 66,
          "mint_ratio": 3.6875885560733077
         },
         {
          "Date": "2022-11-03T19:45:23+00:00",
          "index": 67,
          "mint_ratio": 3.685682166189894
         },
         {
          "Date": "2022-11-05T19:44:23+00:00",
          "index": 68,
          "mint_ratio": 3.6827040939182956
         },
         {
          "Date": "2022-11-07T19:41:11+00:00",
          "index": 69,
          "mint_ratio": 3.6798944093776744
         },
         {
          "Date": "2022-11-09T19:42:35+00:00",
          "index": 70,
          "mint_ratio": 3.6782266534564134
         },
         {
          "Date": "2022-11-11T19:44:35+00:00",
          "index": 71,
          "mint_ratio": 3.674132483623364
         },
         {
          "Date": "2022-11-13T19:41:23+00:00",
          "index": 72,
          "mint_ratio": 3.671850029226512
         },
         {
          "Date": "2022-11-15T19:40:47+00:00",
          "index": 73,
          "mint_ratio": 3.668389647285772
         },
         {
          "Date": "2022-11-17T19:42:35+00:00",
          "index": 74,
          "mint_ratio": 3.665097048132789
         },
         {
          "Date": "2022-11-19T19:42:35+00:00",
          "index": 75,
          "mint_ratio": 3.66199141657408
         },
         {
          "Date": "2022-11-21T19:41:11+00:00",
          "index": 76,
          "mint_ratio": 3.658767268878863
         },
         {
          "Date": "2022-11-23T19:44:59+00:00",
          "index": 77,
          "mint_ratio": 3.6512488822392384
         },
         {
          "Date": "2022-11-25T19:47:35+00:00",
          "index": 78,
          "mint_ratio": 3.646651866750935
         },
         {
          "Date": "2022-11-27T19:46:47+00:00",
          "index": 79,
          "mint_ratio": 3.6424236886490706
         },
         {
          "Date": "2022-11-29T19:45:23+00:00",
          "index": 80,
          "mint_ratio": 3.6393279189037955
         },
         {
          "Date": "2022-12-01T19:47:59+00:00",
          "index": 81,
          "mint_ratio": 3.633928670569093
         },
         {
          "Date": "2022-12-03T19:46:23+00:00",
          "index": 82,
          "mint_ratio": 3.6320644302974925
         },
         {
          "Date": "2022-12-05T19:50:11+00:00",
          "index": 83,
          "mint_ratio": 3.6305782066066303
         },
         {
          "Date": "2022-12-07T20:05:35+00:00",
          "index": 84,
          "mint_ratio": 3.626979693069609
         },
         {
          "Date": "2022-12-09T20:06:23+00:00",
          "index": 85,
          "mint_ratio": 3.6254582675171347
         },
         {
          "Date": "2022-12-11T20:05:47+00:00",
          "index": 86,
          "mint_ratio": 3.6222776426952223
         },
         {
          "Date": "2022-12-13T20:07:59+00:00",
          "index": 87,
          "mint_ratio": 3.617076352446343
         },
         {
          "Date": "2022-12-15T20:07:47+00:00",
          "index": 88,
          "mint_ratio": 3.6170753259647794
         },
         {
          "Date": "2022-12-17T20:06:59+00:00",
          "index": 89,
          "mint_ratio": 3.616996611682153
         },
         {
          "Date": "2022-12-19T20:05:35+00:00",
          "index": 90,
          "mint_ratio": 3.616466210810682
         },
         {
          "Date": "2022-12-21T20:03:11+00:00",
          "index": 91,
          "mint_ratio": 3.615440525065025
         },
         {
          "Date": "2022-12-23T19:57:11+00:00",
          "index": 92,
          "mint_ratio": 3.614122159872412
         },
         {
          "Date": "2022-12-25T19:54:35+00:00",
          "index": 93,
          "mint_ratio": 3.612873687001613
         },
         {
          "Date": "2022-12-27T19:54:11+00:00",
          "index": 94,
          "mint_ratio": 3.6100382285165606
         },
         {
          "Date": "2022-12-29T19:51:59+00:00",
          "index": 95,
          "mint_ratio": 3.608454836268134
         },
         {
          "Date": "2022-12-31T19:49:35+00:00",
          "index": 96,
          "mint_ratio": 3.6055557792099053
         },
         {
          "Date": "2023-01-02T19:44:47+00:00",
          "index": 97,
          "mint_ratio": 3.604673633296721
         },
         {
          "Date": "2023-01-04T19:41:11+00:00",
          "index": 98,
          "mint_ratio": 3.5989998025279846
         },
         {
          "Date": "2023-01-06T19:42:23+00:00",
          "index": 99,
          "mint_ratio": 3.597843937929498
         },
         {
          "Date": "2023-01-08T19:40:47+00:00",
          "index": 100,
          "mint_ratio": 3.594566698170817
         },
         {
          "Date": "2023-01-10T19:36:35+00:00",
          "index": 101,
          "mint_ratio": 3.590039580243446
         },
         {
          "Date": "2023-01-12T19:39:23+00:00",
          "index": 102,
          "mint_ratio": 3.586530757747914
         },
         {
          "Date": "2023-01-14T19:37:11+00:00",
          "index": 103,
          "mint_ratio": 3.5847335474866924
         },
         {
          "Date": "2023-01-16T19:39:59+00:00",
          "index": 104,
          "mint_ratio": 3.582182133249835
         }
        ]
       },
       "layer": [
        {
         "encoding": {
          "x": {
           "axis": {
            "format": "%Y-%m",
            "labelFlush": false,
            "tickCount": "month"
           },
           "field": "Date",
           "type": "temporal"
          },
          "y": {
           "axis": {
            "title": "Aura Mint Balancer Ratio",
            "titleColor": "rgb(217, 95, 2)"
           },
           "field": "mint_ratio",
           "scale": {
            "zero": false
           },
           "type": "quantitative"
          }
         },
         "mark": {
          "color": "rgb(217, 95, 2)",
          "type": "line"
         },
         "title": "Minting Ratio Historical",
         "width": 900
        }
       ]
      },
      "text/plain": [
       "<VegaLite 4 object>\n",
       "\n",
       "If you see this message, it means the renderer has not been properly enabled\n",
       "for the frontend that you are using. For more information, see\n",
       "https://altair-viz.github.io/user_guide/troubleshooting.html\n"
      ]
     },
     "execution_count": 123,
     "metadata": {},
     "output_type": "execute_result"
    }
   ],
   "source": [
    "# Plot minting decay progress over time\n",
    "base = (\n",
    "    alt.Chart(df_mint.reset_index(), width=900, title=f'Minting Ratio Historical')\n",
    "    .encode(\n",
    "        alt.X('Date:T', axis=alt.Axis(format='%Y-%m', labelFlush=False, tickCount=alt.TimeInterval('month')))\n",
    "    )\n",
    ")\n",
    "mint_ratio = (\n",
    "    base.mark_line(color='rgb(217, 95, 2)')\n",
    "    .encode(\n",
    "        alt.Y('mint_ratio', axis=alt.Axis(title='Aura Mint Balancer Ratio', titleColor='rgb(217, 95, 2)'), scale=alt.Scale(zero=False)),\n",
    "    )\n",
    ")\n",
    "chart = alt.layer(mint_ratio)\n",
    "chart"
   ]
  },
  {
   "cell_type": "code",
   "execution_count": 53,
   "metadata": {},
   "outputs": [],
   "source": [
    "# ETH expectations to be used as coll\n",
    "ETH_AVAIL = 1534 # NOTE: from portfolio report\n",
    "MONTHLY_BURN = 10\n",
    "TRANCHE_A = MONTHLY_BURN * 3 # NOTE: quarter consideration\n",
    "TRANCHE_B = MONTHLY_BURN * 6 # NOTE: additional 6m of eth expenses\n",
    "TRANCHE_C = ETH_AVAIL - TRANCHE_A - TRANCHE_B"
   ]
  },
  {
   "cell_type": "code",
   "execution_count": 54,
   "metadata": {},
   "outputs": [
    {
     "data": {
      "text/html": [
       "<div>\n",
       "<style scoped>\n",
       "    .dataframe tbody tr th:only-of-type {\n",
       "        vertical-align: middle;\n",
       "    }\n",
       "\n",
       "    .dataframe tbody tr th {\n",
       "        vertical-align: top;\n",
       "    }\n",
       "\n",
       "    .dataframe thead th {\n",
       "        text-align: right;\n",
       "    }\n",
       "</style>\n",
       "<table border=\"1\" class=\"dataframe\">\n",
       "  <thead>\n",
       "    <tr style=\"text-align: right;\">\n",
       "      <th></th>\n",
       "      <th>Tranche C ETH</th>\n",
       "      <th>Minted Synthetic</th>\n",
       "      <th>Collateral Ratio</th>\n",
       "      <th>Max mint</th>\n",
       "    </tr>\n",
       "  </thead>\n",
       "  <tbody>\n",
       "    <tr>\n",
       "      <th>0</th>\n",
       "      <td>1444</td>\n",
       "      <td>50</td>\n",
       "      <td>213.344441</td>\n",
       "      <td>89.3114</td>\n",
       "    </tr>\n",
       "  </tbody>\n",
       "</table>\n",
       "</div>"
      ],
      "text/plain": [
       "   Tranche C ETH  Minted Synthetic  Collateral Ratio  Max mint\n",
       "0           1444                50        213.344441   89.3114"
      ]
     },
     "execution_count": 54,
     "metadata": {},
     "output_type": "execute_result"
    }
   ],
   "source": [
    "eth_price, btc_price  = get_coll_prices()\n",
    "min_cr = 120 # NOTE: assumes 120% min-cr\n",
    "max_ltv_ratio = 100 / min_cr\n",
    "safe_mint_amt = 50\n",
    "cl_feed = Contract('0xdeb288F737066589598e9214E782fa5A8eD689e8')\n",
    "ratio = cl_feed.latestRoundData()['answer'] / (10 ** cl_feed.decimals())\n",
    "max_btc_mint = TRANCHE_C / ratio * max_ltv_ratio\n",
    "cr_ratio = ((TRANCHE_C * eth_price) / (safe_mint_amt * btc_price)) * 100\n",
    "data = [[TRANCHE_C, safe_mint_amt, cr_ratio, max_btc_mint]]\n",
    "headers = [\"Tranche C ETH\", \"Minted Synthetic\", \"Collateral Ratio\", \"Max mint\"]\n",
    "df_cr = pd.DataFrame(data, columns=headers)\n",
    "df_cr"
   ]
  },
  {
   "cell_type": "code",
   "execution_count": 55,
   "metadata": {},
   "outputs": [],
   "source": [
    "# Projection of POL - wbtc/syntethicbtc\n",
    "\"\"\"\n",
    "assumption here is that 2x is using 50 wbtc, 3x is using 100 wbtc\n",
    "3x is roughly using 50% of the total btc available as per portfolio report, currently ~ 202\n",
    "\"\"\"\n",
    "TOTAL_POL = safe_mint_amt * 3 * btc_price\n",
    "POOL_TOTAL_LIQUIDITY = 10_000_000 # expressed in $, expected liq given incentives barely easy imo\n",
    "pool_capture = TOTAL_POL / POOL_TOTAL_LIQUIDITY"
   ]
  },
  {
   "cell_type": "code",
   "execution_count": 91,
   "metadata": {},
   "outputs": [],
   "source": [
    "# Aura historical veBAL % controlled\n",
    "vebal = Contract(\"0xC128a9954e6c874eA3d62ce62B468bA073093F25\")\n",
    "vebal_ownership = []\n",
    "for block in range(deployment_block, latest_block, BLOCK_JUMP):\n",
    "    vebal_ts = vebal.totalSupplyAt(block) / 1e18\n",
    "    vebal_aura_controlled = vebal.balanceOfAt(\"0xaF52695E1bB01A16D33D7194C28C42b10e0Dbec2\", latest_block) / 1e18\n",
    "    if vebal_aura_controlled > 0:\n",
    "        pct_aura_vebal_controlled = vebal_aura_controlled / vebal_ts\n",
    "    else:\n",
    "        pct_aura_vebal_controlled = 0\n",
    "    vebal_ownership.append(pct_aura_vebal_controlled)\n",
    "df_aura_vebal = pd.DataFrame(vebal_ownership, columns = ['vebal_ownership'])\n",
    "df_aura_vebal['Date'] = df[\"Date\"]"
   ]
  },
  {
   "cell_type": "code",
   "execution_count": 124,
   "metadata": {},
   "outputs": [
    {
     "data": {
      "application/vnd.vegalite.v4+json": {
       "$schema": "https://vega.github.io/schema/vega-lite/v4.17.0.json",
       "config": {
        "view": {
         "continuousHeight": 300,
         "continuousWidth": 400
        }
       },
       "data": {
        "name": "data-354b706ecd9c28ad582d6cbbac882123"
       },
       "datasets": {
        "data-354b706ecd9c28ad582d6cbbac882123": [
         {
          "Date": "2022-08-15T18:07:24+00:00",
          "index": 29,
          "vebal_ownership": 0.40373143147808427
         },
         {
          "Date": "2022-08-18T00:19:08+00:00",
          "index": 30,
          "vebal_ownership": 0.4053381580563683
         },
         {
          "Date": "2022-08-20T06:48:55+00:00",
          "index": 31,
          "vebal_ownership": 0.40190613979746853
         },
         {
          "Date": "2022-08-22T13:20:42+00:00",
          "index": 32,
          "vebal_ownership": 0.4030932410990687
         },
         {
          "Date": "2022-08-24T19:36:56+00:00",
          "index": 33,
          "vebal_ownership": 0.363733710382624
         },
         {
          "Date": "2022-08-27T02:53:11+00:00",
          "index": 34,
          "vebal_ownership": 0.3564015420504598
         },
         {
          "Date": "2022-08-29T09:50:27+00:00",
          "index": 35,
          "vebal_ownership": 0.3578651809857763
         },
         {
          "Date": "2022-08-31T16:46:21+00:00",
          "index": 36,
          "vebal_ownership": 0.34475274066847084
         },
         {
          "Date": "2022-09-02T23:35:38+00:00",
          "index": 37,
          "vebal_ownership": 0.2796124553723271
         },
         {
          "Date": "2022-09-05T06:53:35+00:00",
          "index": 38,
          "vebal_ownership": 0.28139160301629146
         },
         {
          "Date": "2022-09-07T13:59:59+00:00",
          "index": 39,
          "vebal_ownership": 0.28263426544480186
         },
         {
          "Date": "2022-09-09T21:25:19+00:00",
          "index": 40,
          "vebal_ownership": 0.2804007723990972
         },
         {
          "Date": "2022-09-12T06:12:53+00:00",
          "index": 41,
          "vebal_ownership": 0.281916294254467
         },
         {
          "Date": "2022-09-14T15:19:47+00:00",
          "index": 42,
          "vebal_ownership": 0.28382841579271906
         },
         {
          "Date": "2022-09-16T18:33:35+00:00",
          "index": 43,
          "vebal_ownership": 0.2841251158484561
         },
         {
          "Date": "2022-09-18T18:45:23+00:00",
          "index": 44,
          "vebal_ownership": 0.28575012045001325
         },
         {
          "Date": "2022-09-20T18:57:35+00:00",
          "index": 45,
          "vebal_ownership": 0.28606582768045863
         },
         {
          "Date": "2022-09-22T19:22:23+00:00",
          "index": 46,
          "vebal_ownership": 0.2794793632979155
         },
         {
          "Date": "2022-09-24T19:19:23+00:00",
          "index": 47,
          "vebal_ownership": 0.2794127651871645
         },
         {
          "Date": "2022-09-26T19:19:11+00:00",
          "index": 48,
          "vebal_ownership": 0.2802742841629078
         },
         {
          "Date": "2022-09-28T19:22:35+00:00",
          "index": 49,
          "vebal_ownership": 0.2817995842420671
         },
         {
          "Date": "2022-09-30T19:24:11+00:00",
          "index": 50,
          "vebal_ownership": 0.2795649897688049
         },
         {
          "Date": "2022-10-02T19:25:35+00:00",
          "index": 51,
          "vebal_ownership": 0.2811197095177141
         },
         {
          "Date": "2022-10-04T19:29:11+00:00",
          "index": 52,
          "vebal_ownership": 0.2824447133940456
         },
         {
          "Date": "2022-10-06T19:34:59+00:00",
          "index": 53,
          "vebal_ownership": 0.277338104774661
         },
         {
          "Date": "2022-10-08T19:35:59+00:00",
          "index": 54,
          "vebal_ownership": 0.2788339577551581
         },
         {
          "Date": "2022-10-10T19:34:59+00:00",
          "index": 55,
          "vebal_ownership": 0.28041101902219834
         },
         {
          "Date": "2022-10-12T19:33:23+00:00",
          "index": 56,
          "vebal_ownership": 0.28136806412773047
         },
         {
          "Date": "2022-10-14T19:32:47+00:00",
          "index": 57,
          "vebal_ownership": 0.281376760509359
         },
         {
          "Date": "2022-10-16T19:31:35+00:00",
          "index": 58,
          "vebal_ownership": 0.28301047197083246
         },
         {
          "Date": "2022-10-18T19:32:11+00:00",
          "index": 59,
          "vebal_ownership": 0.2841674587223777
         },
         {
          "Date": "2022-10-20T19:32:23+00:00",
          "index": 60,
          "vebal_ownership": 0.2709121385117386
         },
         {
          "Date": "2022-10-22T19:28:47+00:00",
          "index": 61,
          "vebal_ownership": 0.27095550732355683
         },
         {
          "Date": "2022-10-24T19:34:23+00:00",
          "index": 62,
          "vebal_ownership": 0.2722908301341341
         },
         {
          "Date": "2022-10-26T19:36:23+00:00",
          "index": 63,
          "vebal_ownership": 0.27114071330135203
         },
         {
          "Date": "2022-10-28T19:38:23+00:00",
          "index": 64,
          "vebal_ownership": 0.2689422507453451
         },
         {
          "Date": "2022-10-30T19:38:35+00:00",
          "index": 65,
          "vebal_ownership": 0.27031888736837656
         },
         {
          "Date": "2022-11-01T19:42:59+00:00",
          "index": 66,
          "vebal_ownership": 0.27018883212825795
         },
         {
          "Date": "2022-11-03T19:45:23+00:00",
          "index": 67,
          "vebal_ownership": 0.2597062398542356
         },
         {
          "Date": "2022-11-05T19:44:23+00:00",
          "index": 68,
          "vebal_ownership": 0.2599541722316031
         },
         {
          "Date": "2022-11-07T19:41:11+00:00",
          "index": 69,
          "vebal_ownership": 0.26139003669026944
         },
         {
          "Date": "2022-11-09T19:42:35+00:00",
          "index": 70,
          "vebal_ownership": 0.2623236133806363
         },
         {
          "Date": "2022-11-11T19:44:35+00:00",
          "index": 71,
          "vebal_ownership": 0.261277381001852
         },
         {
          "Date": "2022-11-13T19:41:23+00:00",
          "index": 72,
          "vebal_ownership": 0.2616844161143174
         },
         {
          "Date": "2022-11-15T19:40:47+00:00",
          "index": 73,
          "vebal_ownership": 0.26321875084496216
         },
         {
          "Date": "2022-11-17T19:42:35+00:00",
          "index": 74,
          "vebal_ownership": 0.2502516878102282
         },
         {
          "Date": "2022-11-19T19:42:35+00:00",
          "index": 75,
          "vebal_ownership": 0.251644535932794
         },
         {
          "Date": "2022-11-21T19:41:11+00:00",
          "index": 76,
          "vebal_ownership": 0.25292957993841453
         },
         {
          "Date": "2022-11-23T19:44:59+00:00",
          "index": 77,
          "vebal_ownership": 0.24748586799453823
         },
         {
          "Date": "2022-11-25T19:47:35+00:00",
          "index": 78,
          "vebal_ownership": 0.21813047112974987
         },
         {
          "Date": "2022-11-27T19:46:47+00:00",
          "index": 79,
          "vebal_ownership": 0.21932570715892788
         },
         {
          "Date": "2022-11-29T19:45:23+00:00",
          "index": 80,
          "vebal_ownership": 0.22045027539577025
         },
         {
          "Date": "2022-12-01T19:47:59+00:00",
          "index": 81,
          "vebal_ownership": 0.22048487222639745
         },
         {
          "Date": "2022-12-03T19:46:23+00:00",
          "index": 82,
          "vebal_ownership": 0.22164104310297614
         },
         {
          "Date": "2022-12-05T19:50:11+00:00",
          "index": 83,
          "vebal_ownership": 0.22293830691443672
         },
         {
          "Date": "2022-12-07T20:05:35+00:00",
          "index": 84,
          "vebal_ownership": 0.22184753088347312
         },
         {
          "Date": "2022-12-09T20:06:23+00:00",
          "index": 85,
          "vebal_ownership": 0.22221304477793655
         },
         {
          "Date": "2022-12-11T20:05:47+00:00",
          "index": 86,
          "vebal_ownership": 0.223355090179672
         },
         {
          "Date": "2022-12-13T20:07:59+00:00",
          "index": 87,
          "vebal_ownership": 0.22275049221493726
         },
         {
          "Date": "2022-12-15T20:07:47+00:00",
          "index": 88,
          "vebal_ownership": 0.22272927148385202
         },
         {
          "Date": "2022-12-17T20:06:59+00:00",
          "index": 89,
          "vebal_ownership": 0.22404199920513534
         },
         {
          "Date": "2022-12-19T20:05:35+00:00",
          "index": 90,
          "vebal_ownership": 0.22535518774735003
         },
         {
          "Date": "2022-12-21T20:03:11+00:00",
          "index": 91,
          "vebal_ownership": 0.22634558319951617
         },
         {
          "Date": "2022-12-23T19:57:11+00:00",
          "index": 92,
          "vebal_ownership": 0.22666677459737658
         },
         {
          "Date": "2022-12-25T19:54:35+00:00",
          "index": 93,
          "vebal_ownership": 0.228037525426013
         },
         {
          "Date": "2022-12-27T19:54:11+00:00",
          "index": 94,
          "vebal_ownership": 0.2288914398386979
         },
         {
          "Date": "2022-12-29T19:51:59+00:00",
          "index": 95,
          "vebal_ownership": 0.226703516292536
         },
         {
          "Date": "2022-12-31T19:49:35+00:00",
          "index": 96,
          "vebal_ownership": 0.22804572489751385
         },
         {
          "Date": "2023-01-02T19:44:47+00:00",
          "index": 97,
          "vebal_ownership": 0.2294362954151472
         },
         {
          "Date": "2023-01-04T19:41:11+00:00",
          "index": 98,
          "vebal_ownership": 0.23046204632116268
         },
         {
          "Date": "2023-01-06T19:42:23+00:00",
          "index": 99,
          "vebal_ownership": 0.23062179391607804
         },
         {
          "Date": "2023-01-08T19:40:47+00:00",
          "index": 100,
          "vebal_ownership": 0.23193824265388693
         },
         {
          "Date": "2023-01-10T19:36:35+00:00",
          "index": 101,
          "vebal_ownership": 0.23284583256660593
         },
         {
          "Date": "2023-01-12T19:39:23+00:00",
          "index": 102,
          "vebal_ownership": 0.2327728326816269
         },
         {
          "Date": "2023-01-14T19:37:11+00:00",
          "index": 103,
          "vebal_ownership": 0.23403660100508042
         },
         {
          "Date": "2023-01-16T19:39:59+00:00",
          "index": 104,
          "vebal_ownership": 0.2348642903689796
         }
        ]
       },
       "layer": [
        {
         "encoding": {
          "x": {
           "axis": {
            "format": "%Y-%m",
            "labelFlush": false,
            "tickCount": "month"
           },
           "field": "Date",
           "type": "temporal"
          },
          "y": {
           "axis": {
            "format": "%",
            "title": "veBAL Ownership",
            "titleColor": "rgb(102,205,170)"
           },
           "field": "vebal_ownership",
           "type": "quantitative"
          }
         },
         "mark": {
          "color": "rgb(102,205,170)",
          "type": "bar",
          "width": 2
         },
         "title": "AURA veBAL % Historical",
         "width": 900
        }
       ]
      },
      "text/plain": [
       "<VegaLite 4 object>\n",
       "\n",
       "If you see this message, it means the renderer has not been properly enabled\n",
       "for the frontend that you are using. For more information, see\n",
       "https://altair-viz.github.io/user_guide/troubleshooting.html\n"
      ]
     },
     "execution_count": 124,
     "metadata": {},
     "output_type": "execute_result"
    }
   ],
   "source": [
    "# Plot minting decay progress over time\n",
    "df_aura_vebal = df_aura_vebal[df_aura_vebal['Date'] >= '2022-08-15'] # NOTE: noise sample? focus from mid-August\n",
    "base = (\n",
    "    alt.Chart(df_aura_vebal.reset_index(), width=900, title=f'AURA veBAL % Historical')\n",
    "    .encode(\n",
    "        alt.X('Date:T', axis=alt.Axis(format='%Y-%m', labelFlush=False, tickCount=alt.TimeInterval('month')))\n",
    "    )\n",
    ")\n",
    "ownership_vebal = (\n",
    "    base.mark_bar(width=2, color='rgb(102,205,170)')\n",
    "    .encode(\n",
    "        alt.Y('vebal_ownership', axis=alt.Axis(title='veBAL Ownership', titleColor='rgb(102,205,170)', format='%')),\n",
    "    )\n",
    ")\n",
    "chart = alt.layer(ownership_vebal)\n",
    "chart"
   ]
  },
  {
   "cell_type": "code",
   "execution_count": 105,
   "metadata": {},
   "outputs": [
    {
     "data": {
      "text/html": [
       "<div>\n",
       "<style scoped>\n",
       "    .dataframe tbody tr th:only-of-type {\n",
       "        vertical-align: middle;\n",
       "    }\n",
       "\n",
       "    .dataframe tbody tr th {\n",
       "        vertical-align: top;\n",
       "    }\n",
       "\n",
       "    .dataframe thead th {\n",
       "        text-align: right;\n",
       "    }\n",
       "</style>\n",
       "<table border=\"1\" class=\"dataframe\">\n",
       "  <thead>\n",
       "    <tr style=\"text-align: right;\">\n",
       "      <th></th>\n",
       "      <th>Aura veBAL controlled</th>\n",
       "      <th>Badger veBAL controlled</th>\n",
       "    </tr>\n",
       "  </thead>\n",
       "  <tbody>\n",
       "    <tr>\n",
       "      <th>0</th>\n",
       "      <td>23.541%</td>\n",
       "      <td>0.609%</td>\n",
       "    </tr>\n",
       "  </tbody>\n",
       "</table>\n",
       "</div>"
      ],
      "text/plain": [
       "  Aura veBAL controlled Badger veBAL controlled\n",
       "0               23.541%                  0.609%"
      ]
     },
     "execution_count": 105,
     "metadata": {},
     "output_type": "execute_result"
    }
   ],
   "source": [
    "vebal_ts = vebal.totalSupplyAt(latest_block) / 1e18\n",
    "vebal_aura_controlled = vebal.balanceOfAt(\"0xaF52695E1bB01A16D33D7194C28C42b10e0Dbec2\", latest_block) / 1e18\n",
    "pct_aura_vebal_controlled = vebal_aura_controlled / vebal_ts\n",
    "pct_badger_vebal_controlled  = df['ownership'].iat[-1] * pct_aura_vebal_controlled\n",
    "data = [[pct_format(pct_aura_vebal_controlled), pct_format(pct_badger_vebal_controlled)]]\n",
    "headers = [\"Aura veBAL controlled\", \"Badger veBAL controlled\"]\n",
    "df_vebal = pd.DataFrame(data, columns=headers)\n",
    "df_vebal"
   ]
  },
  {
   "cell_type": "code",
   "execution_count": 74,
   "metadata": {},
   "outputs": [
    {
     "data": {
      "text/html": [
       "<div>\n",
       "<style scoped>\n",
       "    .dataframe tbody tr th:only-of-type {\n",
       "        vertical-align: middle;\n",
       "    }\n",
       "\n",
       "    .dataframe tbody tr th {\n",
       "        vertical-align: top;\n",
       "    }\n",
       "\n",
       "    .dataframe thead th {\n",
       "        text-align: right;\n",
       "    }\n",
       "</style>\n",
       "<table border=\"1\" class=\"dataframe\">\n",
       "  <thead>\n",
       "    <tr style=\"text-align: right;\">\n",
       "      <th></th>\n",
       "      <th>veBAL pool Max Cap</th>\n",
       "      <th>veBAL BADGER controlled</th>\n",
       "      <th>$ Cost of incentive</th>\n",
       "      <th>Badger Incentive Max Cap</th>\n",
       "    </tr>\n",
       "  </thead>\n",
       "  <tbody>\n",
       "    <tr>\n",
       "      <th>0</th>\n",
       "      <td>225700.164741</td>\n",
       "      <td>68757.463298</td>\n",
       "      <td>$14109.6404</td>\n",
       "      <td>5284.50951</td>\n",
       "    </tr>\n",
       "  </tbody>\n",
       "</table>\n",
       "</div>"
      ],
      "text/plain": [
       "   veBAL pool Max Cap  veBAL BADGER controlled $ Cost of incentive  \\\n",
       "0       225700.164741             68757.463298         $14109.6404   \n",
       "\n",
       "   Badger Incentive Max Cap  \n",
       "0                5284.50951  "
      ]
     },
     "execution_count": 74,
     "metadata": {},
     "output_type": "execute_result"
    }
   ],
   "source": [
    "# Cost for reaching caps, without external actors self-incentive support\n",
    "MULTIPLIER = 1 # NOTE: tinker multiplier for 4%, 6%, 8%, 10% gauges \n",
    "GAUGE_CAP = GAUGE_CAP * MULTIPLIER\n",
    "proactive_vebal_voters = 10693175.86\n",
    "cost_per_vote_vebal = (BALANCER_EMISSIONS * bal_price) / proactive_vebal_voters\n",
    "vebal_controlled = vebal_ts * pct_badger_vebal_controlled\n",
    "vebal_max_cap = vebal_ts * (GAUGE_CAP)\n",
    "vebal_required = vebal_max_cap - vebal_controlled\n",
    "cost_max_cap = vebal_required * cost_per_vote_vebal\n",
    "badger_to_incentive = cost_max_cap / badger_price\n",
    "data = [[vebal_max_cap, vebal_controlled, dollar_format(cost_max_cap), badger_to_incentive]]\n",
    "headers = [\"veBAL pool Max Cap\", \"veBAL BADGER controlled\", \"$ Cost of incentive\", \"Badger Incentive Max Cap\"]\n",
    "df_bribes_badger_pool = pd.DataFrame(data, columns=headers)\n",
    "df_bribes_badger_pool"
   ]
  },
  {
   "cell_type": "code",
   "execution_count": 78,
   "metadata": {},
   "outputs": [
    {
     "data": {
      "text/html": [
       "<div>\n",
       "<style scoped>\n",
       "    .dataframe tbody tr th:only-of-type {\n",
       "        vertical-align: middle;\n",
       "    }\n",
       "\n",
       "    .dataframe tbody tr th {\n",
       "        vertical-align: top;\n",
       "    }\n",
       "\n",
       "    .dataframe thead th {\n",
       "        text-align: right;\n",
       "    }\n",
       "</style>\n",
       "<table border=\"1\" class=\"dataframe\">\n",
       "  <thead>\n",
       "    <tr style=\"text-align: right;\">\n",
       "      <th></th>\n",
       "      <th>Pool yield (USD) - biweekly</th>\n",
       "      <th>Pool Capture - Projection</th>\n",
       "      <th>Treasury yield earned (USD) - biweekly</th>\n",
       "      <th>Treasury ROI - biweekly</th>\n",
       "    </tr>\n",
       "  </thead>\n",
       "  <tbody>\n",
       "    <tr>\n",
       "      <th>0</th>\n",
       "      <td>$59991.4577</td>\n",
       "      <td>31.869%</td>\n",
       "      <td>$19118.6776</td>\n",
       "      <td>135.501%</td>\n",
       "    </tr>\n",
       "  </tbody>\n",
       "</table>\n",
       "</div>"
      ],
      "text/plain": [
       "  Pool yield (USD) - biweekly Pool Capture - Projection  \\\n",
       "0                 $59991.4577                   31.869%   \n",
       "\n",
       "  Treasury yield earned (USD) - biweekly Treasury ROI - biweekly  \n",
       "0                            $19118.6776                135.501%  "
      ]
     },
     "execution_count": 78,
     "metadata": {},
     "output_type": "execute_result"
    }
   ],
   "source": [
    "# treasury expected earnings\n",
    "pool_earnings = biweekly_emissions * GAUGE_CAP\n",
    "treasury_roi = (pool_earnings*pool_capture) / cost_max_cap\n",
    "data = [[dollar_format(pool_earnings), pct_format(pool_capture), dollar_format(pool_earnings*pool_capture), pct_format(treasury_roi)]]\n",
    "headers = [\"Pool yield (USD) - biweekly\", \"Pool Capture - Projection\", \"Treasury yield earned (USD) - biweekly\", \"Treasury ROI - biweekly\"]\n",
    "df_earnings_pool = pd.DataFrame(data, columns=headers)\n",
    "df_earnings_pool"
   ]
  }
 ],
 "metadata": {
  "kernelspec": {
   "display_name": "BRIBES",
   "language": "python",
   "name": "python3"
  },
  "language_info": {
   "codemirror_mode": {
    "name": "ipython",
    "version": 3
   },
   "file_extension": ".py",
   "mimetype": "text/x-python",
   "name": "python",
   "nbconvert_exporter": "python",
   "pygments_lexer": "ipython3",
   "version": "3.8.10"
  },
  "orig_nbformat": 4,
  "vscode": {
   "interpreter": {
    "hash": "0916e4df8507fa3a2c2a5f9aa8c595d055087201035afa2cbc108339c882a0f8"
   }
  }
 },
 "nbformat": 4,
 "nbformat_minor": 2
}
