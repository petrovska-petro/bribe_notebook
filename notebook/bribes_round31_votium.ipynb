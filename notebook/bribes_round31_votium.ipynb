{
 "cells": [
  {
   "cell_type": "code",
   "execution_count": 14,
   "metadata": {
    "collapsed": true,
    "pycharm": {
     "name": "#%%\n"
    }
   },
   "outputs": [],
   "source": [
    "from ape import networks, Contract\n",
    "import pandas as pd\n",
    "\n",
    "from helpers.coingecko import get_votium_prices\n",
    "from helpers.votium import cvx_mint_ratio, votium_round_emissions_after_fee, fxs_emissions_usd\n",
    "from helpers.subgraph_endpoints import *\n",
    "from helpers.formatter import pct_format, dollar_format"
   ]
  },
  {
   "cell_type": "code",
   "execution_count": null,
   "metadata": {},
   "outputs": [],
   "source": [
    "networks.parse_network_choice(\"ethereum:mainnet\").__enter__()"
   ]
  },
  {
   "cell_type": "code",
   "execution_count": 16,
   "metadata": {},
   "outputs": [
    {
     "data": {
      "text/html": "<div>\n<style scoped>\n    .dataframe tbody tr th:only-of-type {\n        vertical-align: middle;\n    }\n\n    .dataframe tbody tr th {\n        vertical-align: top;\n    }\n\n    .dataframe thead th {\n        text-align: right;\n    }\n</style>\n<table border=\"1\" class=\"dataframe\">\n  <thead>\n    <tr style=\"text-align: right;\">\n      <th></th>\n      <th>BADGER price</th>\n      <th>CRV price</th>\n      <th>CVX price</th>\n      <th>FXS price</th>\n    </tr>\n  </thead>\n  <tbody>\n    <tr>\n      <th>0</th>\n      <td>$2.65</td>\n      <td>$0.70</td>\n      <td>$4.34</td>\n      <td>$4.48</td>\n    </tr>\n  </tbody>\n</table>\n</div>",
      "text/plain": "  BADGER price CRV price CVX price FXS price\n0        $2.65     $0.70     $4.34     $4.48"
     },
     "execution_count": 16,
     "metadata": {},
     "output_type": "execute_result"
    }
   ],
   "source": [
    "cvx_price, crv_price, badger_price, fxs_price = get_votium_prices()\n",
    "data = [[\"${:.2f}\".format(badger_price),  \"${:.2f}\".format(crv_price), \"${:.2f}\".format(cvx_price), \"${:.2f}\".format(fxs_price)]]\n",
    "headers = [\"BADGER price\", \"CRV price\", \"CVX price\", \"FXS price\"]\n",
    "df_prices = pd.DataFrame(data, columns=headers)\n",
    "df_prices"
   ]
  },
  {
   "cell_type": "code",
   "execution_count": 17,
   "metadata": {},
   "outputs": [
    {
     "data": {
      "text/html": "<div>\n<style scoped>\n    .dataframe tbody tr th:only-of-type {\n        vertical-align: middle;\n    }\n\n    .dataframe tbody tr th {\n        vertical-align: top;\n    }\n\n    .dataframe thead th {\n        text-align: right;\n    }\n</style>\n<table border=\"1\" class=\"dataframe\">\n  <thead>\n    <tr style=\"text-align: right;\">\n      <th></th>\n      <th>Proposal block height</th>\n      <th>Past Round Active vlCVX votes</th>\n      <th>Cost per Vote Last Round</th>\n    </tr>\n  </thead>\n  <tbody>\n    <tr>\n      <th>0</th>\n      <td>15935900</td>\n      <td>49714100</td>\n      <td>$0.0434</td>\n    </tr>\n  </tbody>\n</table>\n</div>",
      "text/plain": "   Proposal block height Past Round Active vlCVX votes  \\\n0               15935900                      49714100   \n\n  Cost per Vote Last Round  \n0                  $0.0434  "
     },
     "execution_count": 17,
     "metadata": {},
     "output_type": "execute_result"
    }
   ],
   "source": [
    "# NOTE: modify with right proposal (latest & current)\n",
    "proposal_id_last = \"0x666833db066627cb5b9c67c8342df16d3763646f1c2c12865654e830a61ac857\"\n",
    "proposal_id_current = \"0xd7db40d1ca142cb5ca24bce5d0f78f3b037fde6c7ebb3c3650a317e910278b1f\"\n",
    "\n",
    "cost_per_vote_after_fee = get_cost_per_vote_after_fee(\"bribes-overview-votium\")\n",
    "\n",
    "# check active voter in past proposal as ref\n",
    "response_last_proposal = get_proposal_info(proposal_id_last)\n",
    "response_current_proposal = get_proposal_info(proposal_id_current)\n",
    "\n",
    "block_current_proposal = int(response_current_proposal[\"snapshot\"])\n",
    "cvx_voting_actively_last_round = response_last_proposal[\"scores_total\"]\n",
    "data = [[block_current_proposal,  f'{cvx_voting_actively_last_round:.0f}', dollar_format(cost_per_vote_after_fee)]]\n",
    "headers = [\"Proposal block height\", \"Past Round Active vlCVX votes\", \"Cost per Vote Last Round\"]\n",
    "df_llama = pd.DataFrame(data, columns=headers)\n",
    "df_llama\n"
   ]
  },
  {
   "cell_type": "code",
   "execution_count": 18,
   "metadata": {},
   "outputs": [
    {
     "data": {
      "text/html": "<div>\n<style scoped>\n    .dataframe tbody tr th:only-of-type {\n        vertical-align: middle;\n    }\n\n    .dataframe tbody tr th {\n        vertical-align: top;\n    }\n\n    .dataframe thead th {\n        text-align: right;\n    }\n</style>\n<table border=\"1\" class=\"dataframe\">\n  <thead>\n    <tr style=\"text-align: right;\">\n      <th></th>\n      <th>Cvx Mint Crv Ratio</th>\n      <th>Bi-weekly Emissions</th>\n    </tr>\n  </thead>\n  <tbody>\n    <tr>\n      <th>0</th>\n      <td>0.042368</td>\n      <td>$5445789.7577</td>\n    </tr>\n  </tbody>\n</table>\n</div>",
      "text/plain": "   Cvx Mint Crv Ratio Bi-weekly Emissions\n0            0.042368       $5445789.7577"
     },
     "execution_count": 18,
     "metadata": {},
     "output_type": "execute_result"
    }
   ],
   "source": [
    "# emissions ecosystem\n",
    "cvx = Contract('0x4e3FBD56CD56c3e72c1403e103b45Db9da5B9D2B')\n",
    "cvx_ratio = cvx_mint_ratio(cvx, block_current_proposal)\n",
    "biweekly_emissions= votium_round_emissions_after_fee(cvx_ratio, crv_price, cvx_price)\n",
    "data = [[cvx_ratio, dollar_format(biweekly_emissions)]]\n",
    "headers = [\"Cvx Mint Crv Ratio\", \"Bi-weekly Emissions\"]\n",
    "df_emissions = pd.DataFrame(data, columns=headers)\n",
    "df_emissions"
   ]
  },
  {
   "cell_type": "code",
   "execution_count": 19,
   "metadata": {},
   "outputs": [
    {
     "data": {
      "text/html": "<div>\n<style scoped>\n    .dataframe tbody tr th:only-of-type {\n        vertical-align: middle;\n    }\n\n    .dataframe tbody tr th {\n        vertical-align: top;\n    }\n\n    .dataframe thead th {\n        text-align: right;\n    }\n</style>\n<table border=\"1\" class=\"dataframe\">\n  <thead>\n    <tr style=\"text-align: right;\">\n      <th></th>\n      <th>Treasury VP</th>\n      <th>Badger Treasury CVX Controlled</th>\n    </tr>\n  </thead>\n  <tbody>\n    <tr>\n      <th>0</th>\n      <td>95755.206358</td>\n      <td>0.212%</td>\n    </tr>\n  </tbody>\n</table>\n</div>",
      "text/plain": "    Treasury VP Badger Treasury CVX Controlled\n0  95755.206358                         0.212%"
     },
     "execution_count": 19,
     "metadata": {},
     "output_type": "execute_result"
    }
   ],
   "source": [
    "# vlCVX pct treasury breakdown\n",
    "vlCVX = Contract(\"0x72a19342e8F1838460eBFCCEf09F6585e32db86E\")\n",
    "vlCVX_ts = vlCVX.totalSupply(block_identifier=block_current_proposal)/1e18\n",
    "# check naked bvecvx belongings\n",
    "bvecvx = Contract(\"0xfd05D3C7fe2924020620A8bE4961bBaA747e6305\")\n",
    "bvecvx_treasury_controlled = bvecvx.balanceOf(\"0xA9ed98B5Fb8428d68664f3C5027c62A10d45826b\", block_identifier=block_current_proposal)/1e18\n",
    "# check lock belongs in lp sett\n",
    "cvx = Contract(\"0x4e3FBD56CD56c3e72c1403e103b45Db9da5B9D2B\")\n",
    "bvecvx_lp = Contract(\"0x04c90C198b2eFF55716079bc06d7CCc4aa4d7512\")\n",
    "bvecvx_cvx_sett = Contract(\"0x937B8E917d0F36eDEBBA8E459C5FB16F3b315551\")\n",
    "bvecvx_lp_treasury_controlled = bvecvx_cvx_sett.balanceOf(\"0xA9ed98B5Fb8428d68664f3C5027c62A10d45826b\", block_identifier=block_current_proposal)/1e18\n",
    "cvx_bal_in_lp = cvx.balanceOf(bvecvx_lp, block_identifier=block_current_proposal)/1e18\n",
    "bvecvx_bal_in_lp = bvecvx.balanceOf(bvecvx_lp, block_identifier=block_current_proposal)/1e18\n",
    "total_bal_in_lp = cvx_bal_in_lp + bvecvx_bal_in_lp\n",
    "bve_cvx_pool_composition = bvecvx_bal_in_lp / total_bal_in_lp\n",
    "treasury_votes = bvecvx_treasury_controlled + bvecvx_lp_treasury_controlled * bve_cvx_pool_composition\n",
    "\n",
    "pct_controlled_cvx_by_badger_treasury = treasury_votes / vlCVX_ts\n",
    "\n",
    "data = [[treasury_votes, pct_format(pct_controlled_cvx_by_badger_treasury)]]\n",
    "headers = [\"Treasury VP\", \"Badger Treasury CVX Controlled\"]\n",
    "df_vp = pd.DataFrame(data, columns=headers)\n",
    "df_vp\n"
   ]
  },
  {
   "cell_type": "code",
   "execution_count": 20,
   "metadata": {},
   "outputs": [
    {
     "data": {
      "text/html": "<div>\n<style scoped>\n    .dataframe tbody tr th:only-of-type {\n        vertical-align: middle;\n    }\n\n    .dataframe tbody tr th {\n        vertical-align: top;\n    }\n\n    .dataframe thead th {\n        text-align: right;\n    }\n</style>\n<table border=\"1\" class=\"dataframe\">\n  <thead>\n    <tr style=\"text-align: right;\">\n      <th></th>\n      <th>Convex veCRV controlled</th>\n      <th>Badger Treasury veCRV controlled</th>\n    </tr>\n  </thead>\n  <tbody>\n    <tr>\n      <th>0</th>\n      <td>53.072%</td>\n      <td>0.113%</td>\n    </tr>\n  </tbody>\n</table>\n</div>",
      "text/plain": "  Convex veCRV controlled Badger Treasury veCRV controlled\n0                 53.072%                           0.113%"
     },
     "execution_count": 20,
     "metadata": {},
     "output_type": "execute_result"
    }
   ],
   "source": [
    "vecrv = Contract(\"0x5f3b5DfEb7B28CDbD7FAba78963EE202a494e2A2\")\n",
    "vecrv_ts = vecrv.totalSupplyAt(block_current_proposal) / 1e18\n",
    "vlcrv_convex_controlled = vecrv.balanceOfAt(\"0x989AEb4d175e16225E39E87d0D97A3360524AD80\", block_current_proposal)/1e18\n",
    "pct_convex_vecrv_controlled = vlcrv_convex_controlled/vecrv_ts\n",
    "pct_badger_vecrv_controlled = pct_controlled_cvx_by_badger_treasury*pct_convex_vecrv_controlled\n",
    "data = [[pct_format(pct_convex_vecrv_controlled), pct_format(pct_badger_vecrv_controlled)]]\n",
    "headers = [\"Convex veCRV controlled\", \"Badger Treasury veCRV controlled\"]\n",
    "df_vebal = pd.DataFrame(data, columns=headers)\n",
    "df_vebal"
   ]
  },
  {
   "cell_type": "code",
   "execution_count": 21,
   "metadata": {},
   "outputs": [
    {
     "data": {
      "text/html": "<div>\n<style scoped>\n    .dataframe tbody tr th:only-of-type {\n        vertical-align: middle;\n    }\n\n    .dataframe tbody tr th {\n        vertical-align: top;\n    }\n\n    .dataframe thead th {\n        text-align: right;\n    }\n</style>\n<table border=\"1\" class=\"dataframe\">\n  <thead>\n    <tr style=\"text-align: right;\">\n      <th></th>\n      <th>Bribe allocated to badgerfraxbp pool (BADGER)</th>\n      <th>Bribe Value (USD)</th>\n    </tr>\n  </thead>\n  <tbody>\n    <tr>\n      <th>0</th>\n      <td>6000</td>\n      <td>15900.0</td>\n    </tr>\n  </tbody>\n</table>\n</div>",
      "text/plain": "   Bribe allocated to badgerfraxbp pool (BADGER)  Bribe Value (USD)\n0                                           6000            15900.0"
     },
     "execution_count": 21,
     "metadata": {},
     "output_type": "execute_result"
    }
   ],
   "source": [
    "# bribes allocation\n",
    "bribe_for_badgerfraxbp = 6_000\n",
    "bribe_usd_val = bribe_for_badgerfraxbp * badger_price\n",
    "data = [[bribe_for_badgerfraxbp, bribe_usd_val]]\n",
    "headers = [\"Bribe allocated to badgerfraxbp pool (BADGER)\", \"Bribe Value (USD)\"]\n",
    "df_bribes_allocation = pd.DataFrame(data, columns=headers)\n",
    "df_bribes_allocation"
   ]
  },
  {
   "cell_type": "code",
   "execution_count": 22,
   "metadata": {},
   "outputs": [
    {
     "data": {
      "text/html": "<div>\n<style scoped>\n    .dataframe tbody tr th:only-of-type {\n        vertical-align: middle;\n    }\n\n    .dataframe tbody tr th {\n        vertical-align: top;\n    }\n\n    .dataframe thead th {\n        text-align: right;\n    }\n</style>\n<table border=\"1\" class=\"dataframe\">\n  <thead>\n    <tr style=\"text-align: right;\">\n      <th></th>\n      <th>vlCVX badgerfraxbp pool</th>\n      <th>veCRV relative weight</th>\n    </tr>\n  </thead>\n  <tbody>\n    <tr>\n      <th>0</th>\n      <td>366359.447005</td>\n      <td>0.431%</td>\n    </tr>\n  </tbody>\n</table>\n</div>",
      "text/plain": "   vlCVX badgerfraxbp pool veCRV relative weight\n0            366359.447005                0.431%"
     },
     "execution_count": 22,
     "metadata": {},
     "output_type": "execute_result"
    }
   ],
   "source": [
    "# badgerfraxbp prediction for vecrv relative weight given the bribe\n",
    "vlCVX_votes_bought = bribe_usd_val / cost_per_vote_after_fee\n",
    "pct_controlled_cvx_by_bribing_badgerfraxbp = vlCVX_votes_bought / vlCVX_ts\n",
    "vecrv_expected_relative_weight_badgerfraxbp = pct_controlled_cvx_by_bribing_badgerfraxbp * pct_convex_vecrv_controlled\n",
    "data = [[vlCVX_votes_bought, pct_format(vecrv_expected_relative_weight_badgerfraxbp)]]\n",
    "headers = [\"vlCVX badgerfraxbp pool\", \"veCRV relative weight\"]\n",
    "df_bribe_breakdown_badgereth = pd.DataFrame(data, columns=headers)\n",
    "df_bribe_breakdown_badgereth\n"
   ]
  },
  {
   "cell_type": "code",
   "execution_count": 23,
   "metadata": {},
   "outputs": [
    {
     "data": {
      "text/html": "<div>\n<style scoped>\n    .dataframe tbody tr th:only-of-type {\n        vertical-align: middle;\n    }\n\n    .dataframe tbody tr th {\n        vertical-align: top;\n    }\n\n    .dataframe thead th {\n        text-align: right;\n    }\n</style>\n<table border=\"1\" class=\"dataframe\">\n  <thead>\n    <tr style=\"text-align: right;\">\n      <th></th>\n      <th>Pool yield (USD) - biweekly</th>\n      <th>BADGERFRAXBP Pool TVL</th>\n      <th>BADGERFRAXBP Pool Capture</th>\n      <th>Treasury yield earned (USD) - biweekly</th>\n      <th>Treasury ROI - biweekly</th>\n    </tr>\n  </thead>\n  <tbody>\n    <tr>\n      <th>0</th>\n      <td>$15849.0804</td>\n      <td>$2403165.9545</td>\n      <td>18.007%</td>\n      <td>$2853.9381</td>\n      <td>17.949%</td>\n    </tr>\n  </tbody>\n</table>\n</div>",
      "text/plain": "  Pool yield (USD) - biweekly BADGERFRAXBP Pool TVL BADGERFRAXBP Pool Capture  \\\n0                 $15849.0804         $2403165.9545                   18.007%   \n\n  Treasury yield earned (USD) - biweekly Treasury ROI - biweekly  \n0                             $2853.9381                 17.949%  "
     },
     "execution_count": 23,
     "metadata": {},
     "output_type": "execute_result"
    }
   ],
   "source": [
    "# treasury expected earnings bi-weekly expectation post-bribe in badgerfraxbp pool\n",
    "tvl_badgerfraxbp = get_tvl_curve_badgerfraxbp_pool()\n",
    "badgerfraxbp_pool = Contract(\"0x09b2E090531228d1b8E3d948C73b990Cb6e60720\")\n",
    "pool_supply = badgerfraxbp_pool.totalSupply() / 1e18\n",
    "private_vault_treasury = \"0xa895B89D74a6BC23a284a0526e123ea776674cF5\"\n",
    "gauge_frax = Contract(\"0x5a92EF27f4baA7C766aee6d751f754EBdEBd9fae\")\n",
    "treasury_tcl_bal = gauge_frax.lockedLiquidityOf(private_vault_treasury)/1e18\n",
    "vault_owned_tcl = tvl_badgerfraxbp * (treasury_tcl_bal/pool_supply)\n",
    "pool_capture = vault_owned_tcl / tvl_badgerfraxbp\n",
    "pool_earnings = biweekly_emissions * vecrv_expected_relative_weight_badgerfraxbp\n",
    "pool_earnings_tcl_capture = pool_earnings * pool_capture\n",
    "treasury_roi = pool_earnings_tcl_capture / bribe_usd_val\n",
    "data = [[dollar_format(pool_earnings), dollar_format(tvl_badgerfraxbp), pct_format(pool_capture), dollar_format(poor_earnings_tcl_capture), pct_format(treasury_roi)]]\n",
    "headers = [\"Pool yield (USD) - biweekly\", \"BADGERFRAXBP Pool TVL\", \"BADGERFRAXBP Pool Capture\", \"Treasury yield earned (USD) - biweekly\", \"Treasury ROI - biweekly\"]\n",
    "df_earnings_badger_pool = pd.DataFrame(data, columns=headers)\n",
    "df_earnings_badger_pool\n"
   ]
  },
  {
   "cell_type": "code",
   "execution_count": 24,
   "metadata": {},
   "outputs": [
    {
     "data": {
      "text/html": "<div>\n<style scoped>\n    .dataframe tbody tr th:only-of-type {\n        vertical-align: middle;\n    }\n\n    .dataframe tbody tr th {\n        vertical-align: top;\n    }\n\n    .dataframe thead th {\n        text-align: right;\n    }\n</style>\n<table border=\"1\" class=\"dataframe\">\n  <thead>\n    <tr style=\"text-align: right;\">\n      <th></th>\n      <th>veFXS Convex controlled</th>\n      <th>Treasury FXS gauge capture</th>\n      <th>veFXS convex mirroring weigth</th>\n      <th>veFXS convex mirroring VP</th>\n      <th>Treasury yield earned (USD) - biweekly</th>\n      <th>Treasury ROI - biweekly</th>\n    </tr>\n  </thead>\n  <tbody>\n    <tr>\n      <th>0</th>\n      <td>16.439%</td>\n      <td>18.117%</td>\n      <td>1.670%</td>\n      <td>110852.574792</td>\n      <td>$3177.6056</td>\n      <td>19.985%</td>\n    </tr>\n  </tbody>\n</table>\n</div>",
      "text/plain": "  veFXS Convex controlled Treasury FXS gauge capture  \\\n0                 16.439%                    18.117%   \n\n  veFXS convex mirroring weigth  veFXS convex mirroring VP  \\\n0                        1.670%              110852.574792   \n\n  Treasury yield earned (USD) - biweekly Treasury ROI - biweekly  \n0                             $3177.6056                 19.985%  "
     },
     "execution_count": 24,
     "metadata": {},
     "output_type": "execute_result"
    }
   ],
   "source": [
    "# vefxs mirroring from convex, only known at proposal closing time\n",
    "vefxs = Contract(\"0xc8418aF6358FFddA74e09Ca9CC3Fe03Ca6aDC5b0\")\n",
    "vefxs_ts = vefxs.totalFXSSupply() / 1e18\n",
    "vefxs_convex_bal = (\n",
    "    vefxs.locked(\"0x59CFCD384746ec3035299D90782Be065e466800B\")[\"amount\"] / 1e18\n",
    ")\n",
    "vefxs_convex_controlled = vefxs_convex_bal / vefxs_ts\n",
    "vefxs_mirror_weight = get_vefxs_mirror_weight(response_current_proposal)\n",
    "treasury_fxs_gauge_capture = treasury_tcl_bal / (\n",
    "    gauge_frax.totalLiquidityLocked() / 1e18\n",
    ")\n",
    "gauge_earnings = fxs_emissions_usd(\n",
    "    fxs_price, vefxs_convex_controlled * vefxs_mirror_weight, treasury_fxs_gauge_capture\n",
    ")\n",
    "# NOTE: use pool earnings we're capturing not total earnings!\n",
    "total_earnings = poor_earnings_tcl_capture + gauge_earnings\n",
    "treasury_roi = total_earnings / bribe_usd_val\n",
    "data = [\n",
    "    [\n",
    "        pct_format(vefxs_convex_controlled),\n",
    "        pct_format(treasury_fxs_gauge_capture),\n",
    "        pct_format(vefxs_mirror_weight),\n",
    "        vefxs_convex_bal * vefxs_mirror_weight,\n",
    "        dollar_format(total_earnings),\n",
    "        pct_format(treasury_roi)\n",
    "    ]\n",
    "]\n",
    "headers = [\n",
    "    \"veFXS Convex controlled\",\n",
    "    \"Treasury FXS gauge capture\",\n",
    "    \"veFXS convex mirroring weigth\",\n",
    "    \"veFXS convex mirroring VP\",\n",
    "    \"Treasury yield earned (USD) - biweekly\",\n",
    "    \"Treasury ROI - biweekly\"\n",
    "]\n",
    "df_earnings_badger_pool = pd.DataFrame(data, columns=headers)\n",
    "df_earnings_badger_pool"
   ]
  }
 ],
 "metadata": {
  "kernelspec": {
   "display_name": "Python 3.8.0 64-bit ('notebook')",
   "name": "python380jvsc74a57bd09253f604c87be4a7cf47dd897c36333e99f441f8153bec10e14bef349a9214eb"
  },
  "language_info": {
   "codemirror_mode": {
    "name": "ipython",
    "version": 3
   },
   "file_extension": ".py",
   "mimetype": "text/x-python",
   "name": "python",
   "nbconvert_exporter": "python",
   "pygments_lexer": "ipython3",
   "version": "3.8.0"
  },
  "metadata": {
   "interpreter": {
    "hash": "9253f604c87be4a7cf47dd897c36333e99f441f8153bec10e14bef349a9214eb"
   }
  }
 },
 "nbformat": 4,
 "nbformat_minor": 0
}