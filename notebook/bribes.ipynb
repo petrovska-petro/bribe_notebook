{
 "cells": [
  {
   "cell_type": "code",
   "execution_count": 29,
   "metadata": {
    "collapsed": true,
    "pycharm": {
     "name": "#%%\n"
    }
   },
   "outputs": [],
   "source": [
    "import requests\n",
    "\n",
    "from ape import networks, Contract\n",
    "import pandas as pd\n",
    "from pycoingecko import CoinGeckoAPI"
   ]
  },
  {
   "cell_type": "code",
   "execution_count": null,
   "metadata": {},
   "outputs": [],
   "source": [
    "networks.parse_network_choice(\"ethereum:mainnet\").__enter__()"
   ]
  },
  {
   "cell_type": "code",
   "execution_count": 31,
   "metadata": {},
   "outputs": [
    {
     "data": {
      "text/html": "<div>\n<style scoped>\n    .dataframe tbody tr th:only-of-type {\n        vertical-align: middle;\n    }\n\n    .dataframe tbody tr th {\n        vertical-align: top;\n    }\n\n    .dataframe thead th {\n        text-align: right;\n    }\n</style>\n<table border=\"1\" class=\"dataframe\">\n  <thead>\n    <tr style=\"text-align: right;\">\n      <th></th>\n      <th>Badger price</th>\n      <th>Balancer price</th>\n      <th>Aura price</th>\n    </tr>\n  </thead>\n  <tbody>\n    <tr>\n      <th>0</th>\n      <td>$3.42</td>\n      <td>$4.96</td>\n      <td>$1.74</td>\n    </tr>\n  </tbody>\n</table>\n</div>",
      "text/plain": "  Badger price Balancer price Aura price\n0        $3.42          $4.96      $1.74"
     },
     "execution_count": 31,
     "metadata": {},
     "output_type": "execute_result"
    }
   ],
   "source": [
    "prices = CoinGeckoAPI().get_price([\"aura-finance\", \"balancer\", \"badger-dao\"], \"usd\")\n",
    "bal_price = prices[\"balancer\"][\"usd\"]\n",
    "aura_price = prices[\"aura-finance\"][\"usd\"]\n",
    "badger_price = prices[\"badger-dao\"][\"usd\"]\n",
    "data = [[\"${:.2f}\".format(badger_price),  \"${:.2f}\".format(bal_price), \"${:.2f}\".format(aura_price)]]\n",
    "headers = [\"Badger price\", \"Balancer price\", \"Aura price\"]\n",
    "df_prices = pd.DataFrame(data, columns=headers)\n",
    "df_prices"
   ]
  },
  {
   "cell_type": "code",
   "execution_count": 32,
   "metadata": {},
   "outputs": [
    {
     "data": {
      "text/html": "<div>\n<style scoped>\n    .dataframe tbody tr th:only-of-type {\n        vertical-align: middle;\n    }\n\n    .dataframe tbody tr th {\n        vertical-align: top;\n    }\n\n    .dataframe thead th {\n        text-align: right;\n    }\n</style>\n<table border=\"1\" class=\"dataframe\">\n  <thead>\n    <tr style=\"text-align: right;\">\n      <th></th>\n      <th>Proposal block height</th>\n      <th>Past Round Active vlAURA votes</th>\n      <th>Cost per Vote Last Round</th>\n    </tr>\n  </thead>\n  <tbody>\n    <tr>\n      <th>0</th>\n      <td>15635887</td>\n      <td>6830592</td>\n      <td>$0.0652</td>\n    </tr>\n  </tbody>\n</table>\n</div>",
      "text/plain": "   Proposal block height Past Round Active vlAURA votes  \\\n0               15635887                        6830592   \n\n  Cost per Vote Last Round  \n0                  $0.0652  "
     },
     "execution_count": 32,
     "metadata": {},
     "output_type": "execute_result"
    }
   ],
   "source": [
    "# endpoint and query for aura proposals\n",
    "SNAPSHOT_SUBGRAPH = \"https://hub.snapshot.org/graphql?\"\n",
    "PROPOSAL_INFO_QUERY = \"\"\"\n",
    "        query($proposal_id: String) {\n",
    "          proposal(id: $proposal_id) {\n",
    "            scores_total\n",
    "            snapshot\n",
    "            choices\n",
    "            scores\n",
    "          }\n",
    "        }\n",
    "        \"\"\"\n",
    "proposal_id_last = \"0x50f8e76b64188af61aec0fe6a3877f0a16bb683490acefd2ea0359e166098b96\"\n",
    "proposal_id_current = \"0x50f8e76b64188af61aec0fe6a3877f0a16bb683490acefd2ea0359e166098b96\"\n",
    "\n",
    "# endpoint for llama for cost per vote last round\n",
    "LLAMA_DASHBOARD_URL = \"https://api.llama.airforce//dashboard\"\n",
    "aura_dash = requests.post(LLAMA_DASHBOARD_URL, json={\"id\": \"bribes-overview-aura\"}).json()\n",
    "cost_per_vote_last_round = aura_dash['dashboard']['epochs'][-1]['dollarPerVlAsset']\n",
    "cost_per_vote_after_fee = cost_per_vote_last_round * (1.04)\n",
    "\n",
    "# check active voter in past proposal as ref\n",
    "response_proposal = requests.post(\n",
    "        SNAPSHOT_SUBGRAPH,\n",
    "        json={\"query\": PROPOSAL_INFO_QUERY, \"variables\": {\"proposal_id\": proposal_id_last}},\n",
    "    ).json()[\"data\"][\"proposal\"]\n",
    "response_proposal = requests.post(\n",
    "        SNAPSHOT_SUBGRAPH,\n",
    "        json={\"query\": PROPOSAL_INFO_QUERY, \"variables\": {\"proposal_id\": proposal_id_current}},\n",
    "    ).json()[\"data\"][\"proposal\"]\n",
    "\n",
    "block_current_proposal = int(response_proposal[\"snapshot\"])\n",
    "aura_voting_actively_last_round = response_proposal[\"scores_total\"]\n",
    "data = [[block_current_proposal,  f'{aura_voting_actively_last_round:.0f}', \"${:.4f}\".format(cost_per_vote_after_fee)]]\n",
    "headers = [\"Proposal block height\", \"Past Round Active vlAURA votes\", \"Cost per Vote Last Round\"]\n",
    "df_llama = pd.DataFrame(data, columns=headers)\n",
    "df_llama\n"
   ]
  },
  {
   "cell_type": "code",
   "execution_count": 33,
   "metadata": {},
   "outputs": [
    {
     "data": {
      "text/html": "<div>\n<style scoped>\n    .dataframe tbody tr th:only-of-type {\n        vertical-align: middle;\n    }\n\n    .dataframe tbody tr th {\n        vertical-align: top;\n    }\n\n    .dataframe thead th {\n        text-align: right;\n    }\n</style>\n<table border=\"1\" class=\"dataframe\">\n  <thead>\n    <tr style=\"text-align: right;\">\n      <th></th>\n      <th>Aura Mint Balancer Ratio</th>\n      <th>Bi-weekly Emissions</th>\n    </tr>\n  </thead>\n  <tbody>\n    <tr>\n      <th>0</th>\n      <td>3.752714</td>\n      <td>$2499014.4784</td>\n    </tr>\n  </tbody>\n</table>\n</div>",
      "text/plain": "   Aura Mint Balancer Ratio Bi-weekly Emissions\n0                  3.752714       $2499014.4784"
     },
     "execution_count": 33,
     "metadata": {},
     "output_type": "execute_result"
    }
   ],
   "source": [
    "# emissions ecosystem\n",
    "BALANCER_EMISSIONS = 145_000\n",
    "AURA_FEE = .25\n",
    "aura = Contract('0xC0c293ce456fF0ED870ADd98a0828Dd4d2903DBF')\n",
    "total_cliffs = aura.totalCliffs()\n",
    "cliff_reduction = aura.reductionPerCliff() / 1e18\n",
    "aura_total_supply = aura.totalSupply(block_identifier=block_current_proposal) / 1e18\n",
    "init_mint_amount = aura.INIT_MINT_AMOUNT() / 1e18\n",
    "aura_mint_ratio = (\n",
    "    (total_cliffs - (aura_total_supply - init_mint_amount) / cliff_reduction) * 2.5\n",
    "    + 700\n",
    ") / total_cliffs\n",
    "weekly_emissions = BALANCER_EMISSIONS * bal_price + BALANCER_EMISSIONS * aura_mint_ratio * aura_price\n",
    "weekly_emissions_after_fee = weekly_emissions * (1-AURA_FEE)\n",
    "biweekly_emissions = weekly_emissions_after_fee * 2\n",
    "data = [[aura_mint_ratio, \"${:.4f}\".format(biweekly_emissions)]]\n",
    "headers = [\"Aura Mint Balancer Ratio\", \"Bi-weekly Emissions\"]\n",
    "df_emissions = pd.DataFrame(data, columns=headers)\n",
    "df_emissions\n"
   ]
  },
  {
   "cell_type": "code",
   "execution_count": 36,
   "metadata": {
    "collapsed": false,
    "pycharm": {
     "name": "#%%\n"
    }
   },
   "outputs": [
    {
     "data": {
      "text/html": "<div>\n<style scoped>\n    .dataframe tbody tr th:only-of-type {\n        vertical-align: middle;\n    }\n\n    .dataframe tbody tr th {\n        vertical-align: top;\n    }\n\n    .dataframe thead th {\n        text-align: right;\n    }\n</style>\n<table border=\"1\" class=\"dataframe\">\n  <thead>\n    <tr style=\"text-align: right;\">\n      <th></th>\n      <th>Treasury VP</th>\n      <th>Council Fee</th>\n      <th>Total Badger VP</th>\n      <th>Gravi in Digg pool</th>\n      <th>Total Badger Council VP - if voting for DIGG</th>\n      <th>Badger Aura Controlled - everyone Votes</th>\n      <th>Badger Aura Controlled - proactive voters</th>\n    </tr>\n  </thead>\n  <tbody>\n    <tr>\n      <th>0</th>\n      <td>182298.367156</td>\n      <td>91833.486207</td>\n      <td>274131.853364</td>\n      <td>256854.746895</td>\n      <td>348688.233102</td>\n      <td>3.396%</td>\n      <td>4.013%</td>\n    </tr>\n  </tbody>\n</table>\n</div>",
      "text/plain": "     Treasury VP   Council Fee  Total Badger VP  Gravi in Digg pool  \\\n0  182298.367156  91833.486207    274131.853364       256854.746895   \n\n   Total Badger Council VP - if voting for DIGG  \\\n0                                 348688.233102   \n\n  Badger Aura Controlled - everyone Votes  \\\n0                                  3.396%   \n\n  Badger Aura Controlled - proactive voters  \n0                                    4.013%  "
     },
     "execution_count": 36,
     "metadata": {},
     "output_type": "execute_result"
    }
   ],
   "source": [
    "vlAURA = Contract(\"0x3Fa73f1E5d8A792C80F426fc8F84FBF7Ce9bBCAC\")\n",
    "vlAURA_ts = vlAURA.totalSupply(block_identifier=block_current_proposal)/1e18\n",
    "strat_votes = vlAURA.getVotes('0x14f83ff95d4ec5e8812ddf42da1232b0ba1015e6', block_identifier=block_current_proposal) /1e18\n",
    "council_fee = strat_votes*.1\n",
    "# digg pool\n",
    "balancer_vault = Contract(\"0xBA12222222228d8Ba445958a75a0704d566BF2C8\")\n",
    "# digg pool id\n",
    "digg_pool_info = balancer_vault.getPoolTokens(\n",
    "    '0x8EB6C82C3081BBBD45DCAC5AFA631AAC53478B7C000100000000000000000270',\n",
    "    block_identifier=block_current_proposal,\n",
    ")\n",
    "gravi_in_digg_pool = digg_pool_info[1][2] / 1e18\n",
    "total_gravi_vp_for_digg = gravi_in_digg_pool + council_fee\n",
    "\n",
    "treasury_votes = vlAURA.getVotes('0xA9ed98B5Fb8428d68664f3C5027c62A10d45826b', block_identifier=block_current_proposal) /1e18\n",
    "total_vp_badgerdao = treasury_votes + council_fee\n",
    "pct_controlled_aura_by_badger = total_vp_badgerdao/ vlAURA_ts\n",
    "badger_aura_control = \"{0:.3%}\".format(pct_controlled_aura_by_badger)\n",
    "pct_controlled_aura_by_badger_active = total_vp_badgerdao/ aura_voting_actively_last_round\n",
    "pct_controlled_aura_by_council_active = total_gravi_vp_for_digg / aura_voting_actively_last_round\n",
    "badger_aura_control_active = \"{0:.3%}\".format(pct_controlled_aura_by_badger_active)\n",
    "data = [[treasury_votes, council_fee, total_vp_badgerdao, gravi_in_digg_pool, total_gravi_vp_for_digg, badger_aura_control, badger_aura_control_active]]\n",
    "headers = [\"Treasury VP\", \"Council Fee\", \"Total Badger VP\", \"Gravi in Digg pool\", \"Total Badger Council VP - if voting for DIGG\", \"Badger Aura Controlled - everyone Votes\", \"Badger Aura Controlled - proactive voters\"]\n",
    "df_vp = pd.DataFrame(data, columns=headers)\n",
    "df_vp"
   ]
  },
  {
   "cell_type": "code",
   "execution_count": null,
   "metadata": {},
   "outputs": [
    {
     "data": {
      "text/html": "<div>\n<style scoped>\n    .dataframe tbody tr th:only-of-type {\n        vertical-align: middle;\n    }\n\n    .dataframe tbody tr th {\n        vertical-align: top;\n    }\n\n    .dataframe thead th {\n        text-align: right;\n    }\n</style>\n<table border=\"1\" class=\"dataframe\">\n  <thead>\n    <tr style=\"text-align: right;\">\n      <th></th>\n      <th>Aura veBAL controlled</th>\n      <th>Badger veBAL controlled - everyone votes</th>\n      <th>Badger veBAL controlled - proactive voters</th>\n    </tr>\n  </thead>\n  <tbody>\n    <tr>\n      <th>0</th>\n      <td>25.450%</td>\n      <td>0.864%</td>\n      <td>1.021%</td>\n    </tr>\n  </tbody>\n</table>\n</div>",
      "text/plain": "  Aura veBAL controlled Badger veBAL controlled - everyone votes  \\\n0               25.450%                                   0.864%   \n\n  Badger veBAL controlled - proactive voters  \n0                                     1.021%  "
     },
     "execution_count": 24,
     "metadata": {},
     "output_type": "execute_result"
    }
   ],
   "source": [
    "vebal = Contract(\"0xC128a9954e6c874eA3d62ce62B468bA073093F25\")\n",
    "vebal_ts = vebal.totalSupplyAt(block_current_proposal) / 1e18\n",
    "vebal_aura_controlled = vebal.balanceOfAt(\"0xaF52695E1bB01A16D33D7194C28C42b10e0Dbec2\", block_current_proposal)/1e18\n",
    "pct_aura_vebal_controlled = vebal_aura_controlled/vebal_ts\n",
    "pct_aura_vebal_display = \"{0:.3%}\".format(pct_aura_vebal_controlled)\n",
    "pct_badger_vebal_controlled = pct_controlled_aura_by_badger*pct_aura_vebal_controlled\n",
    "pct_badger_vebal_display = \"{0:.3%}\".format(pct_badger_vebal_controlled)\n",
    "pct_badger_vebal_controlled_active = pct_controlled_aura_by_badger_active*pct_aura_vebal_controlled\n",
    "pct_badger_vebal_acive_display = \"{0:.3%}\".format(pct_badger_vebal_controlled_active)\n",
    "pct_council_vebal_controlled_active = pct_controlled_aura_by_council_active * pct_aura_vebal_controlled\n",
    "data = [[pct_aura_vebal_display, pct_badger_vebal_display, pct_badger_vebal_acive_display]]\n",
    "headers = [\"Aura veBAL controlled\", \"Badger veBAL controlled - everyone votes\", \"Badger veBAL controlled - proactive voters\"]\n",
    "df_vebal = pd.DataFrame(data, columns=headers)\n",
    "df_vebal"
   ]
  },
  {
   "cell_type": "code",
   "execution_count": null,
   "metadata": {},
   "outputs": [
    {
     "data": {
      "text/html": "<div>\n<style scoped>\n    .dataframe tbody tr th:only-of-type {\n        vertical-align: middle;\n    }\n\n    .dataframe tbody tr th {\n        vertical-align: top;\n    }\n\n    .dataframe thead th {\n        text-align: right;\n    }\n</style>\n<table border=\"1\" class=\"dataframe\">\n  <thead>\n    <tr style=\"text-align: right;\">\n      <th></th>\n      <th>vlAURA Required</th>\n      <th>Cost of Maxing Cap</th>\n      <th>Badger Bribe Max Cap</th>\n      <th>Expected Bribe reclyced</th>\n    </tr>\n  </thead>\n  <tbody>\n    <tr>\n      <th>0</th>\n      <td>536779.36656</td>\n      <td>$34992.7857</td>\n      <td>10231.808685</td>\n      <td>5225.358598</td>\n    </tr>\n  </tbody>\n</table>\n</div>",
      "text/plain": "   vlAURA Required Cost of Maxing Cap  Badger Bribe Max Cap  \\\n0     536779.36656        $34992.7857          10231.808685   \n\n   Expected Bribe reclyced  \n0              5225.358598  "
     },
     "execution_count": 25,
     "metadata": {},
     "output_type": "execute_result"
    }
   ],
   "source": [
    "# NOTE: block to max out badger/wbtc cap\n",
    "# caps & budget may vary along the quarters modify accordingly\n",
    "GAUGE_CAP = .02\n",
    "MAX_BRIBE = 16_000\n",
    "\n",
    "vlAURA_req = total_vp_badgerdao/(pct_badger_vebal_controlled_active/GAUGE_CAP)\n",
    "cost_of_max_cap = vlAURA_req * cost_per_vote_after_fee\n",
    "badger_to_bribe_balancer = cost_of_max_cap / badger_price\n",
    "bribe_reclycing = badger_to_bribe_balancer * (total_vp_badgerdao/vlAURA_req)\n",
    "data = [[vlAURA_req, \"${:.4f}\".format(cost_of_max_cap), badger_to_bribe_balancer, bribe_reclycing]]\n",
    "headers = [\"vlAURA Required\", \"Cost of Maxing Cap\", \"Badger Bribe Max Cap\", \"Expected Bribe reclyced\"]\n",
    "df_bribes_badger_pool = pd.DataFrame(data, columns=headers)\n",
    "df_bribes_badger_pool"
   ]
  },
  {
   "cell_type": "code",
   "execution_count": null,
   "metadata": {},
   "outputs": [
    {
     "data": {
      "text/html": "<div>\n<style scoped>\n    .dataframe tbody tr th:only-of-type {\n        vertical-align: middle;\n    }\n\n    .dataframe tbody tr th {\n        vertical-align: top;\n    }\n\n    .dataframe thead th {\n        text-align: right;\n    }\n</style>\n<table border=\"1\" class=\"dataframe\">\n  <thead>\n    <tr style=\"text-align: right;\">\n      <th></th>\n      <th>vlAURA Required</th>\n      <th>Cost of Maxing Cap</th>\n      <th>Badger Bribe Max Cap</th>\n      <th>Expected Bribe reclyced</th>\n    </tr>\n  </thead>\n  <tbody>\n    <tr>\n      <th>0</th>\n      <td>422005.415248</td>\n      <td>$27510.6421</td>\n      <td>8044.047409</td>\n      <td>5225.358598</td>\n    </tr>\n  </tbody>\n</table>\n</div>",
      "text/plain": "   vlAURA Required Cost of Maxing Cap  Badger Bribe Max Cap  \\\n0    422005.415248        $27510.6421           8044.047409   \n\n   Expected Bribe reclyced  \n0              5225.358598  "
     },
     "execution_count": 26,
     "metadata": {},
     "output_type": "execute_result"
    }
   ],
   "source": [
    "# NOTE: block to max out digg/wbtc/gravi cap\n",
    "vlAURA_req = total_vp_badgerdao/(pct_council_vebal_controlled_active/GAUGE_CAP)\n",
    "cost_of_max_cap = vlAURA_req * cost_per_vote_after_fee\n",
    "badger_to_bribe_balancer = cost_of_max_cap / badger_price\n",
    "bribe_reclycing_digg_voting = badger_to_bribe_balancer * (total_vp_badgerdao/vlAURA_req)\n",
    "data = [[vlAURA_req, \"${:.4f}\".format(cost_of_max_cap), badger_to_bribe_balancer, bribe_reclycing_digg_voting]]\n",
    "headers = [\"vlAURA Required\", \"Cost of Maxing Cap\", \"Badger Bribe Max Cap\", \"Expected Bribe reclyced\"]\n",
    "df_bribes_digg_pool = pd.DataFrame(data, columns=headers)\n",
    "df_bribes_digg_pool"
   ]
  },
  {
   "cell_type": "code",
   "execution_count": 37,
   "metadata": {},
   "outputs": [
    {
     "data": {
      "text/html": "<div>\n<style scoped>\n    .dataframe tbody tr th:only-of-type {\n        vertical-align: middle;\n    }\n\n    .dataframe tbody tr th {\n        vertical-align: top;\n    }\n\n    .dataframe thead th {\n        text-align: right;\n    }\n</style>\n<table border=\"1\" class=\"dataframe\">\n  <thead>\n    <tr style=\"text-align: right;\">\n      <th></th>\n      <th>Badger Bribe Overflow - Bribing badger/wbtc pool</th>\n      <th>Badger Bribe Overflow - Bribing digg/wbtc/graviaura pool</th>\n    </tr>\n  </thead>\n  <tbody>\n    <tr>\n      <th>0</th>\n      <td>7955.952591</td>\n      <td>10774.641402</td>\n    </tr>\n  </tbody>\n</table>\n</div>",
      "text/plain": "   Badger Bribe Overflow - Bribing badger/wbtc pool  \\\n0                                       7955.952591   \n\n   Badger Bribe Overflow - Bribing digg/wbtc/graviaura pool  \n0                                       10774.641402         "
     },
     "execution_count": 37,
     "metadata": {},
     "output_type": "execute_result"
    }
   ],
   "source": [
    "# amount of bribe based on allowance free for bribing elsewhere\n",
    "bribe_overflow_badger_pool = MAX_BRIBE - badger_to_bribe_balancer\n",
    "bribe_overflow_digg_pool = MAX_BRIBE - bribe_reclycing_digg_voting\n",
    "data = [[bribe_overflow_badger_pool, bribe_overflow_digg_pool]]\n",
    "headers = [\"Badger Bribe Overflow - Bribing badger/wbtc pool\", \"Badger Bribe Overflow - Bribing digg/wbtc/graviaura pool\"]\n",
    "df_bribes_overflow = pd.DataFrame(data, columns=headers)\n",
    "df_bribes_overflow\n"
   ]
  },
  {
   "cell_type": "code",
   "execution_count": null,
   "metadata": {},
   "outputs": [
    {
     "data": {
      "text/html": "<div>\n<style scoped>\n    .dataframe tbody tr th:only-of-type {\n        vertical-align: middle;\n    }\n\n    .dataframe tbody tr th {\n        vertical-align: top;\n    }\n\n    .dataframe thead th {\n        text-align: right;\n    }\n</style>\n<table border=\"1\" class=\"dataframe\">\n  <thead>\n    <tr style=\"text-align: right;\">\n      <th></th>\n      <th>Pool yield (USD) - biweekly</th>\n      <th>Badger Pool TVL</th>\n      <th>Pool Capture</th>\n      <th>Treasury yield earned (USD) - biweekly</th>\n      <th>Bribe Aura Real Cost</th>\n      <th>Treasury ROI - biweekly</th>\n    </tr>\n  </thead>\n  <tbody>\n    <tr>\n      <th>0</th>\n      <td>$50143.5326</td>\n      <td>$7006378.9770</td>\n      <td>39.150%</td>\n      <td>$19631.0011</td>\n      <td>$9639.9157</td>\n      <td>203.643%</td>\n    </tr>\n  </tbody>\n</table>\n</div>",
      "text/plain": "  Pool yield (USD) - biweekly Badger Pool TVL Pool Capture  \\\n0                 $50143.5326   $7006378.9770      39.150%   \n\n  Treasury yield earned (USD) - biweekly Bribe Aura Real Cost  \\\n0                            $19631.0011           $9639.9157   \n\n  Treasury ROI - biweekly  \n0                203.643%  "
     },
     "execution_count": 28,
     "metadata": {},
     "output_type": "execute_result"
    }
   ],
   "source": [
    "# treasury earnings bi-weekly expectation post-bribe\n",
    "BALANCER_SUBGRAPH = \"https://api.thegraph.com/subgraphs/name/balancer-labs/balancer-v2\"\n",
    "TVL_QUERY = \"\"\"\n",
    "        query($pool_id: String) {\n",
    "          pool(id: $pool_id) {\n",
    "            totalLiquidity\n",
    "          }\n",
    "        }\n",
    "        \"\"\"\n",
    "POOL_ID_BADGER = \"0xb460daa847c45f1c4a41cb05bfb3b51c92e41b36000200000000000000000194\"\n",
    "response_tvl_badger = requests.post(\n",
    "    BALANCER_SUBGRAPH,\n",
    "    json={\"query\": TVL_QUERY, \"variables\": {\"pool_id\": POOL_ID_BADGER}},\n",
    ").json()\n",
    "tvl_badger = float(response_tvl_badger[\"data\"][\"pool\"][\"totalLiquidity\"])\n",
    "badger_pool = Contract(\"0xb460DAa847c45f1C4a41cb05BFB3b51c92e41B36\")\n",
    "pool_supply = badger_pool.totalSupply() / 1e18\n",
    "reward_badger_aura = Contract(\"0x05df1E87f41F793D9e03d341Cdc315b76595654C\")\n",
    "vault_rewards_contract_balance = reward_badger_aura.balanceOf(\"0xD0A7A8B98957b9CD3cFB9c0425AbE44551158e9e\", block_identifier=block_current_proposal)/1e18\n",
    "vault_owned_tcl = tvl_badger * (vault_rewards_contract_balance/pool_supply)\n",
    "pool_capture = vault_owned_tcl / tvl_badger\n",
    "pool_earnings = biweekly_emissions * GAUGE_CAP\n",
    "real_bribe_aura_expense = (badger_to_bribe_balancer - bribe_reclycing) * badger_price\n",
    "treasury_roi = (pool_earnings*pool_capture) / real_bribe_aura_expense\n",
    "data = [[\"${:.4f}\".format(pool_earnings), \"${:.4f}\".format(tvl_badger), \"{0:.3%}\".format(pool_capture), \"${:.4f}\".format(pool_earnings*pool_capture), \"${:.4f}\".format(real_bribe_aura_expense), \"{0:.3%}\".format(treasury_roi)]]\n",
    "headers = [\"Pool yield (USD) - biweekly\", \"Badger Pool TVL\", \"Pool Capture\", \"Treasury yield earned (USD) - biweekly\", \"Bribe Aura Real Cost\", \"Treasury ROI - biweekly\"]\n",
    "df_earnings = pd.DataFrame(data, columns=headers)\n",
    "df_earnings"
   ]
  }
 ],
 "metadata": {
  "kernelspec": {
   "display_name": "Python 3.8.0 64-bit ('notebook')",
   "name": "python380jvsc74a57bd09253f604c87be4a7cf47dd897c36333e99f441f8153bec10e14bef349a9214eb"
  },
  "language_info": {
   "codemirror_mode": {
    "name": "ipython",
    "version": 3
   },
   "file_extension": ".py",
   "mimetype": "text/x-python",
   "name": "python",
   "nbconvert_exporter": "python",
   "pygments_lexer": "ipython3",
   "version": "3.8.0"
  },
  "metadata": {
   "interpreter": {
    "hash": "9253f604c87be4a7cf47dd897c36333e99f441f8153bec10e14bef349a9214eb"
   }
  }
 },
 "nbformat": 4,
 "nbformat_minor": 0
}