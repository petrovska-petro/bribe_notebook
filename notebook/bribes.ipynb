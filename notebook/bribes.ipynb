{
 "cells": [
  {
   "cell_type": "code",
   "execution_count": 185,
   "metadata": {
    "collapsed": true,
    "pycharm": {
     "name": "#%%\n"
    }
   },
   "outputs": [],
   "source": [
    "import requests\n",
    "\n",
    "from ape import networks, Contract\n",
    "import pandas as pd\n",
    "\n",
    "from helpers.coingecko import get_prices\n",
    "from helpers.subgraph_endpoints import get_cost_per_vote_after_fee, get_proposal_info, get_tvl_balancer_badger_pool, get_tvl_balancer_digg_pool\n",
    "from helpers.aura import get_gravi_in_balancer_pool, weekly_emissions_after_fee, aura_mint_ratio\n",
    "from helpers.vp_info import get_council_vp_fee, get_voter_vp\n",
    "from helpers.bribe_info import get_bribe_info, MAX_BRIBE, GAUGE_CAP\n",
    "from helpers.formatter import pct_format, dollar_format"
   ]
  },
  {
   "cell_type": "code",
   "execution_count": 186,
   "metadata": {},
   "outputs": [
    {
     "name": "stdout",
     "output_type": "stream",
     "text": [
      "INFO: Connecting to existing Geth node at 'https://eth-mainnet.g.alchemy.com/v2/Ct5gz9eC4qAPrNN4d-6l9CrOHePE5IVH'.\n"
     ]
    },
    {
     "data": {
      "text/plain": "<geth chain_id=1>"
     },
     "execution_count": 186,
     "metadata": {},
     "output_type": "execute_result"
    }
   ],
   "source": [
    "networks.parse_network_choice(\"ethereum:mainnet\").__enter__()"
   ]
  },
  {
   "cell_type": "code",
   "execution_count": 187,
   "metadata": {},
   "outputs": [
    {
     "data": {
      "text/html": "<div>\n<style scoped>\n    .dataframe tbody tr th:only-of-type {\n        vertical-align: middle;\n    }\n\n    .dataframe tbody tr th {\n        vertical-align: top;\n    }\n\n    .dataframe thead th {\n        text-align: right;\n    }\n</style>\n<table border=\"1\" class=\"dataframe\">\n  <thead>\n    <tr style=\"text-align: right;\">\n      <th></th>\n      <th>Badger price</th>\n      <th>Balancer price</th>\n      <th>Aura price</th>\n    </tr>\n  </thead>\n  <tbody>\n    <tr>\n      <th>0</th>\n      <td>$3.41</td>\n      <td>$4.99</td>\n      <td>$1.76</td>\n    </tr>\n  </tbody>\n</table>\n</div>",
      "text/plain": "  Badger price Balancer price Aura price\n0        $3.41          $4.99      $1.76"
     },
     "execution_count": 187,
     "metadata": {},
     "output_type": "execute_result"
    }
   ],
   "source": [
    "bal_price, aura_price,  badger_price = get_prices()\n",
    "data = [[\"${:.2f}\".format(badger_price),  \"${:.2f}\".format(bal_price), \"${:.2f}\".format(aura_price)]]\n",
    "headers = [\"Badger price\", \"Balancer price\", \"Aura price\"]\n",
    "df_prices = pd.DataFrame(data, columns=headers)\n",
    "df_prices"
   ]
  },
  {
   "cell_type": "code",
   "execution_count": 188,
   "metadata": {},
   "outputs": [
    {
     "data": {
      "text/html": "<div>\n<style scoped>\n    .dataframe tbody tr th:only-of-type {\n        vertical-align: middle;\n    }\n\n    .dataframe tbody tr th {\n        vertical-align: top;\n    }\n\n    .dataframe thead th {\n        text-align: right;\n    }\n</style>\n<table border=\"1\" class=\"dataframe\">\n  <thead>\n    <tr style=\"text-align: right;\">\n      <th></th>\n      <th>Proposal block height</th>\n      <th>Past Round Active vlAURA votes</th>\n      <th>Cost per Vote Last Round</th>\n    </tr>\n  </thead>\n  <tbody>\n    <tr>\n      <th>0</th>\n      <td>15635887</td>\n      <td>6830592</td>\n      <td>$0.0652</td>\n    </tr>\n  </tbody>\n</table>\n</div>",
      "text/plain": "   Proposal block height Past Round Active vlAURA votes  \\\n0               15635887                        6830592   \n\n  Cost per Vote Last Round  \n0                  $0.0652  "
     },
     "execution_count": 188,
     "metadata": {},
     "output_type": "execute_result"
    }
   ],
   "source": [
    "# NOTE: modify with right proposal (latest & current)\n",
    "proposal_id_last = \"0x50f8e76b64188af61aec0fe6a3877f0a16bb683490acefd2ea0359e166098b96\"\n",
    "proposal_id_current = \"0x50f8e76b64188af61aec0fe6a3877f0a16bb683490acefd2ea0359e166098b96\"\n",
    "\n",
    "cost_per_vote_after_fee = get_cost_per_vote_after_fee()\n",
    "\n",
    "# check active voter in past proposal as ref\n",
    "response_last_proposal = get_proposal_info(proposal_id_last)\n",
    "response_current_proposal = get_proposal_info(proposal_id_current)\n",
    "\n",
    "block_current_proposal = int(response_current_proposal[\"snapshot\"])\n",
    "aura_voting_actively_last_round = response_last_proposal[\"scores_total\"]\n",
    "data = [[block_current_proposal,  f'{aura_voting_actively_last_round:.0f}', dollar_format(cost_per_vote_after_fee)]]\n",
    "headers = [\"Proposal block height\", \"Past Round Active vlAURA votes\", \"Cost per Vote Last Round\"]\n",
    "df_llama = pd.DataFrame(data, columns=headers)\n",
    "df_llama\n"
   ]
  },
  {
   "cell_type": "code",
   "execution_count": 189,
   "metadata": {},
   "outputs": [
    {
     "data": {
      "text/html": "<div>\n<style scoped>\n    .dataframe tbody tr th:only-of-type {\n        vertical-align: middle;\n    }\n\n    .dataframe tbody tr th {\n        vertical-align: top;\n    }\n\n    .dataframe thead th {\n        text-align: right;\n    }\n</style>\n<table border=\"1\" class=\"dataframe\">\n  <thead>\n    <tr style=\"text-align: right;\">\n      <th></th>\n      <th>Aura Mint Balancer Ratio</th>\n      <th>Bi-weekly Emissions</th>\n    </tr>\n  </thead>\n  <tbody>\n    <tr>\n      <th>0</th>\n      <td>3.752714</td>\n      <td>$2521863.7828</td>\n    </tr>\n  </tbody>\n</table>\n</div>",
      "text/plain": "   Aura Mint Balancer Ratio Bi-weekly Emissions\n0                  3.752714       $2521863.7828"
     },
     "execution_count": 189,
     "metadata": {},
     "output_type": "execute_result"
    }
   ],
   "source": [
    "# emissions ecosystem\n",
    "aura = Contract('0xC0c293ce456fF0ED870ADd98a0828Dd4d2903DBF')\n",
    "aura_mint_ratio = aura_mint_ratio(aura, block_current_proposal)\n",
    "weekly_emissions_after_fee = weekly_emissions_after_fee(aura_mint_ratio, bal_price, aura_price)\n",
    "biweekly_emissions = weekly_emissions_after_fee * 2\n",
    "data = [[aura_mint_ratio, dollar_format(biweekly_emissions)]]\n",
    "headers = [\"Aura Mint Balancer Ratio\", \"Bi-weekly Emissions\"]\n",
    "df_emissions = pd.DataFrame(data, columns=headers)\n",
    "df_emissions\n"
   ]
  },
  {
   "cell_type": "code",
   "execution_count": 190,
   "metadata": {
    "collapsed": false,
    "pycharm": {
     "name": "#%%\n"
    }
   },
   "outputs": [
    {
     "data": {
      "text/html": "<div>\n<style scoped>\n    .dataframe tbody tr th:only-of-type {\n        vertical-align: middle;\n    }\n\n    .dataframe tbody tr th {\n        vertical-align: top;\n    }\n\n    .dataframe thead th {\n        text-align: right;\n    }\n</style>\n<table border=\"1\" class=\"dataframe\">\n  <thead>\n    <tr style=\"text-align: right;\">\n      <th></th>\n      <th>Treasury VP</th>\n      <th>Council Fee</th>\n      <th>Total Badger VP</th>\n      <th>Gravi in Digg pool</th>\n      <th>Total Badger Council VP - if voting for DIGG</th>\n      <th>Badger Aura Controlled - everyone Votes</th>\n      <th>Badger Aura Controlled - proactive voters</th>\n    </tr>\n  </thead>\n  <tbody>\n    <tr>\n      <th>0</th>\n      <td>182298.367156</td>\n      <td>91833.486207</td>\n      <td>274131.853364</td>\n      <td>256854.746895</td>\n      <td>348688.233102</td>\n      <td>3.396%</td>\n      <td>4.013%</td>\n    </tr>\n  </tbody>\n</table>\n</div>",
      "text/plain": "     Treasury VP   Council Fee  Total Badger VP  Gravi in Digg pool  \\\n0  182298.367156  91833.486207    274131.853364       256854.746895   \n\n   Total Badger Council VP - if voting for DIGG  \\\n0                                 348688.233102   \n\n  Badger Aura Controlled - everyone Votes  \\\n0                                  3.396%   \n\n  Badger Aura Controlled - proactive voters  \n0                                    4.013%  "
     },
     "execution_count": 190,
     "metadata": {},
     "output_type": "execute_result"
    }
   ],
   "source": [
    "vlAURA = Contract(\"0x3Fa73f1E5d8A792C80F426fc8F84FBF7Ce9bBCAC\")\n",
    "vlAURA_ts = vlAURA.totalSupply(block_identifier=block_current_proposal)/1e18\n",
    "council_fee = get_council_vp_fee(vlAURA, block_current_proposal)\n",
    "\n",
    "# digg pool\n",
    "balancer_vault = Contract(\"0xBA12222222228d8Ba445958a75a0704d566BF2C8\")\n",
    "gravi_in_digg_pool = get_gravi_in_balancer_pool(balancer_vault, block_current_proposal)\n",
    "total_gravi_vp_for_digg = gravi_in_digg_pool + council_fee\n",
    "\n",
    "treasury_votes = get_voter_vp(vlAURA, block_current_proposal)\n",
    "total_vp_badgerdao = treasury_votes + council_fee\n",
    "\n",
    "pct_controlled_aura_by_badger = total_vp_badgerdao/ vlAURA_ts\n",
    "pct_controlled_aura_by_badger_active = total_vp_badgerdao/ aura_voting_actively_last_round\n",
    "pct_controlled_aura_by_council_active = total_gravi_vp_for_digg / aura_voting_actively_last_round\n",
    "data = [[treasury_votes, council_fee, total_vp_badgerdao, gravi_in_digg_pool, total_gravi_vp_for_digg, pct_format(pct_controlled_aura_by_badger), pct_format(pct_controlled_aura_by_badger_active)]]\n",
    "headers = [\"Treasury VP\", \"Council Fee\", \"Total Badger VP\", \"Gravi in Digg pool\", \"Total Badger Council VP - if voting for DIGG\", \"Badger Aura Controlled - everyone Votes\", \"Badger Aura Controlled - proactive voters\"]\n",
    "df_vp = pd.DataFrame(data, columns=headers)\n",
    "df_vp"
   ]
  },
  {
   "cell_type": "code",
   "execution_count": 191,
   "metadata": {},
   "outputs": [
    {
     "data": {
      "text/html": "<div>\n<style scoped>\n    .dataframe tbody tr th:only-of-type {\n        vertical-align: middle;\n    }\n\n    .dataframe tbody tr th {\n        vertical-align: top;\n    }\n\n    .dataframe thead th {\n        text-align: right;\n    }\n</style>\n<table border=\"1\" class=\"dataframe\">\n  <thead>\n    <tr style=\"text-align: right;\">\n      <th></th>\n      <th>Aura veBAL controlled</th>\n      <th>Badger veBAL controlled - everyone votes</th>\n      <th>Badger veBAL controlled - proactive voters</th>\n    </tr>\n  </thead>\n  <tbody>\n    <tr>\n      <th>0</th>\n      <td>25.450%</td>\n      <td>0.864%</td>\n      <td>1.021%</td>\n    </tr>\n  </tbody>\n</table>\n</div>",
      "text/plain": "  Aura veBAL controlled Badger veBAL controlled - everyone votes  \\\n0               25.450%                                   0.864%   \n\n  Badger veBAL controlled - proactive voters  \n0                                     1.021%  "
     },
     "execution_count": 191,
     "metadata": {},
     "output_type": "execute_result"
    }
   ],
   "source": [
    "vebal = Contract(\"0xC128a9954e6c874eA3d62ce62B468bA073093F25\")\n",
    "vebal_ts = vebal.totalSupplyAt(block_current_proposal) / 1e18\n",
    "vebal_aura_controlled = vebal.balanceOfAt(\"0xaF52695E1bB01A16D33D7194C28C42b10e0Dbec2\", block_current_proposal)/1e18\n",
    "pct_aura_vebal_controlled = vebal_aura_controlled/vebal_ts\n",
    "pct_badger_vebal_controlled = pct_controlled_aura_by_badger*pct_aura_vebal_controlled\n",
    "pct_badger_vebal_controlled_active = pct_controlled_aura_by_badger_active*pct_aura_vebal_controlled\n",
    "pct_council_vebal_controlled_active = pct_controlled_aura_by_council_active * pct_aura_vebal_controlled\n",
    "data = [[pct_format(pct_aura_vebal_controlled), pct_format(pct_badger_vebal_controlled), pct_format(pct_badger_vebal_controlled_active)]]\n",
    "headers = [\"Aura veBAL controlled\", \"Badger veBAL controlled - everyone votes\", \"Badger veBAL controlled - proactive voters\"]\n",
    "df_vebal = pd.DataFrame(data, columns=headers)\n",
    "df_vebal"
   ]
  },
  {
   "cell_type": "code",
   "execution_count": 192,
   "metadata": {},
   "outputs": [
    {
     "data": {
      "text/html": "<div>\n<style scoped>\n    .dataframe tbody tr th:only-of-type {\n        vertical-align: middle;\n    }\n\n    .dataframe tbody tr th {\n        vertical-align: top;\n    }\n\n    .dataframe thead th {\n        text-align: right;\n    }\n</style>\n<table border=\"1\" class=\"dataframe\">\n  <thead>\n    <tr style=\"text-align: right;\">\n      <th></th>\n      <th>vlAURA Required</th>\n      <th>Cost of Maxing Cap</th>\n      <th>Badger Bribe Max Cap</th>\n      <th>Expected Bribe reclyced</th>\n    </tr>\n  </thead>\n  <tbody>\n    <tr>\n      <th>0</th>\n      <td>536779.36656</td>\n      <td>$34992.7857</td>\n      <td>10261.813989</td>\n      <td>5240.68223</td>\n    </tr>\n  </tbody>\n</table>\n</div>",
      "text/plain": "   vlAURA Required Cost of Maxing Cap  Badger Bribe Max Cap  \\\n0     536779.36656        $34992.7857          10261.813989   \n\n   Expected Bribe reclyced  \n0               5240.68223  "
     },
     "execution_count": 192,
     "metadata": {},
     "output_type": "execute_result"
    }
   ],
   "source": [
    "# NOTE: block to max out badger/wbtc cap\n",
    "vlAURA_req, cost_of_max_cap, badger_to_bribe_badger_pool = get_bribe_info(total_vp_badgerdao, pct_badger_vebal_controlled_active, cost_per_vote_after_fee,badger_price)\n",
    "bribe_reclycing_badger_voting = badger_to_bribe_badger_pool * (total_vp_badgerdao/vlAURA_req)\n",
    "data = [[vlAURA_req, dollar_format(cost_of_max_cap), badger_to_bribe_badger_pool, bribe_reclycing_badger_voting]]\n",
    "headers = [\"vlAURA Required\", \"Cost of Maxing Cap\", \"Badger Bribe Max Cap\", \"Expected Bribe reclyced\"]\n",
    "df_bribes_badger_pool = pd.DataFrame(data, columns=headers)\n",
    "df_bribes_badger_pool"
   ]
  },
  {
   "cell_type": "code",
   "execution_count": 193,
   "metadata": {},
   "outputs": [
    {
     "data": {
      "text/html": "<div>\n<style scoped>\n    .dataframe tbody tr th:only-of-type {\n        vertical-align: middle;\n    }\n\n    .dataframe tbody tr th {\n        vertical-align: top;\n    }\n\n    .dataframe thead th {\n        text-align: right;\n    }\n</style>\n<table border=\"1\" class=\"dataframe\">\n  <thead>\n    <tr style=\"text-align: right;\">\n      <th></th>\n      <th>vlAURA Required</th>\n      <th>Cost of Maxing Cap</th>\n      <th>Badger Bribe Max Cap</th>\n      <th>Expected Bribe reclyced</th>\n    </tr>\n  </thead>\n  <tbody>\n    <tr>\n      <th>0</th>\n      <td>422005.415248</td>\n      <td>$27510.6421</td>\n      <td>8067.636991</td>\n      <td>6666.004715</td>\n    </tr>\n  </tbody>\n</table>\n</div>",
      "text/plain": "   vlAURA Required Cost of Maxing Cap  Badger Bribe Max Cap  \\\n0    422005.415248        $27510.6421           8067.636991   \n\n   Expected Bribe reclyced  \n0              6666.004715  "
     },
     "execution_count": 193,
     "metadata": {},
     "output_type": "execute_result"
    }
   ],
   "source": [
    "# NOTE: block to max out digg/wbtc/gravi cap\n",
    "vlAURA_req, cost_of_max_cap, badger_to_bribe_digg_pool = get_bribe_info(total_vp_badgerdao, pct_council_vebal_controlled_active, cost_per_vote_after_fee, badger_price)\n",
    "bribe_reclycing_digg_voting = badger_to_bribe_digg_pool * (total_gravi_vp_for_digg/vlAURA_req)\n",
    "data = [[vlAURA_req, dollar_format(cost_of_max_cap), badger_to_bribe_digg_pool, bribe_reclycing_digg_voting]]\n",
    "headers = [\"vlAURA Required\", \"Cost of Maxing Cap\", \"Badger Bribe Max Cap\", \"Expected Bribe reclyced\"]\n",
    "df_bribes_digg_pool = pd.DataFrame(data, columns=headers)\n",
    "df_bribes_digg_pool"
   ]
  },
  {
   "cell_type": "code",
   "execution_count": 194,
   "metadata": {},
   "outputs": [
    {
     "data": {
      "text/html": "<div>\n<style scoped>\n    .dataframe tbody tr th:only-of-type {\n        vertical-align: middle;\n    }\n\n    .dataframe tbody tr th {\n        vertical-align: top;\n    }\n\n    .dataframe thead th {\n        text-align: right;\n    }\n</style>\n<table border=\"1\" class=\"dataframe\">\n  <thead>\n    <tr style=\"text-align: right;\">\n      <th></th>\n      <th>Badger Bribe Overflow - Bribing badger/wbtc pool</th>\n      <th>Badger Bribe Overflow - Bribing digg/wbtc/graviaura pool</th>\n    </tr>\n  </thead>\n  <tbody>\n    <tr>\n      <th>0</th>\n      <td>5738.186011</td>\n      <td>7932.363009</td>\n    </tr>\n  </tbody>\n</table>\n</div>",
      "text/plain": "   Badger Bribe Overflow - Bribing badger/wbtc pool  \\\n0                                       5738.186011   \n\n   Badger Bribe Overflow - Bribing digg/wbtc/graviaura pool  \n0                                        7932.363009         "
     },
     "execution_count": 194,
     "metadata": {},
     "output_type": "execute_result"
    }
   ],
   "source": [
    "# amount of bribe based on allowance free for bribing elsewhere\n",
    "bribe_overflow_badger_pool = MAX_BRIBE - badger_to_bribe_badger_pool\n",
    "bribe_overflow_digg_pool = MAX_BRIBE - badger_to_bribe_digg_pool\n",
    "data = [[bribe_overflow_badger_pool, bribe_overflow_digg_pool]]\n",
    "headers = [\"Badger Bribe Overflow - Bribing badger/wbtc pool\", \"Badger Bribe Overflow - Bribing digg/wbtc/graviaura pool\"]\n",
    "df_bribes_overflow = pd.DataFrame(data, columns=headers)\n",
    "df_bribes_overflow\n"
   ]
  },
  {
   "cell_type": "code",
   "execution_count": 195,
   "metadata": {},
   "outputs": [
    {
     "data": {
      "text/html": "<div>\n<style scoped>\n    .dataframe tbody tr th:only-of-type {\n        vertical-align: middle;\n    }\n\n    .dataframe tbody tr th {\n        vertical-align: top;\n    }\n\n    .dataframe thead th {\n        text-align: right;\n    }\n</style>\n<table border=\"1\" class=\"dataframe\">\n  <thead>\n    <tr style=\"text-align: right;\">\n      <th></th>\n      <th>Pool yield (USD) - biweekly</th>\n      <th>BADGER Pool TVL</th>\n      <th>BADGER Pool Capture</th>\n      <th>Treasury yield earned (USD) - biweekly</th>\n      <th>Bribe Aura Real Cost</th>\n      <th>Treasury ROI - biweekly</th>\n    </tr>\n  </thead>\n  <tbody>\n    <tr>\n      <th>0</th>\n      <td>$50437.2757</td>\n      <td>$7006378.9770</td>\n      <td>39.150%</td>\n      <td>$19746.0004</td>\n      <td>$17122.0593</td>\n      <td>115.325%</td>\n    </tr>\n  </tbody>\n</table>\n</div>",
      "text/plain": "  Pool yield (USD) - biweekly BADGER Pool TVL BADGER Pool Capture  \\\n0                 $50437.2757   $7006378.9770             39.150%   \n\n  Treasury yield earned (USD) - biweekly Bribe Aura Real Cost  \\\n0                            $19746.0004          $17122.0593   \n\n  Treasury ROI - biweekly  \n0                115.325%  "
     },
     "execution_count": 195,
     "metadata": {},
     "output_type": "execute_result"
    }
   ],
   "source": [
    "# treasury expected earnings bi-weekly expectation post-bribe into BADGER pool\n",
    "tvl_badger = get_tvl_balancer_badger_pool()\n",
    "badger_pool = Contract(\"0xb460DAa847c45f1C4a41cb05BFB3b51c92e41B36\")\n",
    "pool_supply = badger_pool.totalSupply() / 1e18\n",
    "reward_badger_aura = Contract(\"0x05df1E87f41F793D9e03d341Cdc315b76595654C\")\n",
    "vault_rewards_contract_balance = reward_badger_aura.balanceOf(\"0xD0A7A8B98957b9CD3cFB9c0425AbE44551158e9e\", block_identifier=block_current_proposal)/1e18\n",
    "vault_owned_tcl = tvl_badger * (vault_rewards_contract_balance/pool_supply)\n",
    "pool_capture = vault_owned_tcl / tvl_badger\n",
    "pool_earnings = biweekly_emissions * GAUGE_CAP\n",
    "real_bribe_aura_expense = (badger_to_bribe_badger_pool - bribe_reclycing_badger_voting) * badger_price\n",
    "treasury_roi = (pool_earnings*pool_capture) / real_bribe_aura_expense\n",
    "data = [[dollar_format(pool_earnings), dollar_format(tvl_badger), pct_format(pool_capture), dollar_format(pool_earnings*pool_capture), dollar_format(real_bribe_aura_expense), pct_format(treasury_roi)]]\n",
    "headers = [\"Pool yield (USD) - biweekly\", \"BADGER Pool TVL\", \"BADGER Pool Capture\", \"Treasury yield earned (USD) - biweekly\", \"Bribe Aura Real Cost\", \"Treasury ROI - biweekly\"]\n",
    "df_earnings_badger_pool = pd.DataFrame(data, columns=headers)\n",
    "df_earnings_badger_pool"
   ]
  },
  {
   "cell_type": "code",
   "execution_count": 196,
   "metadata": {},
   "outputs": [
    {
     "data": {
      "text/html": "<div>\n<style scoped>\n    .dataframe tbody tr th:only-of-type {\n        vertical-align: middle;\n    }\n\n    .dataframe tbody tr th {\n        vertical-align: top;\n    }\n\n    .dataframe thead th {\n        text-align: right;\n    }\n</style>\n<table border=\"1\" class=\"dataframe\">\n  <thead>\n    <tr style=\"text-align: right;\">\n      <th></th>\n      <th>Pool yield (USD) - biweekly</th>\n      <th>DIGG Pool TVL</th>\n      <th>DIGG Pool Capture</th>\n      <th>Treasury yield earned (USD) - biweekly</th>\n      <th>Bribe Aura Real Cost</th>\n      <th>Treasury ROI - biweekly</th>\n    </tr>\n  </thead>\n  <tbody>\n    <tr>\n      <th>0</th>\n      <td>$50437.2757</td>\n      <td>$2353800.8806</td>\n      <td>35.832%</td>\n      <td>$18072.6727</td>\n      <td>$4779.5661</td>\n      <td>378.124%</td>\n    </tr>\n  </tbody>\n</table>\n</div>",
      "text/plain": "  Pool yield (USD) - biweekly  DIGG Pool TVL DIGG Pool Capture  \\\n0                 $50437.2757  $2353800.8806           35.832%   \n\n  Treasury yield earned (USD) - biweekly Bribe Aura Real Cost  \\\n0                            $18072.6727           $4779.5661   \n\n  Treasury ROI - biweekly  \n0                378.124%  "
     },
     "execution_count": 196,
     "metadata": {},
     "output_type": "execute_result"
    }
   ],
   "source": [
    "# treasury expected earnings bi-weekly expectation post-bribe into DIGG pool\n",
    "tvl_digg = get_tvl_balancer_digg_pool()\n",
    "digg_pool = Contract(\"0x8eB6c82C3081bBBd45DcAC5afA631aaC53478b7C\")\n",
    "pool_supply = digg_pool.totalSupply() / 1e18\n",
    "reward_badger_aura = Contract(\"0xe86f0312b06126855810b4a13a43c3e2b1b8dd90\")\n",
    "vault_rewards_contract_balance = reward_badger_aura.balanceOf(\"0xD0A7A8B98957b9CD3cFB9c0425AbE44551158e9e\", block_identifier=block_current_proposal)/1e18\n",
    "vault_owned_tcl = tvl_digg * (vault_rewards_contract_balance/pool_supply)\n",
    "pool_capture = vault_owned_tcl / tvl_digg\n",
    "pool_earnings = biweekly_emissions * GAUGE_CAP\n",
    "real_bribe_aura_expense = (badger_to_bribe_digg_pool - bribe_reclycing_digg_voting) * badger_price\n",
    "# NOTE: remind that in the strategy `bribesRedirectionPath[badger]=trops` all badger claimed goes back to treasury\n",
    "treasury_roi = (pool_earnings*pool_capture) / real_bribe_aura_expense\n",
    "data = [[dollar_format(pool_earnings), dollar_format(tvl_digg), pct_format(pool_capture), dollar_format(pool_earnings*pool_capture), dollar_format(real_bribe_aura_expense), pct_format(treasury_roi)]]\n",
    "headers = [\"Pool yield (USD) - biweekly\", \"DIGG Pool TVL\", \"DIGG Pool Capture\", \"Treasury yield earned (USD) - biweekly\", \"Bribe Aura Real Cost\", \"Treasury ROI - biweekly\"]\n",
    "df_earnings_badger_pool = pd.DataFrame(data, columns=headers)\n",
    "df_earnings_badger_pool"
   ]
  }
 ],
 "metadata": {
  "kernelspec": {
   "display_name": "Python 3.8.0 64-bit ('notebook')",
   "name": "python380jvsc74a57bd09253f604c87be4a7cf47dd897c36333e99f441f8153bec10e14bef349a9214eb"
  },
  "language_info": {
   "codemirror_mode": {
    "name": "ipython",
    "version": 3
   },
   "file_extension": ".py",
   "mimetype": "text/x-python",
   "name": "python",
   "nbconvert_exporter": "python",
   "pygments_lexer": "ipython3",
   "version": "3.8.0"
  },
  "metadata": {
   "interpreter": {
    "hash": "9253f604c87be4a7cf47dd897c36333e99f441f8153bec10e14bef349a9214eb"
   }
  }
 },
 "nbformat": 4,
 "nbformat_minor": 0
}