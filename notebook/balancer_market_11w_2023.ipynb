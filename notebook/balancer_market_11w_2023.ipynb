{
 "cells": [
  {
   "cell_type": "code",
   "execution_count": null,
   "metadata": {},
   "outputs": [],
   "source": [
    "import warnings\n",
    "warnings.simplefilter(action='ignore', category=FutureWarning)\n",
    "\n",
    "from ape import networks, Contract\n",
    "import pandas as pd\n",
    "\n",
    "from helpers.coingecko import get_prices\n",
    "from helpers.subgraph_endpoints import *\n",
    "from helpers.aura import get_gravi_in_balancer_pool, weekly_emissions_after_fee, aura_mint_ratio, BALANCER_EMISSIONS\n",
    "from helpers.vp_info import get_council_vp_fee, get_voter_vp\n",
    "from helpers.bribe_info import MAX_BRIBE, GAUGE_CAP\n",
    "from helpers.formatter import pct_format, dollar_format\n",
    "from helpers.visuals import incentive_visuals, pool_capture_visuals, pnl_visuals, VISUAL_LABELS"
   ]
  },
  {
   "cell_type": "code",
   "execution_count": null,
   "metadata": {},
   "outputs": [],
   "source": [
    "networks.parse_network_choice(\"ethereum:mainnet\").__enter__()"
   ]
  },
  {
   "cell_type": "code",
   "execution_count": 3,
   "metadata": {},
   "outputs": [
    {
     "data": {
      "text/html": [
       "<div>\n",
       "<style scoped>\n",
       "    .dataframe tbody tr th:only-of-type {\n",
       "        vertical-align: middle;\n",
       "    }\n",
       "\n",
       "    .dataframe tbody tr th {\n",
       "        vertical-align: top;\n",
       "    }\n",
       "\n",
       "    .dataframe thead th {\n",
       "        text-align: right;\n",
       "    }\n",
       "</style>\n",
       "<table border=\"1\" class=\"dataframe\">\n",
       "  <thead>\n",
       "    <tr style=\"text-align: right;\">\n",
       "      <th></th>\n",
       "      <th>Badger price</th>\n",
       "      <th>Balancer price</th>\n",
       "      <th>Aura price</th>\n",
       "    </tr>\n",
       "  </thead>\n",
       "  <tbody>\n",
       "    <tr>\n",
       "      <th>0</th>\n",
       "      <td>$2.99</td>\n",
       "      <td>$6.33</td>\n",
       "      <td>$3.33</td>\n",
       "    </tr>\n",
       "  </tbody>\n",
       "</table>\n",
       "</div>"
      ],
      "text/plain": [
       "  Badger price Balancer price Aura price\n",
       "0        $2.99          $6.33      $3.33"
      ]
     },
     "execution_count": 3,
     "metadata": {},
     "output_type": "execute_result"
    }
   ],
   "source": [
    "bal_price, aura_price,  badger_price, _ = get_prices()\n",
    "data = [[\"${:.2f}\".format(badger_price),  \"${:.2f}\".format(bal_price), \"${:.2f}\".format(aura_price)]]\n",
    "headers = [\"Badger price\", \"Balancer price\", \"Aura price\"]\n",
    "df_prices = pd.DataFrame(data, columns=headers)\n",
    "df_prices"
   ]
  },
  {
   "cell_type": "code",
   "execution_count": 4,
   "metadata": {},
   "outputs": [
    {
     "data": {
      "text/html": [
       "<div>\n",
       "<style scoped>\n",
       "    .dataframe tbody tr th:only-of-type {\n",
       "        vertical-align: middle;\n",
       "    }\n",
       "\n",
       "    .dataframe tbody tr th {\n",
       "        vertical-align: top;\n",
       "    }\n",
       "\n",
       "    .dataframe thead th {\n",
       "        text-align: right;\n",
       "    }\n",
       "</style>\n",
       "<table border=\"1\" class=\"dataframe\">\n",
       "  <thead>\n",
       "    <tr style=\"text-align: right;\">\n",
       "      <th></th>\n",
       "      <th>Proposal block height</th>\n",
       "      <th>Past Round Active vlAURA votes</th>\n",
       "      <th>Past Round Active veBAL votes</th>\n",
       "      <th>Cost per Vote Last Round</th>\n",
       "    </tr>\n",
       "  </thead>\n",
       "  <tbody>\n",
       "    <tr>\n",
       "      <th>0</th>\n",
       "      <td>16841221</td>\n",
       "      <td>12065601</td>\n",
       "      <td>9429222</td>\n",
       "      <td>$0.0973</td>\n",
       "    </tr>\n",
       "  </tbody>\n",
       "</table>\n",
       "</div>"
      ],
      "text/plain": [
       "   Proposal block height Past Round Active vlAURA votes  \\\n",
       "0               16841221                       12065601   \n",
       "\n",
       "  Past Round Active veBAL votes Cost per Vote Last Round  \n",
       "0                       9429222                  $0.0973  "
      ]
     },
     "execution_count": 4,
     "metadata": {},
     "output_type": "execute_result"
    }
   ],
   "source": [
    "# ping a current block, choose latest block at running time\n",
    "block_current_proposal = networks.active_provider.get_block(\"latest\").number\n",
    "last_proposal_id = \"0xcd6d5563958694cef110212fc9d3e270cbffeeae62ed44483e496ac543c6de2e\"\n",
    "\n",
    "# check active voter in past proposal as ref\n",
    "response_last_proposal = get_proposal_info(last_proposal_id)\n",
    "\n",
    "aura_voting_actively_last_round = response_last_proposal[\"scores_total\"]\n",
    "\n",
    "# TODO: pendant of finding out precisely active voters via onchain, fallback api?\n",
    "proactive_vebal_voters = 9429222.35\n",
    "cost_per_vote_vebal = (BALANCER_EMISSIONS * bal_price) / proactive_vebal_voters\n",
    "\n",
    "data = [[block_current_proposal,  f'{aura_voting_actively_last_round:.0f}', f'{proactive_vebal_voters:.0f}', dollar_format(cost_per_vote_vebal)]]\n",
    "headers = [\"Proposal block height\", \"Past Round Active vlAURA votes\", \"Past Round Active veBAL votes\", \"Cost per Vote Last Round\"]\n",
    "df_llama = pd.DataFrame(data, columns=headers)\n",
    "df_llama\n"
   ]
  },
  {
   "cell_type": "code",
   "execution_count": 5,
   "metadata": {},
   "outputs": [
    {
     "data": {
      "text/html": [
       "<div>\n",
       "<style scoped>\n",
       "    .dataframe tbody tr th:only-of-type {\n",
       "        vertical-align: middle;\n",
       "    }\n",
       "\n",
       "    .dataframe tbody tr th {\n",
       "        vertical-align: top;\n",
       "    }\n",
       "\n",
       "    .dataframe thead th {\n",
       "        text-align: right;\n",
       "    }\n",
       "</style>\n",
       "<table border=\"1\" class=\"dataframe\">\n",
       "  <thead>\n",
       "    <tr style=\"text-align: right;\">\n",
       "      <th></th>\n",
       "      <th>Aura Mint Balancer Ratio</th>\n",
       "      <th>Bi-weekly Emissions</th>\n",
       "    </tr>\n",
       "  </thead>\n",
       "  <tbody>\n",
       "    <tr>\n",
       "      <th>0</th>\n",
       "      <td>3.472884</td>\n",
       "      <td>$3892097.8659</td>\n",
       "    </tr>\n",
       "  </tbody>\n",
       "</table>\n",
       "</div>"
      ],
      "text/plain": [
       "   Aura Mint Balancer Ratio Bi-weekly Emissions\n",
       "0                  3.472884       $3892097.8659"
      ]
     },
     "execution_count": 5,
     "metadata": {},
     "output_type": "execute_result"
    }
   ],
   "source": [
    "# emissions ecosystem\n",
    "aura = Contract('0xC0c293ce456fF0ED870ADd98a0828Dd4d2903DBF')\n",
    "aura_mint_ratio = aura_mint_ratio(aura, block_current_proposal)\n",
    "weekly_emissions_after_fee = weekly_emissions_after_fee(aura_mint_ratio, bal_price, aura_price)\n",
    "biweekly_emissions = weekly_emissions_after_fee * 2\n",
    "data = [[aura_mint_ratio, dollar_format(biweekly_emissions)]]\n",
    "headers = [\"Aura Mint Balancer Ratio\", \"Bi-weekly Emissions\"]\n",
    "df_emissions = pd.DataFrame(data, columns=headers)\n",
    "df_emissions"
   ]
  },
  {
   "cell_type": "code",
   "execution_count": 6,
   "metadata": {},
   "outputs": [
    {
     "data": {
      "text/html": [
       "<div>\n",
       "<style scoped>\n",
       "    .dataframe tbody tr th:only-of-type {\n",
       "        vertical-align: middle;\n",
       "    }\n",
       "\n",
       "    .dataframe tbody tr th {\n",
       "        vertical-align: top;\n",
       "    }\n",
       "\n",
       "    .dataframe thead th {\n",
       "        text-align: right;\n",
       "    }\n",
       "</style>\n",
       "<table border=\"1\" class=\"dataframe\">\n",
       "  <thead>\n",
       "    <tr style=\"text-align: right;\">\n",
       "      <th></th>\n",
       "      <th>Treasury VP</th>\n",
       "      <th>Council Fee</th>\n",
       "      <th>Total Badger VP</th>\n",
       "      <th>Gravi in Digg pool</th>\n",
       "      <th>Badger Aura Controlled - everyone Votes</th>\n",
       "      <th>Badger Aura Controlled - proactive voters</th>\n",
       "    </tr>\n",
       "  </thead>\n",
       "  <tbody>\n",
       "    <tr>\n",
       "      <th>0</th>\n",
       "      <td>348688.958034</td>\n",
       "      <td>52449.465144</td>\n",
       "      <td>401138.423177</td>\n",
       "      <td>206783.852373</td>\n",
       "      <td>3.011%</td>\n",
       "      <td>3.325%</td>\n",
       "    </tr>\n",
       "  </tbody>\n",
       "</table>\n",
       "</div>"
      ],
      "text/plain": [
       "     Treasury VP   Council Fee  Total Badger VP  Gravi in Digg pool  \\\n",
       "0  348688.958034  52449.465144    401138.423177       206783.852373   \n",
       "\n",
       "  Badger Aura Controlled - everyone Votes  \\\n",
       "0                                  3.011%   \n",
       "\n",
       "  Badger Aura Controlled - proactive voters  \n",
       "0                                    3.325%  "
      ]
     },
     "execution_count": 6,
     "metadata": {},
     "output_type": "execute_result"
    }
   ],
   "source": [
    "vlAURA = Contract(\"0x3Fa73f1E5d8A792C80F426fc8F84FBF7Ce9bBCAC\")\n",
    "vlAURA_ts = vlAURA.totalSupply(block_identifier=block_current_proposal)/1e18\n",
    "council_fee = get_council_vp_fee(vlAURA, block_current_proposal)\n",
    "\n",
    "# digg pool\n",
    "balancer_vault = Contract(\"0xBA12222222228d8Ba445958a75a0704d566BF2C8\")\n",
    "gravi_in_digg_pool = get_gravi_in_balancer_pool(balancer_vault, block_current_proposal)\n",
    "total_gravi_vp_for_digg = gravi_in_digg_pool\n",
    "\n",
    "treasury_votes = get_voter_vp(vlAURA, block_current_proposal)\n",
    "total_vp_badgerdao = treasury_votes + council_fee\n",
    "\n",
    "pct_controlled_aura_by_badger_treasury = treasury_votes / vlAURA_ts\n",
    "pct_controlled_aura_by_badger_treasury_active = treasury_votes / aura_voting_actively_last_round\n",
    "pct_controlled_aura_by_badger = total_vp_badgerdao/ vlAURA_ts\n",
    "pct_controlled_aura_by_badger_active = total_vp_badgerdao/ aura_voting_actively_last_round\n",
    "pct_controlled_aura_by_council_active = total_gravi_vp_for_digg / aura_voting_actively_last_round\n",
    "data = [[treasury_votes, council_fee, total_vp_badgerdao, gravi_in_digg_pool, pct_format(pct_controlled_aura_by_badger), pct_format(pct_controlled_aura_by_badger_active)]]\n",
    "headers = [\"Treasury VP\", \"Council Fee\", \"Total Badger VP\", \"Gravi in Digg pool\", \"Badger Aura Controlled - everyone Votes\", \"Badger Aura Controlled - proactive voters\"]\n",
    "df_vp = pd.DataFrame(data, columns=headers)\n",
    "df_vp"
   ]
  },
  {
   "cell_type": "code",
   "execution_count": 7,
   "metadata": {},
   "outputs": [
    {
     "data": {
      "text/html": [
       "<div>\n",
       "<style scoped>\n",
       "    .dataframe tbody tr th:only-of-type {\n",
       "        vertical-align: middle;\n",
       "    }\n",
       "\n",
       "    .dataframe tbody tr th {\n",
       "        vertical-align: top;\n",
       "    }\n",
       "\n",
       "    .dataframe thead th {\n",
       "        text-align: right;\n",
       "    }\n",
       "</style>\n",
       "<table border=\"1\" class=\"dataframe\">\n",
       "  <thead>\n",
       "    <tr style=\"text-align: right;\">\n",
       "      <th></th>\n",
       "      <th>Aura veBAL controlled</th>\n",
       "      <th>Badger veBAL controlled - everyone votes</th>\n",
       "      <th>Badger veBAL controlled - proactive voters</th>\n",
       "    </tr>\n",
       "  </thead>\n",
       "  <tbody>\n",
       "    <tr>\n",
       "      <th>0</th>\n",
       "      <td>27.259%</td>\n",
       "      <td>0.821%</td>\n",
       "      <td>0.906%</td>\n",
       "    </tr>\n",
       "  </tbody>\n",
       "</table>\n",
       "</div>"
      ],
      "text/plain": [
       "  Aura veBAL controlled Badger veBAL controlled - everyone votes  \\\n",
       "0               27.259%                                   0.821%   \n",
       "\n",
       "  Badger veBAL controlled - proactive voters  \n",
       "0                                     0.906%  "
      ]
     },
     "execution_count": 7,
     "metadata": {},
     "output_type": "execute_result"
    }
   ],
   "source": [
    "vebal = Contract(\"0xC128a9954e6c874eA3d62ce62B468bA073093F25\")\n",
    "vebal_ts = vebal.totalSupplyAt(block_current_proposal) / 1e18\n",
    "vebal_aura_controlled = vebal.balanceOfAt(\"0xaF52695E1bB01A16D33D7194C28C42b10e0Dbec2\", block_current_proposal)/1e18\n",
    "pct_aura_vebal_controlled = vebal_aura_controlled/vebal_ts\n",
    "pct_badger_vebal_controlled = pct_controlled_aura_by_badger*pct_aura_vebal_controlled\n",
    "pct_badger_vebal_controlled_active = pct_controlled_aura_by_badger_active*pct_aura_vebal_controlled\n",
    "pct_council_vebal_controlled_active = pct_controlled_aura_by_council_active * pct_aura_vebal_controlled\n",
    "data = [[pct_format(pct_aura_vebal_controlled), pct_format(pct_badger_vebal_controlled), pct_format(pct_badger_vebal_controlled_active)]]\n",
    "headers = [\"Aura veBAL controlled\", \"Badger veBAL controlled - everyone votes\", \"Badger veBAL controlled - proactive voters\"]\n",
    "df_vebal = pd.DataFrame(data, columns=headers)\n",
    "df_vebal"
   ]
  },
  {
   "cell_type": "code",
   "execution_count": 8,
   "metadata": {},
   "outputs": [
    {
     "data": {
      "text/html": [
       "<div>\n",
       "<style scoped>\n",
       "    .dataframe tbody tr th:only-of-type {\n",
       "        vertical-align: middle;\n",
       "    }\n",
       "\n",
       "    .dataframe tbody tr th {\n",
       "        vertical-align: top;\n",
       "    }\n",
       "\n",
       "    .dataframe thead th {\n",
       "        text-align: right;\n",
       "    }\n",
       "</style>\n",
       "<table border=\"1\" class=\"dataframe\">\n",
       "  <thead>\n",
       "    <tr style=\"text-align: right;\">\n",
       "      <th></th>\n",
       "      <th>veBAL badger/wbtc pool Max Cap</th>\n",
       "      <th>veBAL BADGER controlled</th>\n",
       "      <th>$ Cost of bribe</th>\n",
       "      <th>Badger Bribe Max Cap</th>\n",
       "    </tr>\n",
       "  </thead>\n",
       "  <tbody>\n",
       "    <tr>\n",
       "      <th>0</th>\n",
       "      <td>203657.921622</td>\n",
       "      <td>92283.817731</td>\n",
       "      <td>$10841.2674</td>\n",
       "      <td>3625.841954</td>\n",
       "    </tr>\n",
       "  </tbody>\n",
       "</table>\n",
       "</div>"
      ],
      "text/plain": [
       "   veBAL badger/wbtc pool Max Cap  veBAL BADGER controlled $ Cost of bribe  \\\n",
       "0                   203657.921622             92283.817731     $10841.2674   \n",
       "\n",
       "   Badger Bribe Max Cap  \n",
       "0           3625.841954  "
      ]
     },
     "execution_count": 8,
     "metadata": {},
     "output_type": "execute_result"
    }
   ],
   "source": [
    "# NOTE: block breakdown for badger/wbtc max cap\n",
    "vebal_controlled = vebal_ts * pct_badger_vebal_controlled_active\n",
    "vebal_max_cap = vebal_ts * (GAUGE_CAP)\n",
    "vebal_required = vebal_max_cap - vebal_controlled\n",
    "cost_max_cap = vebal_required * cost_per_vote_vebal\n",
    "badger_to_bribe = cost_max_cap / badger_price\n",
    "remaining_bribe = MAX_BRIBE - badger_to_bribe\n",
    "data = [[vebal_max_cap, vebal_controlled, dollar_format(cost_max_cap), badger_to_bribe]]\n",
    "headers = [\"veBAL badger/wbtc pool Max Cap\", \"veBAL BADGER controlled\", \"$ Cost of bribe\", \"Badger Bribe Max Cap\"]\n",
    "df_bribes_badger_pool = pd.DataFrame(data, columns=headers)\n",
    "df_bribes_badger_pool"
   ]
  },
  {
   "cell_type": "code",
   "execution_count": 9,
   "metadata": {},
   "outputs": [],
   "source": [
    "# treasury expected earnings bi-weekly expectation in BADGER/RETH pool\n",
    "tvl_rethbadger = get_tvl_balancer_badgerreth_pool()\n",
    "badgereth_pool = Contract(\"0x1ee442b5326009Bb18F2F472d3e0061513d1A0fF\")\n",
    "pool_badgereth_supply = badgereth_pool.totalSupply() / 1e18\n",
    "reward_badger_aura = Contract(\"0xaad4ee162dbc9c25cca26ba4340b36e3ef7c1a80\")\n",
    "vault_rewards_contract_balance = reward_badger_aura.balanceOf(\"0xD0A7A8B98957b9CD3cFB9c0425AbE44551158e9e\", block_identifier=block_current_proposal)/1e18\n",
    "vault_owned_tcl = tvl_rethbadger * (vault_rewards_contract_balance/pool_badgereth_supply)\n",
    "pool_capture_badger_reth = vault_owned_tcl / tvl_rethbadger\n",
    "# NOTE: since self-incentive parties are voting also for this guage its reaching its nearly its max cap\n",
    "vebal_pct_weight_bought = .1\n",
    "pool_earnings_badger_reth = biweekly_emissions * vebal_pct_weight_bought"
   ]
  },
  {
   "cell_type": "code",
   "execution_count": 10,
   "metadata": {},
   "outputs": [],
   "source": [
    "# treasury expected earnings bi-weekly expectation in BADGER/WBTC pool\n",
    "tvl_badger = get_tvl_balancer_badger_pool()\n",
    "badger_pool = Contract(\"0xb460DAa847c45f1C4a41cb05BFB3b51c92e41B36\")\n",
    "pool_supply = badger_pool.totalSupply() / 1e18\n",
    "reward_badger_aura = Contract(\"0x4efc8ded860bc472fa8d938dc3fd4946bc1a0a18\")\n",
    "vault_rewards_contract_balance = reward_badger_aura.balanceOf(\"0xD0A7A8B98957b9CD3cFB9c0425AbE44551158e9e\", block_identifier=block_current_proposal)/1e18\n",
    "vault_owned_tcl = tvl_badger * (vault_rewards_contract_balance/pool_supply)\n",
    "pool_capture_badger_wbtc = vault_owned_tcl / tvl_badger\n",
    "pool_earnings_badger_wbtc = biweekly_emissions * GAUGE_CAP"
   ]
  },
  {
   "cell_type": "code",
   "execution_count": 11,
   "metadata": {},
   "outputs": [
    {
     "data": {
      "text/html": [
       "\n",
       "<div id=\"altair-viz-809ae0ff62a74a5dbdd44c14c247164a\"></div>\n",
       "<script type=\"text/javascript\">\n",
       "  var VEGA_DEBUG = (typeof VEGA_DEBUG == \"undefined\") ? {} : VEGA_DEBUG;\n",
       "  (function(spec, embedOpt){\n",
       "    let outputDiv = document.currentScript.previousElementSibling;\n",
       "    if (outputDiv.id !== \"altair-viz-809ae0ff62a74a5dbdd44c14c247164a\") {\n",
       "      outputDiv = document.getElementById(\"altair-viz-809ae0ff62a74a5dbdd44c14c247164a\");\n",
       "    }\n",
       "    const paths = {\n",
       "      \"vega\": \"https://cdn.jsdelivr.net/npm//vega@5?noext\",\n",
       "      \"vega-lib\": \"https://cdn.jsdelivr.net/npm//vega-lib?noext\",\n",
       "      \"vega-lite\": \"https://cdn.jsdelivr.net/npm//vega-lite@4.17.0?noext\",\n",
       "      \"vega-embed\": \"https://cdn.jsdelivr.net/npm//vega-embed@6?noext\",\n",
       "    };\n",
       "\n",
       "    function maybeLoadScript(lib, version) {\n",
       "      var key = `${lib.replace(\"-\", \"\")}_version`;\n",
       "      return (VEGA_DEBUG[key] == version) ?\n",
       "        Promise.resolve(paths[lib]) :\n",
       "        new Promise(function(resolve, reject) {\n",
       "          var s = document.createElement('script');\n",
       "          document.getElementsByTagName(\"head\")[0].appendChild(s);\n",
       "          s.async = true;\n",
       "          s.onload = () => {\n",
       "            VEGA_DEBUG[key] = version;\n",
       "            return resolve(paths[lib]);\n",
       "          };\n",
       "          s.onerror = () => reject(`Error loading script: ${paths[lib]}`);\n",
       "          s.src = paths[lib];\n",
       "        });\n",
       "    }\n",
       "\n",
       "    function showError(err) {\n",
       "      outputDiv.innerHTML = `<div class=\"error\" style=\"color:red;\">${err}</div>`;\n",
       "      throw err;\n",
       "    }\n",
       "\n",
       "    function displayChart(vegaEmbed) {\n",
       "      vegaEmbed(outputDiv, spec, embedOpt)\n",
       "        .catch(err => showError(`Javascript Error: ${err.message}<br>This usually means there's a typo in your chart specification. See the javascript console for the full traceback.`));\n",
       "    }\n",
       "\n",
       "    if(typeof define === \"function\" && define.amd) {\n",
       "      requirejs.config({paths});\n",
       "      require([\"vega-embed\"], displayChart, err => showError(`Error loading script: ${err.message}`));\n",
       "    } else {\n",
       "      maybeLoadScript(\"vega\", \"5\")\n",
       "        .then(() => maybeLoadScript(\"vega-lite\", \"4.17.0\"))\n",
       "        .then(() => maybeLoadScript(\"vega-embed\", \"6\"))\n",
       "        .catch(showError)\n",
       "        .then(() => displayChart(vegaEmbed));\n",
       "    }\n",
       "  })({\"config\": {\"view\": {\"continuousWidth\": 400, \"continuousHeight\": 300}}, \"layer\": [{\"mark\": \"bar\", \"encoding\": {\"x\": {\"field\": \"Badger Incentive Amount\", \"type\": \"quantitative\"}, \"y\": {\"field\": \"Gauges\", \"type\": \"ordinal\"}}}, {\"mark\": {\"type\": \"text\", \"align\": \"left\", \"baseline\": \"middle\", \"dx\": 3}, \"encoding\": {\"text\": {\"field\": \"Badger Incentive Amount\", \"type\": \"quantitative\"}, \"x\": {\"field\": \"Badger Incentive Amount\", \"type\": \"quantitative\"}, \"y\": {\"field\": \"Gauges\", \"type\": \"ordinal\"}}}], \"data\": {\"name\": \"data-1fcc87db379c1a8252c2c46479e3ae58\"}, \"height\": 95, \"$schema\": \"https://vega.github.io/schema/vega-lite/v4.17.0.json\", \"datasets\": {\"data-1fcc87db379c1a8252c2c46479e3ae58\": [{\"Gauges\": \"80badger/20wbtc\", \"Badger Incentive Amount\": 3625.8419535066214}, {\"Gauges\": \"50badger/50reth\", \"Badger Incentive Amount\": 12374.15804649338}]}}, {\"mode\": \"vega-lite\"});\n",
       "</script>"
      ],
      "text/plain": [
       "alt.LayerChart(...)"
      ]
     },
     "execution_count": 11,
     "metadata": {},
     "output_type": "execute_result"
    }
   ],
   "source": [
    "# Incentive split visual\n",
    "chart = incentive_visuals(VISUAL_LABELS, [badger_to_bribe, remaining_bribe])\n",
    "chart.properties(height=95)"
   ]
  },
  {
   "cell_type": "code",
   "execution_count": 12,
   "metadata": {},
   "outputs": [
    {
     "data": {
      "text/html": [
       "\n",
       "<div id=\"altair-viz-99d5aede5f3a4264832fa913de9fa654\"></div>\n",
       "<script type=\"text/javascript\">\n",
       "  var VEGA_DEBUG = (typeof VEGA_DEBUG == \"undefined\") ? {} : VEGA_DEBUG;\n",
       "  (function(spec, embedOpt){\n",
       "    let outputDiv = document.currentScript.previousElementSibling;\n",
       "    if (outputDiv.id !== \"altair-viz-99d5aede5f3a4264832fa913de9fa654\") {\n",
       "      outputDiv = document.getElementById(\"altair-viz-99d5aede5f3a4264832fa913de9fa654\");\n",
       "    }\n",
       "    const paths = {\n",
       "      \"vega\": \"https://cdn.jsdelivr.net/npm//vega@5?noext\",\n",
       "      \"vega-lib\": \"https://cdn.jsdelivr.net/npm//vega-lib?noext\",\n",
       "      \"vega-lite\": \"https://cdn.jsdelivr.net/npm//vega-lite@4.17.0?noext\",\n",
       "      \"vega-embed\": \"https://cdn.jsdelivr.net/npm//vega-embed@6?noext\",\n",
       "    };\n",
       "\n",
       "    function maybeLoadScript(lib, version) {\n",
       "      var key = `${lib.replace(\"-\", \"\")}_version`;\n",
       "      return (VEGA_DEBUG[key] == version) ?\n",
       "        Promise.resolve(paths[lib]) :\n",
       "        new Promise(function(resolve, reject) {\n",
       "          var s = document.createElement('script');\n",
       "          document.getElementsByTagName(\"head\")[0].appendChild(s);\n",
       "          s.async = true;\n",
       "          s.onload = () => {\n",
       "            VEGA_DEBUG[key] = version;\n",
       "            return resolve(paths[lib]);\n",
       "          };\n",
       "          s.onerror = () => reject(`Error loading script: ${paths[lib]}`);\n",
       "          s.src = paths[lib];\n",
       "        });\n",
       "    }\n",
       "\n",
       "    function showError(err) {\n",
       "      outputDiv.innerHTML = `<div class=\"error\" style=\"color:red;\">${err}</div>`;\n",
       "      throw err;\n",
       "    }\n",
       "\n",
       "    function displayChart(vegaEmbed) {\n",
       "      vegaEmbed(outputDiv, spec, embedOpt)\n",
       "        .catch(err => showError(`Javascript Error: ${err.message}<br>This usually means there's a typo in your chart specification. See the javascript console for the full traceback.`));\n",
       "    }\n",
       "\n",
       "    if(typeof define === \"function\" && define.amd) {\n",
       "      requirejs.config({paths});\n",
       "      require([\"vega-embed\"], displayChart, err => showError(`Error loading script: ${err.message}`));\n",
       "    } else {\n",
       "      maybeLoadScript(\"vega\", \"5\")\n",
       "        .then(() => maybeLoadScript(\"vega-lite\", \"4.17.0\"))\n",
       "        .then(() => maybeLoadScript(\"vega-embed\", \"6\"))\n",
       "        .catch(showError)\n",
       "        .then(() => displayChart(vegaEmbed));\n",
       "    }\n",
       "  })({\"config\": {\"view\": {\"continuousWidth\": 400, \"continuousHeight\": 300}}, \"layer\": [{\"mark\": \"bar\", \"encoding\": {\"x\": {\"axis\": {\"format\": \".0%\"}, \"field\": \"Capture\", \"type\": \"quantitative\"}, \"y\": {\"field\": \"Pool\", \"type\": \"ordinal\"}}}, {\"mark\": {\"type\": \"text\", \"align\": \"left\", \"baseline\": \"middle\", \"dx\": 3}, \"encoding\": {\"text\": {\"field\": \"Capture\", \"format\": \".0%\", \"type\": \"quantitative\"}, \"x\": {\"axis\": {\"format\": \".0%\"}, \"field\": \"Capture\", \"type\": \"quantitative\"}, \"y\": {\"field\": \"Pool\", \"type\": \"ordinal\"}}}], \"data\": {\"name\": \"data-464b5ea0860cdbe3bde1cb512b59ba12\"}, \"height\": 95, \"$schema\": \"https://vega.github.io/schema/vega-lite/v4.17.0.json\", \"datasets\": {\"data-464b5ea0860cdbe3bde1cb512b59ba12\": [{\"Pool\": \"80badger/20wbtc\", \"Capture\": 0.3995605954809492}, {\"Pool\": \"50badger/50reth\", \"Capture\": 0.22790983453128086}]}}, {\"mode\": \"vega-lite\"});\n",
       "</script>"
      ],
      "text/plain": [
       "alt.LayerChart(...)"
      ]
     },
     "execution_count": 12,
     "metadata": {},
     "output_type": "execute_result"
    }
   ],
   "source": [
    "# Pool capture visual\n",
    "chart = pool_capture_visuals(VISUAL_LABELS, [pool_capture_badger_wbtc, pool_capture_badger_reth])\n",
    "chart.properties(height=95)"
   ]
  },
  {
   "cell_type": "code",
   "execution_count": 13,
   "metadata": {},
   "outputs": [
    {
     "data": {
      "text/html": [
       "\n",
       "<div id=\"altair-viz-1856aa2f54924fa483ec9b0adde8cb38\"></div>\n",
       "<script type=\"text/javascript\">\n",
       "  var VEGA_DEBUG = (typeof VEGA_DEBUG == \"undefined\") ? {} : VEGA_DEBUG;\n",
       "  (function(spec, embedOpt){\n",
       "    let outputDiv = document.currentScript.previousElementSibling;\n",
       "    if (outputDiv.id !== \"altair-viz-1856aa2f54924fa483ec9b0adde8cb38\") {\n",
       "      outputDiv = document.getElementById(\"altair-viz-1856aa2f54924fa483ec9b0adde8cb38\");\n",
       "    }\n",
       "    const paths = {\n",
       "      \"vega\": \"https://cdn.jsdelivr.net/npm//vega@5?noext\",\n",
       "      \"vega-lib\": \"https://cdn.jsdelivr.net/npm//vega-lib?noext\",\n",
       "      \"vega-lite\": \"https://cdn.jsdelivr.net/npm//vega-lite@4.17.0?noext\",\n",
       "      \"vega-embed\": \"https://cdn.jsdelivr.net/npm//vega-embed@6?noext\",\n",
       "    };\n",
       "\n",
       "    function maybeLoadScript(lib, version) {\n",
       "      var key = `${lib.replace(\"-\", \"\")}_version`;\n",
       "      return (VEGA_DEBUG[key] == version) ?\n",
       "        Promise.resolve(paths[lib]) :\n",
       "        new Promise(function(resolve, reject) {\n",
       "          var s = document.createElement('script');\n",
       "          document.getElementsByTagName(\"head\")[0].appendChild(s);\n",
       "          s.async = true;\n",
       "          s.onload = () => {\n",
       "            VEGA_DEBUG[key] = version;\n",
       "            return resolve(paths[lib]);\n",
       "          };\n",
       "          s.onerror = () => reject(`Error loading script: ${paths[lib]}`);\n",
       "          s.src = paths[lib];\n",
       "        });\n",
       "    }\n",
       "\n",
       "    function showError(err) {\n",
       "      outputDiv.innerHTML = `<div class=\"error\" style=\"color:red;\">${err}</div>`;\n",
       "      throw err;\n",
       "    }\n",
       "\n",
       "    function displayChart(vegaEmbed) {\n",
       "      vegaEmbed(outputDiv, spec, embedOpt)\n",
       "        .catch(err => showError(`Javascript Error: ${err.message}<br>This usually means there's a typo in your chart specification. See the javascript console for the full traceback.`));\n",
       "    }\n",
       "\n",
       "    if(typeof define === \"function\" && define.amd) {\n",
       "      requirejs.config({paths});\n",
       "      require([\"vega-embed\"], displayChart, err => showError(`Error loading script: ${err.message}`));\n",
       "    } else {\n",
       "      maybeLoadScript(\"vega\", \"5\")\n",
       "        .then(() => maybeLoadScript(\"vega-lite\", \"4.17.0\"))\n",
       "        .then(() => maybeLoadScript(\"vega-embed\", \"6\"))\n",
       "        .catch(showError)\n",
       "        .then(() => displayChart(vegaEmbed));\n",
       "    }\n",
       "  })({\"config\": {\"view\": {\"continuousWidth\": 400, \"continuousHeight\": 300}}, \"data\": {\"name\": \"data-d0a97247f4dfea149ca3f6b35919a006\"}, \"mark\": \"bar\", \"encoding\": {\"color\": {\"field\": \"P&L\", \"type\": \"nominal\"}, \"row\": {\"field\": \"Gauges\", \"type\": \"nominal\"}, \"x\": {\"field\": \"$\", \"type\": \"quantitative\"}, \"y\": {\"field\": \"P&L\", \"type\": \"nominal\"}}, \"height\": 100, \"transform\": [{\"fold\": [\"Cost\", \"Revenue\"], \"as\": [\"P&L\", \"$\"]}], \"$schema\": \"https://vega.github.io/schema/vega-lite/v4.17.0.json\", \"datasets\": {\"data-d0a97247f4dfea149ca3f6b35919a006\": [{\"Gauges\": \"80badger/20wbtc\", \"Cost\": 10841.267440984799, \"Revenue\": 31102.57881977596}, {\"Gauges\": \"50badger/50reth\", \"Cost\": 36998.73255901521, \"Revenue\": 88704.73806080359}]}}, {\"mode\": \"vega-lite\"});\n",
       "</script>"
      ],
      "text/plain": [
       "alt.Chart(...)"
      ]
     },
     "execution_count": 13,
     "metadata": {},
     "output_type": "execute_result"
    }
   ],
   "source": [
    "# Incentives ROI visual\n",
    "chart = pnl_visuals(\n",
    "    VISUAL_LABELS,\n",
    "    [badger_to_bribe * badger_price, remaining_bribe * badger_price],\n",
    "    [\n",
    "        pool_earnings_badger_wbtc * pool_capture_badger_wbtc,\n",
    "        pool_earnings_badger_reth * pool_capture_badger_reth,\n",
    "    ],\n",
    ")\n",
    "chart.properties(height=100)"
   ]
  }
 ],
 "metadata": {
  "kernelspec": {
   "display_name": "INCENTIVES_RESEARCH",
   "language": "python",
   "name": "python3"
  },
  "language_info": {
   "codemirror_mode": {
    "name": "ipython",
    "version": 3
   },
   "file_extension": ".py",
   "mimetype": "text/x-python",
   "name": "python",
   "nbconvert_exporter": "python",
   "pygments_lexer": "ipython3",
   "version": "3.8.10"
  },
  "orig_nbformat": 2,
  "vscode": {
   "interpreter": {
    "hash": "04122ff8a7d488e794cce345ab8f1eb1f422779e0dcd2592cff671787266cf0a"
   }
  }
 },
 "nbformat": 4,
 "nbformat_minor": 2
}
