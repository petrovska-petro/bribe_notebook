{
 "cells": [
  {
   "cell_type": "code",
   "execution_count": null,
   "metadata": {},
   "outputs": [],
   "source": [
    "from ape import networks, Contract\n",
    "import pandas as pd\n",
    "\n",
    "from helpers.coingecko import get_prices\n",
    "from helpers.subgraph_endpoints import *\n",
    "from helpers.aura import get_gravi_in_balancer_pool, weekly_emissions_after_fee, aura_mint_ratio, BALANCER_EMISSIONS\n",
    "from helpers.vp_info import get_council_vp_fee, get_voter_vp\n",
    "from helpers.bribe_info import MAX_BRIBE, GAUGE_CAP\n",
    "from helpers.formatter import pct_format, dollar_format"
   ]
  },
  {
   "cell_type": "code",
   "execution_count": null,
   "metadata": {},
   "outputs": [],
   "source": [
    "networks.parse_network_choice(\"ethereum:mainnet\").__enter__()"
   ]
  },
  {
   "cell_type": "code",
   "execution_count": 3,
   "metadata": {},
   "outputs": [
    {
     "data": {
      "text/html": [
       "<div>\n",
       "<style scoped>\n",
       "    .dataframe tbody tr th:only-of-type {\n",
       "        vertical-align: middle;\n",
       "    }\n",
       "\n",
       "    .dataframe tbody tr th {\n",
       "        vertical-align: top;\n",
       "    }\n",
       "\n",
       "    .dataframe thead th {\n",
       "        text-align: right;\n",
       "    }\n",
       "</style>\n",
       "<table border=\"1\" class=\"dataframe\">\n",
       "  <thead>\n",
       "    <tr style=\"text-align: right;\">\n",
       "      <th></th>\n",
       "      <th>Badger price</th>\n",
       "      <th>Balancer price</th>\n",
       "      <th>Aura price</th>\n",
       "      <th>Rpl price</th>\n",
       "    </tr>\n",
       "  </thead>\n",
       "  <tbody>\n",
       "    <tr>\n",
       "      <th>0</th>\n",
       "      <td>$3.18</td>\n",
       "      <td>$7.22</td>\n",
       "      <td>$2.69</td>\n",
       "      <td>$41.50</td>\n",
       "    </tr>\n",
       "  </tbody>\n",
       "</table>\n",
       "</div>"
      ],
      "text/plain": [
       "  Badger price Balancer price Aura price Rpl price\n",
       "0        $3.18          $7.22      $2.69    $41.50"
      ]
     },
     "execution_count": 3,
     "metadata": {},
     "output_type": "execute_result"
    }
   ],
   "source": [
    "bal_price, aura_price,  badger_price, rpl_price = get_prices()\n",
    "data = [[\"${:.2f}\".format(badger_price),  \"${:.2f}\".format(bal_price), \"${:.2f}\".format(aura_price), \"${:.2f}\".format(rpl_price)]]\n",
    "headers = [\"Badger price\", \"Balancer price\", \"Aura price\", \"Rpl price\"]\n",
    "df_prices = pd.DataFrame(data, columns=headers)\n",
    "df_prices"
   ]
  },
  {
   "cell_type": "code",
   "execution_count": 5,
   "metadata": {},
   "outputs": [
    {
     "data": {
      "text/html": [
       "<div>\n",
       "<style scoped>\n",
       "    .dataframe tbody tr th:only-of-type {\n",
       "        vertical-align: middle;\n",
       "    }\n",
       "\n",
       "    .dataframe tbody tr th {\n",
       "        vertical-align: top;\n",
       "    }\n",
       "\n",
       "    .dataframe thead th {\n",
       "        text-align: right;\n",
       "    }\n",
       "</style>\n",
       "<table border=\"1\" class=\"dataframe\">\n",
       "  <thead>\n",
       "    <tr style=\"text-align: right;\">\n",
       "      <th></th>\n",
       "      <th>Proposal block height</th>\n",
       "      <th>Past Round Active vlAURA votes</th>\n",
       "      <th>Past Round Active veBAL votes</th>\n",
       "      <th>Cost per Vote Last Round</th>\n",
       "    </tr>\n",
       "  </thead>\n",
       "  <tbody>\n",
       "    <tr>\n",
       "      <th>0</th>\n",
       "      <td>16541127</td>\n",
       "      <td>11549171</td>\n",
       "      <td>10127559</td>\n",
       "      <td>$0.1034</td>\n",
       "    </tr>\n",
       "  </tbody>\n",
       "</table>\n",
       "</div>"
      ],
      "text/plain": [
       "   Proposal block height Past Round Active vlAURA votes  \\\n",
       "0               16541127                       11549171   \n",
       "\n",
       "  Past Round Active veBAL votes Cost per Vote Last Round  \n",
       "0                      10127559                  $0.1034  "
      ]
     },
     "execution_count": 5,
     "metadata": {},
     "output_type": "execute_result"
    }
   ],
   "source": [
    "# ping a current block, choose latest block at running time\n",
    "block_current_proposal = networks.active_provider.get_block(\"latest\").number\n",
    "last_proposal_id = \"0x12ceba0ede49feef56e9f3690869536944618da9a0da3a726e2db089440dacf1\"\n",
    "\n",
    "# check active voter in past proposal as ref\n",
    "response_last_proposal = get_proposal_info(last_proposal_id)\n",
    "\n",
    "aura_voting_actively_last_round = response_last_proposal[\"scores_total\"]\n",
    "\n",
    "# TODO: pendant of finding out precisely active voters via onchain, fallback api?\n",
    "proactive_vebal_voters = 10127559.45\n",
    "cost_per_vote_vebal = (BALANCER_EMISSIONS * bal_price) / proactive_vebal_voters\n",
    "\n",
    "data = [[block_current_proposal,  f'{aura_voting_actively_last_round:.0f}', f'{proactive_vebal_voters:.0f}', dollar_format(cost_per_vote_vebal)]]\n",
    "headers = [\"Proposal block height\", \"Past Round Active vlAURA votes\", \"Past Round Active veBAL votes\", \"Cost per Vote Last Round\"]\n",
    "df_llama = pd.DataFrame(data, columns=headers)\n",
    "df_llama\n"
   ]
  },
  {
   "cell_type": "code",
   "execution_count": 6,
   "metadata": {},
   "outputs": [
    {
     "data": {
      "text/html": [
       "<div>\n",
       "<style scoped>\n",
       "    .dataframe tbody tr th:only-of-type {\n",
       "        vertical-align: middle;\n",
       "    }\n",
       "\n",
       "    .dataframe tbody tr th {\n",
       "        vertical-align: top;\n",
       "    }\n",
       "\n",
       "    .dataframe thead th {\n",
       "        text-align: right;\n",
       "    }\n",
       "</style>\n",
       "<table border=\"1\" class=\"dataframe\">\n",
       "  <thead>\n",
       "    <tr style=\"text-align: right;\">\n",
       "      <th></th>\n",
       "      <th>Aura Mint Balancer Ratio</th>\n",
       "      <th>Bi-weekly Emissions</th>\n",
       "    </tr>\n",
       "  </thead>\n",
       "  <tbody>\n",
       "    <tr>\n",
       "      <th>0</th>\n",
       "      <td>3.551198</td>\n",
       "      <td>$3648067.3095</td>\n",
       "    </tr>\n",
       "  </tbody>\n",
       "</table>\n",
       "</div>"
      ],
      "text/plain": [
       "   Aura Mint Balancer Ratio Bi-weekly Emissions\n",
       "0                  3.551198       $3648067.3095"
      ]
     },
     "execution_count": 6,
     "metadata": {},
     "output_type": "execute_result"
    }
   ],
   "source": [
    "# emissions ecosystem\n",
    "aura = Contract('0xC0c293ce456fF0ED870ADd98a0828Dd4d2903DBF')\n",
    "aura_mint_ratio = aura_mint_ratio(aura, block_current_proposal)\n",
    "weekly_emissions_after_fee = weekly_emissions_after_fee(aura_mint_ratio, bal_price, aura_price)\n",
    "biweekly_emissions = weekly_emissions_after_fee * 2\n",
    "data = [[aura_mint_ratio, dollar_format(biweekly_emissions)]]\n",
    "headers = [\"Aura Mint Balancer Ratio\", \"Bi-weekly Emissions\"]\n",
    "df_emissions = pd.DataFrame(data, columns=headers)\n",
    "df_emissions"
   ]
  },
  {
   "cell_type": "code",
   "execution_count": 7,
   "metadata": {},
   "outputs": [
    {
     "data": {
      "text/html": [
       "<div>\n",
       "<style scoped>\n",
       "    .dataframe tbody tr th:only-of-type {\n",
       "        vertical-align: middle;\n",
       "    }\n",
       "\n",
       "    .dataframe tbody tr th {\n",
       "        vertical-align: top;\n",
       "    }\n",
       "\n",
       "    .dataframe thead th {\n",
       "        text-align: right;\n",
       "    }\n",
       "</style>\n",
       "<table border=\"1\" class=\"dataframe\">\n",
       "  <thead>\n",
       "    <tr style=\"text-align: right;\">\n",
       "      <th></th>\n",
       "      <th>Treasury VP</th>\n",
       "      <th>Council Fee</th>\n",
       "      <th>Total Badger VP</th>\n",
       "      <th>Gravi in Digg pool</th>\n",
       "      <th>Badger Aura Controlled - everyone Votes</th>\n",
       "      <th>Badger Aura Controlled - proactive voters</th>\n",
       "    </tr>\n",
       "  </thead>\n",
       "  <tbody>\n",
       "    <tr>\n",
       "      <th>0</th>\n",
       "      <td>357434.165972</td>\n",
       "      <td>90752.62823</td>\n",
       "      <td>448186.794202</td>\n",
       "      <td>246771.181611</td>\n",
       "      <td>3.527%</td>\n",
       "      <td>3.881%</td>\n",
       "    </tr>\n",
       "  </tbody>\n",
       "</table>\n",
       "</div>"
      ],
      "text/plain": [
       "     Treasury VP  Council Fee  Total Badger VP  Gravi in Digg pool  \\\n",
       "0  357434.165972  90752.62823    448186.794202       246771.181611   \n",
       "\n",
       "  Badger Aura Controlled - everyone Votes  \\\n",
       "0                                  3.527%   \n",
       "\n",
       "  Badger Aura Controlled - proactive voters  \n",
       "0                                    3.881%  "
      ]
     },
     "execution_count": 7,
     "metadata": {},
     "output_type": "execute_result"
    }
   ],
   "source": [
    "vlAURA = Contract(\"0x3Fa73f1E5d8A792C80F426fc8F84FBF7Ce9bBCAC\")\n",
    "vlAURA_ts = vlAURA.totalSupply(block_identifier=block_current_proposal)/1e18\n",
    "council_fee = get_council_vp_fee(vlAURA, block_current_proposal)\n",
    "\n",
    "# digg pool\n",
    "balancer_vault = Contract(\"0xBA12222222228d8Ba445958a75a0704d566BF2C8\")\n",
    "gravi_in_digg_pool = get_gravi_in_balancer_pool(balancer_vault, block_current_proposal)\n",
    "total_gravi_vp_for_digg = gravi_in_digg_pool\n",
    "\n",
    "treasury_votes = get_voter_vp(vlAURA, block_current_proposal)\n",
    "total_vp_badgerdao = treasury_votes + council_fee\n",
    "\n",
    "pct_controlled_aura_by_badger_treasury = treasury_votes / vlAURA_ts\n",
    "pct_controlled_aura_by_badger_treasury_active = treasury_votes / aura_voting_actively_last_round\n",
    "pct_controlled_aura_by_badger = total_vp_badgerdao/ vlAURA_ts\n",
    "pct_controlled_aura_by_badger_active = total_vp_badgerdao/ aura_voting_actively_last_round\n",
    "pct_controlled_aura_by_council_active = total_gravi_vp_for_digg / aura_voting_actively_last_round\n",
    "data = [[treasury_votes, council_fee, total_vp_badgerdao, gravi_in_digg_pool, pct_format(pct_controlled_aura_by_badger), pct_format(pct_controlled_aura_by_badger_active)]]\n",
    "headers = [\"Treasury VP\", \"Council Fee\", \"Total Badger VP\", \"Gravi in Digg pool\", \"Badger Aura Controlled - everyone Votes\", \"Badger Aura Controlled - proactive voters\"]\n",
    "df_vp = pd.DataFrame(data, columns=headers)\n",
    "df_vp"
   ]
  },
  {
   "cell_type": "code",
   "execution_count": 8,
   "metadata": {},
   "outputs": [
    {
     "data": {
      "text/html": [
       "<div>\n",
       "<style scoped>\n",
       "    .dataframe tbody tr th:only-of-type {\n",
       "        vertical-align: middle;\n",
       "    }\n",
       "\n",
       "    .dataframe tbody tr th {\n",
       "        vertical-align: top;\n",
       "    }\n",
       "\n",
       "    .dataframe thead th {\n",
       "        text-align: right;\n",
       "    }\n",
       "</style>\n",
       "<table border=\"1\" class=\"dataframe\">\n",
       "  <thead>\n",
       "    <tr style=\"text-align: right;\">\n",
       "      <th></th>\n",
       "      <th>Aura veBAL controlled</th>\n",
       "      <th>Badger veBAL controlled - everyone votes</th>\n",
       "      <th>Badger veBAL controlled - proactive voters</th>\n",
       "    </tr>\n",
       "  </thead>\n",
       "  <tbody>\n",
       "    <tr>\n",
       "      <th>0</th>\n",
       "      <td>24.711%</td>\n",
       "      <td>0.872%</td>\n",
       "      <td>0.959%</td>\n",
       "    </tr>\n",
       "  </tbody>\n",
       "</table>\n",
       "</div>"
      ],
      "text/plain": [
       "  Aura veBAL controlled Badger veBAL controlled - everyone votes  \\\n",
       "0               24.711%                                   0.872%   \n",
       "\n",
       "  Badger veBAL controlled - proactive voters  \n",
       "0                                     0.959%  "
      ]
     },
     "execution_count": 8,
     "metadata": {},
     "output_type": "execute_result"
    }
   ],
   "source": [
    "vebal = Contract(\"0xC128a9954e6c874eA3d62ce62B468bA073093F25\")\n",
    "vebal_ts = vebal.totalSupplyAt(block_current_proposal) / 1e18\n",
    "vebal_aura_controlled = vebal.balanceOfAt(\"0xaF52695E1bB01A16D33D7194C28C42b10e0Dbec2\", block_current_proposal)/1e18\n",
    "pct_aura_vebal_controlled = vebal_aura_controlled/vebal_ts\n",
    "pct_badger_vebal_controlled = pct_controlled_aura_by_badger*pct_aura_vebal_controlled\n",
    "pct_badger_vebal_controlled_active = pct_controlled_aura_by_badger_active*pct_aura_vebal_controlled\n",
    "pct_council_vebal_controlled_active = pct_controlled_aura_by_council_active * pct_aura_vebal_controlled\n",
    "data = [[pct_format(pct_aura_vebal_controlled), pct_format(pct_badger_vebal_controlled), pct_format(pct_badger_vebal_controlled_active)]]\n",
    "headers = [\"Aura veBAL controlled\", \"Badger veBAL controlled - everyone votes\", \"Badger veBAL controlled - proactive voters\"]\n",
    "df_vebal = pd.DataFrame(data, columns=headers)\n",
    "df_vebal"
   ]
  },
  {
   "cell_type": "code",
   "execution_count": 9,
   "metadata": {},
   "outputs": [
    {
     "data": {
      "text/html": [
       "<div>\n",
       "<style scoped>\n",
       "    .dataframe tbody tr th:only-of-type {\n",
       "        vertical-align: middle;\n",
       "    }\n",
       "\n",
       "    .dataframe tbody tr th {\n",
       "        vertical-align: top;\n",
       "    }\n",
       "\n",
       "    .dataframe thead th {\n",
       "        text-align: right;\n",
       "    }\n",
       "</style>\n",
       "<table border=\"1\" class=\"dataframe\">\n",
       "  <thead>\n",
       "    <tr style=\"text-align: right;\">\n",
       "      <th></th>\n",
       "      <th>veBAL badger/wbtc pool Max Cap</th>\n",
       "      <th>veBAL BADGER controlled</th>\n",
       "      <th>$ Cost of bribe</th>\n",
       "      <th>Badger Bribe Max Cap</th>\n",
       "    </tr>\n",
       "  </thead>\n",
       "  <tbody>\n",
       "    <tr>\n",
       "      <th>0</th>\n",
       "      <td>219682.255836</td>\n",
       "      <td>105333.471481</td>\n",
       "      <td>$11820.3939</td>\n",
       "      <td>3717.105012</td>\n",
       "    </tr>\n",
       "  </tbody>\n",
       "</table>\n",
       "</div>"
      ],
      "text/plain": [
       "   veBAL badger/wbtc pool Max Cap  veBAL BADGER controlled $ Cost of bribe  \\\n",
       "0                   219682.255836            105333.471481     $11820.3939   \n",
       "\n",
       "   Badger Bribe Max Cap  \n",
       "0           3717.105012  "
      ]
     },
     "execution_count": 9,
     "metadata": {},
     "output_type": "execute_result"
    }
   ],
   "source": [
    "# NOTE: block breakdown for badger/wbtc max cap\n",
    "vebal_controlled = vebal_ts * pct_badger_vebal_controlled_active\n",
    "vebal_max_cap = vebal_ts * (GAUGE_CAP)\n",
    "vebal_required = vebal_max_cap - vebal_controlled\n",
    "cost_max_cap = vebal_required * cost_per_vote_vebal\n",
    "badger_to_bribe = cost_max_cap / badger_price\n",
    "data = [[vebal_max_cap, vebal_controlled, dollar_format(cost_max_cap), badger_to_bribe]]\n",
    "headers = [\"veBAL badger/wbtc pool Max Cap\", \"veBAL BADGER controlled\", \"$ Cost of bribe\", \"Badger Bribe Max Cap\"]\n",
    "df_bribes_badger_pool = pd.DataFrame(data, columns=headers)\n",
    "df_bribes_badger_pool"
   ]
  },
  {
   "cell_type": "code",
   "execution_count": 10,
   "metadata": {},
   "outputs": [
    {
     "data": {
      "text/html": [
       "<div>\n",
       "<style scoped>\n",
       "    .dataframe tbody tr th:only-of-type {\n",
       "        vertical-align: middle;\n",
       "    }\n",
       "\n",
       "    .dataframe tbody tr th {\n",
       "        vertical-align: top;\n",
       "    }\n",
       "\n",
       "    .dataframe thead th {\n",
       "        text-align: right;\n",
       "    }\n",
       "</style>\n",
       "<table border=\"1\" class=\"dataframe\">\n",
       "  <thead>\n",
       "    <tr style=\"text-align: right;\">\n",
       "      <th></th>\n",
       "      <th>Bribe max cap wbtc/badger</th>\n",
       "      <th>Remaining bribe reth/badger</th>\n",
       "    </tr>\n",
       "  </thead>\n",
       "  <tbody>\n",
       "    <tr>\n",
       "      <th>0</th>\n",
       "      <td>3717.105012</td>\n",
       "      <td>12282.894988</td>\n",
       "    </tr>\n",
       "  </tbody>\n",
       "</table>\n",
       "</div>"
      ],
      "text/plain": [
       "   Bribe max cap wbtc/badger  Remaining bribe reth/badger\n",
       "0                3717.105012                 12282.894988"
      ]
     },
     "execution_count": 10,
     "metadata": {},
     "output_type": "execute_result"
    }
   ],
   "source": [
    "# NOTE: remaining bribes budget to reallocate\n",
    "remaining_bribe = MAX_BRIBE - badger_to_bribe\n",
    "data = [[badger_to_bribe, remaining_bribe]]\n",
    "headers = [\"Bribe max cap wbtc/badger\", \"Remaining bribe reth/badger\"]\n",
    "df_bribes_split = pd.DataFrame(data, columns=headers)\n",
    "df_bribes_split"
   ]
  },
  {
   "cell_type": "code",
   "execution_count": 11,
   "metadata": {},
   "outputs": [
    {
     "data": {
      "text/html": [
       "<div>\n",
       "<style scoped>\n",
       "    .dataframe tbody tr th:only-of-type {\n",
       "        vertical-align: middle;\n",
       "    }\n",
       "\n",
       "    .dataframe tbody tr th {\n",
       "        vertical-align: top;\n",
       "    }\n",
       "\n",
       "    .dataframe thead th {\n",
       "        text-align: right;\n",
       "    }\n",
       "</style>\n",
       "<table border=\"1\" class=\"dataframe\">\n",
       "  <thead>\n",
       "    <tr style=\"text-align: right;\">\n",
       "      <th></th>\n",
       "      <th>$ Cost of Bribe</th>\n",
       "      <th>veBAL Bribe Bought</th>\n",
       "    </tr>\n",
       "  </thead>\n",
       "  <tbody>\n",
       "    <tr>\n",
       "      <th>0</th>\n",
       "      <td>39059.606061</td>\n",
       "      <td>3.440%</td>\n",
       "    </tr>\n",
       "  </tbody>\n",
       "</table>\n",
       "</div>"
      ],
      "text/plain": [
       "   $ Cost of Bribe veBAL Bribe Bought\n",
       "0     39059.606061             3.440%"
      ]
     },
     "execution_count": 11,
     "metadata": {},
     "output_type": "execute_result"
    }
   ],
   "source": [
    "# NOTE: block breakdown for badger/reth remaining bribe\n",
    "cost_of_remaining_bribe = remaining_bribe * badger_price\n",
    "vebal_vp_bought = cost_of_remaining_bribe / cost_per_vote_vebal\n",
    "vebal_pct_weight_bought = vebal_vp_bought / vebal_ts \n",
    "data = [[cost_of_remaining_bribe, pct_format(vebal_pct_weight_bought)]]\n",
    "headers = [\"$ Cost of Bribe\", \"veBAL Bribe Bought\"]\n",
    "df_bribes_badger_reth_pool = pd.DataFrame(data, columns=headers)\n",
    "df_bribes_badger_reth_pool"
   ]
  },
  {
   "cell_type": "code",
   "execution_count": 12,
   "metadata": {},
   "outputs": [
    {
     "data": {
      "text/html": [
       "<div>\n",
       "<style scoped>\n",
       "    .dataframe tbody tr th:only-of-type {\n",
       "        vertical-align: middle;\n",
       "    }\n",
       "\n",
       "    .dataframe tbody tr th {\n",
       "        vertical-align: top;\n",
       "    }\n",
       "\n",
       "    .dataframe thead th {\n",
       "        text-align: right;\n",
       "    }\n",
       "</style>\n",
       "<table border=\"1\" class=\"dataframe\">\n",
       "  <thead>\n",
       "    <tr style=\"text-align: right;\">\n",
       "      <th></th>\n",
       "      <th>Pool yield (USD) - biweekly</th>\n",
       "      <th>BADGER Pool TVL</th>\n",
       "      <th>BADGER Pool Capture</th>\n",
       "      <th>Treasury yield earned (USD) - biweekly</th>\n",
       "      <th>Treasury ROI - biweekly</th>\n",
       "    </tr>\n",
       "  </thead>\n",
       "  <tbody>\n",
       "    <tr>\n",
       "      <th>0</th>\n",
       "      <td>$72961.3462</td>\n",
       "      <td>$9814051.2835</td>\n",
       "      <td>27.564%</td>\n",
       "      <td>$20110.9099</td>\n",
       "      <td>170.137%</td>\n",
       "    </tr>\n",
       "  </tbody>\n",
       "</table>\n",
       "</div>"
      ],
      "text/plain": [
       "  Pool yield (USD) - biweekly BADGER Pool TVL BADGER Pool Capture  \\\n",
       "0                 $72961.3462   $9814051.2835             27.564%   \n",
       "\n",
       "  Treasury yield earned (USD) - biweekly Treasury ROI - biweekly  \n",
       "0                            $20110.9099                170.137%  "
      ]
     },
     "execution_count": 12,
     "metadata": {},
     "output_type": "execute_result"
    }
   ],
   "source": [
    "# treasury expected earnings bi-weekly expectation in BADGER/WBTC pool\n",
    "tvl_badger = get_tvl_balancer_badger_pool()\n",
    "badger_pool = Contract(\"0xb460DAa847c45f1C4a41cb05BFB3b51c92e41B36\")\n",
    "pool_supply = badger_pool.totalSupply() / 1e18\n",
    "reward_badger_aura = Contract(\"0x4efc8ded860bc472fa8d938dc3fd4946bc1a0a18\")\n",
    "vault_rewards_contract_balance = reward_badger_aura.balanceOf(\"0xD0A7A8B98957b9CD3cFB9c0425AbE44551158e9e\", block_identifier=block_current_proposal)/1e18\n",
    "vault_owned_tcl = tvl_badger * (vault_rewards_contract_balance/pool_supply)\n",
    "pool_capture = vault_owned_tcl / tvl_badger\n",
    "pool_earnings = biweekly_emissions * GAUGE_CAP\n",
    "treasury_roi = (pool_earnings*pool_capture) / cost_max_cap\n",
    "data = [[dollar_format(pool_earnings), dollar_format(tvl_badger), pct_format(pool_capture), dollar_format(pool_earnings*pool_capture), pct_format(treasury_roi)]]\n",
    "headers = [\"Pool yield (USD) - biweekly\", \"BADGER Pool TVL\", \"BADGER Pool Capture\", \"Treasury yield earned (USD) - biweekly\", \"Treasury ROI - biweekly\"]\n",
    "df_earnings_badger_wbtc_pool = pd.DataFrame(data, columns=headers)\n",
    "df_earnings_badger_wbtc_pool"
   ]
  },
  {
   "cell_type": "code",
   "execution_count": 14,
   "metadata": {},
   "outputs": [
    {
     "data": {
      "text/html": [
       "<div>\n",
       "<style scoped>\n",
       "    .dataframe tbody tr th:only-of-type {\n",
       "        vertical-align: middle;\n",
       "    }\n",
       "\n",
       "    .dataframe tbody tr th {\n",
       "        vertical-align: top;\n",
       "    }\n",
       "\n",
       "    .dataframe thead th {\n",
       "        text-align: right;\n",
       "    }\n",
       "</style>\n",
       "<table border=\"1\" class=\"dataframe\">\n",
       "  <thead>\n",
       "    <tr style=\"text-align: right;\">\n",
       "      <th></th>\n",
       "      <th>Pool yield (USD) - biweekly</th>\n",
       "      <th>BADGER Pool TVL</th>\n",
       "      <th>BADGER Pool Capture</th>\n",
       "      <th>Treasury yield earned (USD) - biweekly</th>\n",
       "      <th>Treasury ROI - biweekly</th>\n",
       "    </tr>\n",
       "  </thead>\n",
       "  <tbody>\n",
       "    <tr>\n",
       "      <th>0</th>\n",
       "      <td>$364806.7309</td>\n",
       "      <td>$19658822.1521</td>\n",
       "      <td>26.034%</td>\n",
       "      <td>$94975.4174</td>\n",
       "      <td>243.155%</td>\n",
       "    </tr>\n",
       "  </tbody>\n",
       "</table>\n",
       "</div>"
      ],
      "text/plain": [
       "  Pool yield (USD) - biweekly BADGER Pool TVL BADGER Pool Capture  \\\n",
       "0                $364806.7309  $19658822.1521             26.034%   \n",
       "\n",
       "  Treasury yield earned (USD) - biweekly Treasury ROI - biweekly  \n",
       "0                            $94975.4174                243.155%  "
      ]
     },
     "execution_count": 14,
     "metadata": {},
     "output_type": "execute_result"
    }
   ],
   "source": [
    "# treasury expected earnings bi-weekly expectation in BADGER/RETH pool\n",
    "tvl_rethbadger = get_tvl_balancer_badgerreth_pool()\n",
    "badgereth_pool = Contract(\"0xe340EBfcAA544da8bB1Ee9005F1a346D50Ec422e\")\n",
    "pool_badgereth_supply = badgereth_pool.totalSupply() / 1e18\n",
    "reward_badger_aura = Contract(\"0x4e867c6c76173539538b7a9335e89b00434aec10\")\n",
    "vault_rewards_contract_balance = reward_badger_aura.balanceOf(\"0xD0A7A8B98957b9CD3cFB9c0425AbE44551158e9e\", block_identifier=block_current_proposal)/1e18\n",
    "vault_owned_tcl = tvl_rethbadger * (vault_rewards_contract_balance/pool_badgereth_supply)\n",
    "pool_capture = vault_owned_tcl / tvl_rethbadger\n",
    "# NOTE: since self-incentive parties are voting also for this guage its reaching its nearly its max cap\n",
    "vebal_pct_weight_bought = .1\n",
    "pool_earnings = biweekly_emissions * vebal_pct_weight_bought\n",
    "treasury_roi = (pool_earnings*pool_capture) / cost_of_remaining_bribe\n",
    "data = [[dollar_format(pool_earnings), dollar_format(tvl_rethbadger), pct_format(pool_capture), dollar_format(pool_earnings*pool_capture), pct_format(treasury_roi)]]\n",
    "headers = [\"Pool yield (USD) - biweekly\", \"BADGER Pool TVL\", \"BADGER Pool Capture\", \"Treasury yield earned (USD) - biweekly\", \"Treasury ROI - biweekly\"]\n",
    "df_earnings_badger_reth_pool = pd.DataFrame(data, columns=headers)\n",
    "df_earnings_badger_reth_pool"
   ]
  }
 ],
 "metadata": {
  "kernelspec": {
   "display_name": "INCENTIVES_RESEARCH",
   "language": "python",
   "name": "python3"
  },
  "language_info": {
   "codemirror_mode": {
    "name": "ipython",
    "version": 3
   },
   "file_extension": ".py",
   "mimetype": "text/x-python",
   "name": "python",
   "nbconvert_exporter": "python",
   "pygments_lexer": "ipython3",
   "version": "3.8.10"
  },
  "orig_nbformat": 2,
  "vscode": {
   "interpreter": {
    "hash": "04122ff8a7d488e794cce345ab8f1eb1f422779e0dcd2592cff671787266cf0a"
   }
  }
 },
 "nbformat": 4,
 "nbformat_minor": 2
}
